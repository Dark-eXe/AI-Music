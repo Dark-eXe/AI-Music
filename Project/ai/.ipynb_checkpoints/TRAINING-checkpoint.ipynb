{
 "cells": [
  {
   "cell_type": "markdown",
   "id": "5ab146f5",
   "metadata": {},
   "source": [
    "# Training"
   ]
  },
  {
   "cell_type": "code",
   "execution_count": 1,
   "id": "f1fedc24",
   "metadata": {},
   "outputs": [],
   "source": [
    "# !pip install music21\n",
    "from music21 import *\n",
    "import numpy as np\n",
    "import os\n",
    "from collections import Counter\n",
    "from fractions import Fraction\n",
    "\n",
    "# !pip install tensorflow\n",
    "from keras.layers import *\n",
    "from keras.models import *\n",
    "from keras.callbacks import *\n",
    "import keras.backend as K\n",
    "import tensorboard\n",
    "import tensorflow as tf\n",
    "from datetime import datetime\n",
    "\n",
    "# !pip install sklearn\n",
    "from sklearn.model_selection import train_test_split"
   ]
  },
  {
   "cell_type": "code",
   "execution_count": null,
   "id": "1cfbb3b7",
   "metadata": {},
   "outputs": [],
   "source": [
    "%load_ext tensorboard"
   ]
  },
  {
   "cell_type": "code",
   "execution_count": 152,
   "id": "24926757",
   "metadata": {},
   "outputs": [],
   "source": [
    "inst = 'Violin'\n",
    "artist = 'Vivaldi'"
   ]
  },
  {
   "cell_type": "markdown",
   "id": "c312431c",
   "metadata": {},
   "source": [
    "$ instrument \\in \\{Piano, Violin, Flute, Horn, Vocal\\} $ <br><br>\n",
    "$ instrument = Piano \\rightarrow artist \\in \\{Bach, Chopin, Debussy, Ellington, Corea, Anime\\}$<br>\n",
    "$ instrument = Violin \\rightarrow artist \\in \\{Mozart, Paganini, Vivaldi\\}$ <br>\n",
    "$ instrument = Flute \\rightarrow artist \\in \\{Brahms, Wagner\\}$ <br>\n",
    "$ instrument = Horn \\rightarrow artist \\in \\{Mozart, Strauss\\}$ <br>\n",
    "$ instrument = Vocal \\rightarrow artist \\in \\{DaftPunk, Jazz, Pop\\}$"
   ]
  },
  {
   "cell_type": "code",
   "execution_count": 153,
   "id": "3944134f",
   "metadata": {},
   "outputs": [],
   "source": [
    "# file references\n",
    "path = \"train_music/\" + inst + artist + \"/\"\n",
    "model_name = inst + artist + \".keras\"\n",
    "\n",
    "unique_x_file = inst + artist + \"_unique.txt\"\n",
    "xval_file = inst + artist + \"_x.txt\""
   ]
  },
  {
   "cell_type": "code",
   "execution_count": 154,
   "id": "03649e94",
   "metadata": {},
   "outputs": [],
   "source": [
    "# hyperparameters\n",
    "epochs=100 # number of times model runs through train data during training\n",
    "frequentNoteMin = 10 # model only counts \"frequent\" notes, specify number times a note/rhythm must appear in train music to be counted\n",
    "validation=False # include val loss as metric for training - only set to True if overfitting is a clear issue\n",
    "no_of_timesteps = 32 # SENSITIVE - DO NOT MODIFY, HERE FOR EXPERIMENTAL REASONS, length of sequence to determine next note/rhythm in sequence"
   ]
  },
  {
   "cell_type": "code",
   "execution_count": 155,
   "id": "3be387ab",
   "metadata": {},
   "outputs": [],
   "source": [
    "def read_midi(file, inst):\n",
    "    \n",
    "    print(\"Loading Music File:\",file)\n",
    "    \n",
    "    notes=[]\n",
    "    notes_to_parse = None\n",
    "    \n",
    "    #parsing a midi file\n",
    "    midi = converter.parse(file)\n",
    "    #midi.show()\n",
    "  \n",
    "    #grouping based on different instruments\n",
    "    s2 = instrument.partitionByInstrument(midi)\n",
    "\n",
    "    #Looping over all the instruments\n",
    "    for part in s2.parts:\n",
    "    \n",
    "        #select elements of only the selected instrument\n",
    "        if inst in str(part): \n",
    "        \n",
    "            notes_to_parse = part.recurse() \n",
    "      \n",
    "            #finding whether a particular element is note or a chord\n",
    "            for element in notes_to_parse:\n",
    "                \n",
    "                #note\n",
    "                if isinstance(element, note.Note):\n",
    "                    notes.append((str(element.pitch), element.quarterLength))\n",
    "                \n",
    "                #chord\n",
    "                elif isinstance(element, chord.Chord):\n",
    "                    notes.append(('.'.join(str(n) for n in element.normalOrder), element.quarterLength))\n",
    "                    \n",
    "                #rest\n",
    "                elif isinstance(element, note.Rest):\n",
    "                    notes.append(('rest', element.quarterLength))\n",
    "\n",
    "    return notes"
   ]
  },
  {
   "cell_type": "markdown",
   "id": "cee298d4",
   "metadata": {},
   "source": [
    "### Extract Note Sequences"
   ]
  },
  {
   "cell_type": "code",
   "execution_count": 156,
   "id": "1a447c30",
   "metadata": {},
   "outputs": [
    {
     "name": "stdout",
     "output_type": "stream",
     "text": [
      "Loading notes...\n",
      "Loading Music File: train_music/ViolinVivaldi/autumn_no3_allegro_gp.mid\n",
      "Loading Music File: train_music/ViolinVivaldi/gp_v04.mid\n",
      "Loading Music File: train_music/ViolinVivaldi/gp_v10.mid\n",
      "Loading Music File: train_music/ViolinVivaldi/391violcon5.mid\n",
      "Loading Music File: train_music/ViolinVivaldi/gp_v11.mid\n",
      "Loading Music File: train_music/ViolinVivaldi/gp_v05.mid\n",
      "Loading Music File: train_music/ViolinVivaldi/1539mando2.mid\n",
      "Loading Music File: train_music/ViolinVivaldi/gp_v07.mid\n",
      "Loading Music File: train_music/ViolinVivaldi/1532avautunno1.mid\n",
      "Loading Music File: train_music/ViolinVivaldi/3336gmrv433n3.mid\n"
     ]
    },
    {
     "name": "stderr",
     "output_type": "stream",
     "text": [
      "/Users/andrewturangan/miniconda3/lib/python3.11/site-packages/music21/midi/translate.py:874: TranslateWarning: Unable to determine instrument from <music21.midi.MidiEvent SEQUENCE_TRACK_NAME, track=0, channel=None, data=b'\\x8aC\\x82\\xcc\\x97\\x92                                                          '>; getting generic Instrument\n",
      "  warnings.warn(\n"
     ]
    },
    {
     "name": "stdout",
     "output_type": "stream",
     "text": [
      "Loading Music File: train_music/ViolinVivaldi/spring_no1_allegro_gp.mid\n",
      "Loading Music File: train_music/ViolinVivaldi/gp_v06.mid\n",
      "Loading Music File: train_music/ViolinVivaldi/gp_v12.mid\n",
      "Loading Music File: train_music/ViolinVivaldi/grosso3.mid\n"
     ]
    },
    {
     "name": "stderr",
     "output_type": "stream",
     "text": [
      "/Users/andrewturangan/miniconda3/lib/python3.11/site-packages/music21/midi/translate.py:874: TranslateWarning: Unable to determine instrument from <music21.midi.MidiEvent SEQUENCE_TRACK_NAME, track=4, channel=None, data=b'\\xa919999 mjstarke'>; getting generic Instrument\n",
      "  warnings.warn(\n"
     ]
    },
    {
     "name": "stdout",
     "output_type": "stream",
     "text": [
      "Loading Music File: train_music/ViolinVivaldi/390cello.mid\n",
      "Loading Music File: train_music/ViolinVivaldi/3770piccolafluteconclargop79.mid\n",
      "Loading Music File: train_music/ViolinVivaldi/gp_v02.mid\n",
      "Loading Music File: train_music/ViolinVivaldi/gp_v03.mid\n",
      "Loading Music File: train_music/ViolinVivaldi/gp_v01.mid\n",
      "Loading Music File: train_music/ViolinVivaldi/355summer1.mid\n",
      "Loading Music File: train_music/ViolinVivaldi/2205winter3.mid\n",
      "Loading Music File: train_music/ViolinVivaldi/3340vivc2.mid\n",
      "Loading Music File: train_music/ViolinVivaldi/1538mando1.mid\n",
      "Loading Music File: train_music/ViolinVivaldi/1535hvivaldg.mid\n",
      "Loading Music File: train_music/ViolinVivaldi/summer_no3_presto_gp.mid\n",
      "Loading Music File: train_music/ViolinVivaldi/3341vivc1.mid\n",
      "Loading Music File: train_music/ViolinVivaldi/3338grmv433n1.mid\n",
      "Loading Music File: train_music/ViolinVivaldi/427autumn3.mid\n",
      "Loading Music File: train_music/ViolinVivaldi/winter_no3_allegro_gp.mid\n",
      "Loading Music File: train_music/ViolinVivaldi/354winter3.mid\n",
      "Loading Music File: train_music/ViolinVivaldi/vivconct.mid\n",
      "Loading Music File: train_music/ViolinVivaldi/392violcon7.mid\n",
      "Loading Music File: train_music/ViolinVivaldi/spring_no3_allegro_gp.mid\n",
      "Loading Music File: train_music/ViolinVivaldi/autumn_no1_allegro_gp.mid\n",
      "Loading Music File: train_music/ViolinVivaldi/2204winter1.mid\n",
      "Loading Music File: train_music/ViolinVivaldi/3339vivc3.mid\n",
      "Loading Music File: train_music/ViolinVivaldi/summer_no4_allegro_gp.mid\n",
      "Loading Music File: train_music/ViolinVivaldi/2230Summer3.mid\n",
      "Loading Music File: train_music/ViolinVivaldi/spring_no2_adagio_gp.mid\n",
      "Loading Music File: train_music/ViolinVivaldi/winter_no1_allegro_non_molto_gp.mid\n",
      "Loading Music File: train_music/ViolinVivaldi/3768vierjaargetijdenlentedeeln3.mid\n",
      "Loading Music File: train_music/ViolinVivaldi/1981vivaldidoubletpt.mid\n",
      "Loading Music File: train_music/ViolinVivaldi/av-p323.mid\n"
     ]
    },
    {
     "name": "stderr",
     "output_type": "stream",
     "text": [
      "/Users/andrewturangan/miniconda3/lib/python3.11/site-packages/music21/midi/translate.py:874: TranslateWarning: Unable to determine instrument from <music21.midi.MidiEvent SEQUENCE_TRACK_NAME, track=3, channel=None, data=b'\\xa91997mjstarke'>; getting generic Instrument\n",
      "  warnings.warn(\n"
     ]
    },
    {
     "name": "stdout",
     "output_type": "stream",
     "text": [
      "Loading Music File: train_music/ViolinVivaldi/1537magnsicutoc.mid\n",
      "Loading Music File: train_music/ViolinVivaldi/autumn_no2_adagio_gp.mid\n",
      "Loading Music File: train_music/ViolinVivaldi/1540mando3.mid\n",
      "Loading Music File: train_music/ViolinVivaldi/viv_2t.mid\n",
      "Loading Music File: train_music/ViolinVivaldi/1534hvivalda.mid\n",
      "Loading Music File: train_music/ViolinVivaldi/winter_no2_largo_gp.mid\n",
      "Loading Music File: train_music/ViolinVivaldi/2231con8Gminor.mid\n",
      "Loading Music File: train_music/ViolinVivaldi/1530seasonwinter1.mid\n",
      "Loading Music File: train_music/ViolinVivaldi/816bminor.mid\n",
      "Loading Music File: train_music/ViolinVivaldi/1533avautunno2.mid\n",
      "Loading Music File: train_music/ViolinVivaldi/summer_no5_adagio_gp.mid\n",
      "Loading Music File: train_music/ViolinVivaldi/3337grmv433n2.mid\n",
      "Loading Music File: train_music/ViolinVivaldi/gp_v08.mid\n",
      "Loading Music File: train_music/ViolinVivaldi/viv_pic.mid\n",
      "Loading Music File: train_music/ViolinVivaldi/3769vierjaargetijdenlentedeeln1.mid\n",
      "Loading Music File: train_music/ViolinVivaldi/adtesus.mid\n",
      "Loading Music File: train_music/ViolinVivaldi/gp_v09.mid\n"
     ]
    }
   ],
   "source": [
    "#read all the filenames\n",
    "files=[i for i in os.listdir(path) if i.endswith(\".mid\")]\n",
    "\n",
    "#reading each midi file\n",
    "print(\"Loading notes...\")\n",
    "notes_array = [read_midi(path+i, inst) for i in files]"
   ]
  },
  {
   "cell_type": "markdown",
   "id": "de457c14",
   "metadata": {},
   "source": [
    "#### Sample Train Music\n",
    "**** you do not have to run this part for training"
   ]
  },
  {
   "cell_type": "code",
   "execution_count": 7,
   "id": "7659ae72",
   "metadata": {},
   "outputs": [],
   "source": [
    "sampleIndex = 0\n",
    "notes_list = []\n",
    "offset = 0\n",
    "for note_tuple in notes_array[sampleIndex]:\n",
    "    if ('.' in note_tuple[0]) or note_tuple[0].isdigit(): #chord\n",
    "        notes_in_chord = note_tuple[0].split('.')\n",
    "        notes = []\n",
    "        for current_note in notes_in_chord: \n",
    "            cn=int(current_note)\n",
    "            new_note = note.Note(cn)\n",
    "            new_note.quarterLength = note_tuple[1]\n",
    "            notes.append(new_note)\n",
    "            \n",
    "        new_chord = chord.Chord(notes)\n",
    "        new_chord.offset = offset\n",
    "        notes_list.append(new_chord)\n",
    "    elif 'rest' in note_tuple[0]: #rest\n",
    "        new_rest = note.Rest(quarterLength=note_tuple[1])\n",
    "        notes_list.append(new_rest)\n",
    "    else:\n",
    "        new_note = note.Note(note_tuple[0])\n",
    "        new_note.quarterLength = note_tuple[1]\n",
    "        notes_list.append(new_note)\n",
    "\n",
    "s = stream.Score()\n",
    "s.insert(0, metadata.Metadata())\n",
    "s.metadata.title = \"Sample Train Music\"\n",
    "s.append(notes_list)"
   ]
  },
  {
   "cell_type": "code",
   "execution_count": 9,
   "id": "be691fe2",
   "metadata": {},
   "outputs": [],
   "source": [
    "#s.show()"
   ]
  },
  {
   "cell_type": "code",
   "execution_count": 10,
   "id": "1f448710",
   "metadata": {},
   "outputs": [
    {
     "data": {
      "text/html": [
       "\n",
       "        <div id=\"midiPlayerDiv5715112\"></div>\n",
       "        <link rel=\"stylesheet\" href=\"https://cuthbertLab.github.io/music21j/css/m21.css\">\n",
       "        \n",
       "        <script\n",
       "        src=\"https://cdnjs.cloudflare.com/ajax/libs/require.js/2.3.6/require.min.js\"\n",
       "        ></script>\n",
       "    \n",
       "        <script>\n",
       "        function midiPlayerDiv5715112_play() {\n",
       "            const rq = require.config({\n",
       "                paths: {\n",
       "                    'music21': 'https://cuthbertLab.github.io/music21j/releases/music21.debug',\n",
       "                }\n",
       "            });\n",
       "            rq(['music21'], function(music21) {\n",
       "                mp = new music21.miditools.MidiPlayer();\n",
       "                mp.addPlayer(\"#midiPlayerDiv5715112\");\n",
       "                mp.base64Load(\"data:audio/midi;base64,TVRoZAAAAAYAAQACJ2BNVHJrAAAAFAD/UQMHoSAA/1gEBAIYCM5g/y8ATVRyawAAFwYA/wMAAOAAQPYQkDxagZ1AgDwAAJBAWoGJaIBAAACQQ1qTWIBDAACQSFqTWIBIAACQTFqTWIBMAACQQ1qTWIBDAACQSFqTWIBIAACQTFqTWIBMAKcwkDxagZ1AgDwAAJBAWoGJaIBAAACQQ1qTWIBDAACQSFqTWIBIAACQTFqTWIBMAACQQ1qTWIBDAACQSFqTWIBIAACQTFqTWIBMAKcwkDxagZ1AgDwAAJA+WoGJaIA+AACQRVqTWIBFAACQSlqTWIBKAACQTVqTWIBNAACQRVqTWIBFAACQSlqTWIBKAACQTVqTWIBNAKcwkDxagZ1AgDwAAJA+WoGJaIA+AACQRVqTWIBFAACQSlqTWIBKAACQTVqTWIBNAACQRVqTWIBFAACQSlqTWIBKAACQTVqTWIBNAKcwkDtagZ1AgDsAAJA+WoGJaIA+AACQQ1qTWIBDAACQSlqTWIBKAACQTVqTWIBNAACQQ1qTWIBDAACQSlqTWIBKAACQTVqTWIBNAKcwkDtagZ1AgDsAAJA+WoGJaIA+AACQQ1qTWIBDAACQSlqTWIBKAACQTVqTWIBNAACQQ1qTWIBDAACQSlqTWIBKAACQTVqTWIBNAKcwkDxagZ1AgDwAAJBAWoGJaIBAAACQQ1qTWIBDAACQSFqTWIBIAACQTFqTWIBMAACQQ1qTWIBDAACQSFqTWIBIAACQTFqTWIBMAKcwkDxagZ1AgDwAAJBAWoGJaIBAAACQQ1qTWIBDAACQSFqTWIBIAACQTFqTWIBMAACQQ1qTWIBDAACQSFqTWIBIAACQTFqTWIBMAKcwkDxagZ1AgDwAAJBAWoGJaIBAAACQQ1qTWIBDAACQSFqTWIBIAACQTFqTWIBMAACQQ1qTWIBDAACQSFqTWIBIAACQTFqTWIBMAKcwkDxagZ1AgDwAAJBAWoGJaIBAAACQQ1qTWIBDAACQSFqTWIBIAACQTFqTWIBMAACQQ1qTWIBDAACQSFqTWIBIAACQTFqTWIBMAKcwkDxagZ1AgDwAAJA+WoGJaIA+AACQRVqTWIBFAACQSlqTWIBKAACQTVqTWIBNAACQRVqTWIBFAACQSlqTWIBKAACQTVqTWIBNAKcwkDxagZ1AgDwAAJA+WoGJaIA+AACQRVqTWIBFAACQSlqTWIBKAACQTVqTWIBNAACQRVqTWIBFAACQSlqTWIBKAACQTVqTWIBNAKcwkDtagZ1AgDsAAJA+WoGJaIA+AACQQ1qTWIBDAACQSlqTWIBKAACQTVqTWIBNAACQQ1qTWIBDAACQSlqTWIBKAACQTVqTWIBNAKcwkDtagZ1AgDsAAJA+WoGJaIA+AACQQ1qTWIBDAACQSlqTWIBKAACQTVqTWIBNAACQQ1qTWIBDAACQSlqTWIBKAACQTVqTWIBNAKcwkDxagZ1AgDwAAJBAWoGJaIBAAACQQ1qTWIBDAACQSFqTWIBIAACQTFqTWIBMAACQQ1qTWIBDAACQSFqTWIBIAACQTFqTWIBMAKcwkDxagZ1AgDwAAJBAWoGJaIBAAACQQ1qTWIBDAACQSFqTWIBIAACQTFqTWIBMAACQQ1qTWIBDAACQSFqTWIBIAACQTFqTWIBMAKcwkDxagZ1AgDwAAJBAWoGJaIBAAACQRVqTWIBFAACQTFqTWIBMAACQUVqTWIBRAACQRVqTWIBFAACQTFqTWIBMAACQUVqTWIBRAKcwkDxagZ1AgDwAAJBAWoGJaIBAAACQRVqTWIBFAACQTFqTWIBMAACQUVqTWIBRAACQRVqTWIBFAACQTFqTWIBMAACQUVqTWIBRAKcwkDxagZ1AgDwAAJA+WoGJaIA+AACQQlqTWIBCAACQRVqTWIBFAACQSlqTWIBKAACQQlqTWIBCAACQRVqTWIBFAACQSlqTWIBKAKcwkDxagZ1AgDwAAJA+WoGJaIA+AACQQlqTWIBCAACQRVqTWIBFAACQSlqTWIBKAACQQlqTWIBCAACQRVqTWIBFAACQSlqTWIBKAKcwkDtagZ1AgDsAAJA+WoGJaIA+AACQQ1qTWIBDAACQSlqTWIBKAACQT1qTWIBPAACQQ1qTWIBDAACQSlqTWIBKAACQT1qTWIBPAKcwkDtagZ1AgDsAAJA+WoGJaIA+AACQQ1qTWIBDAACQSlqTWIBKAACQT1qTWIBPAACQQ1qTWIBDAACQSlqTWIBKAACQT1qTWIBPAKcwkDtagZ1AgDsAAJA8WoGJaIA8AACQQFqTWIBAAACQQ1qTWIBDAACQSFqTWIBIAACQQFqTWIBAAACQQ1qTWIBDAACQSFqTWIBIAKcwkDtagZ1AgDsAAJA8WoGJaIA8AACQQFqTWIBAAACQQ1qTWIBDAACQSFqTWIBIAACQQFqTWIBAAACQQ1qTWIBDAACQSFqTWIBIAKcwkDlagZ1AgDkAAJA8WoGJaIA8AACQQFqTWIBAAACQQ1qTWIBDAACQSFqTWIBIAACQQFqTWIBAAACQQ1qTWIBDAACQSFqTWIBIAKcwkDlagZ1AgDkAAJA8WoGJaIA8AACQQFqTWIBAAACQQ1qTWIBDAACQSFqTWIBIAACQQFqTWIBAAACQQ1qTWIBDAACQSFqTWIBIAKcwkDJagZ1AgDIAAJA5WoGJaIA5AACQPlqTWIA+AACQQlqTWIBCAACQSFqTWIBIAACQPlqTWIA+AACQQlqTWIBCAACQSFqTWIBIAKcwkDJagZ1AgDIAAJA5WoGJaIA5AACQPlqTWIA+AACQQlqTWIBCAACQSFqTWIBIAACQPlqTWIA+AACQQlqTWIBCAACQSFqTWIBIAKcwkDdagZ1AgDcAAJA7WoGJaIA7AACQPlqTWIA+AACQQ1qTWIBDAACQR1qTWIBHAACQPlqTWIA+AACQQ1qTWIBDAACQR1qTWIBHAKcwkDdagZ1AgDcAAJA7WoGJaIA7AACQPlqTWIA+AACQQ1qTWIBDAACQR1qTWIBHAACQPlqTWIA+AACQQ1qTWIBDAACQR1qTWIBHAKcwkDdagZ1AgDcAAJA6WoGJaIA6AACQQFqTWIBAAACQQ1qTWIBDAACQSVqTWIBJAACQQFqTWIBAAACQQ1qTWIBDAACQSVqTWIBJAKcwkDdagZ1AgDcAAJA6WoGJaIA6AACQQFqTWIBAAACQQ1qTWIBDAACQSVqTWIBJAACQQFqTWIBAAACQQ1qTWIBDAACQSVqTWIBJAKcwkDVagZ1AgDUAAJA5WoGJaIA5AACQPlqTWIA+AACQRVqTWIBFAACQSlqTWIBKAACQPlqTWIA+AACQRVqTWIBFAACQSlqTWIBKAKcwkDVagZ1AgDUAAJA5WoGJaIA5AACQPlqTWIA+AACQRVqTWIBFAACQSlqTWIBKAACQPlqTWIA+AACQRVqTWIBFAACQSlqTWIBKAKcwkDVagZ1AgDUAAJA4WoGJaIA4AACQPlqTWIA+AACQQVqTWIBBAACQR1qTWIBHAACQPlqTWIA+AACQQVqTWIBBAACQR1qTWIBHAKcwkDVagZ1AgDUAAJA4WoGJaIA4AACQPlqTWIA+AACQQVqTWIBBAACQR1qTWIBHAACQPlqTWIA+AACQQVqTWIBBAACQR1qTWIBHAKcwkDRagZ1AgDQAAJA3WoGJaIA3AACQPFqTWIA8AACQQ1qTWIBDAACQSFqTWIBIAACQPFqTWIA8AACQQ1qTWIBDAACQSFqTWIBIAKcwkDRagZ1AgDQAAJA3WoGJaIA3AACQPFqTWIA8AACQQ1qTWIBDAACQSFqTWIBIAACQPFqTWIA8AACQQ1qTWIBDAACQSFqTWIBIAKcwkDRagZ1AgDQAAJA1WoGJaIA1AACQOVqTWIA5AACQPFqTWIA8AACQQVqTWIBBAACQOVqTWIA5AACQPFqTWIA8AACQQVqTWIBBAKcwkDRagZ1AgDQAAJA1WoGJaIA1AACQOVqTWIA5AACQPFqTWIA8AACQQVqTWIBBAACQOVqTWIA5AACQPFqTWIA8AACQQVqTWIBBAKcwkDJagZ1AgDIAAJA1WoGJaIA1AACQOVqTWIA5AACQPFqTWIA8AACQQVqTWIBBAACQOVqTWIA5AACQPFqTWIA8AACQQVqTWIBBAKcwkDJagZ1AgDIAAJA1WoGJaIA1AACQOVqTWIA5AACQPFqTWIA8AACQQVqTWIBBAACQOVqTWIA5AACQPFqTWIA8AACQQVqTWIBBAKcwkCtagZ1AgCsAAJAyWoGJaIAyAACQN1qTWIA3AACQO1qTWIA7AACQQVqTWIBBAACQN1qTWIA3AACQO1qTWIA7AACQQVqTWIBBAKcwkCtagZ1AgCsAAJAyWoGJaIAyAACQN1qTWIA3AACQO1qTWIA7AACQQVqTWIBBAACQN1qTWIA3AACQO1qTWIA7AACQQVqTWIBBAKcwkDBagZ1AgDAAAJA0WoGJaIA0AACQN1qTWIA3AACQPFqTWIA8AACQQFqTWIBAAACQN1qTWIA3AACQPFqTWIA8AACQQFqTWIBAAKcwkDBagZ1AgDAAAJA0WoGJaIA0AACQN1qTWIA3AACQPFqTWIA8AACQQFqTWIBAAACQN1qTWIA3AACQPFqTWIA8AACQQFqTWIBAAKcwkDBagZ1AgDAAAJA3WoGJaIA3AACQOlqTWIA6AACQPFqTWIA8AACQQFqTWIBAAACQOlqTWIA6AACQPFqTWIA8AACQQFqTWIBAAKcwkDBagZ1AgDAAAJA3WoGJaIA3AACQOlqTWIA6AACQPFqTWIA8AACQQFqTWIBAAACQOlqTWIA6AACQPFqTWIA8AACQQFqTWIBAAKcwkClagZ1AgCkAAJA1WoGJaIA1AACQOVqTWIA5AACQPFqTWIA8AACQQFqTWIBAAACQOVqTWIA5AACQPFqTWIA8AACQQFqTWIBAAKcwkClagZ1AgCkAAJA1WoGJaIA1AACQOVqTWIA5AACQPFqTWIA8AACQQFqTWIBAAACQOVqTWIA5AACQPFqTWIA8AACQQFqTWIBAAKcwkCpagZ1AgCoAAJAwWoGJaIAwAACQOVqTWIA5AACQPFqTWIA8AACQP1qTWIA/AACQOVqTWIA5AACQPFqTWIA8AACQP1qTWIA/AKcwkCpagZ1AgCoAAJAwWoGJaIAwAACQOVqTWIA5AACQPFqTWIA8AACQP1qTWIA/AACQOVqTWIA5AACQPFqTWIA8AACQP1qTWIA/AKcwkCtagZ1AgCsAAJAzWoGJaIAzAACQO1qTWIA7AACQPFqTWIA8AACQP1qTWIA/AACQO1qTWIA7AACQPFqTWIA8AACQP1qTWIA/AKcwkCtagZ1AgCsAAJAzWoGJaIAzAACQO1qTWIA7AACQPFqTWIA8AACQP1qTWIA/AACQO1qTWIA7AACQPFqTWIA8AACQP1qTWIA/AKcwkCxagZ1AgCwAAJA1WoGJaIA1AACQO1qTWIA7AACQPFqTWIA8AACQPlqTWIA+AACQO1qTWIA7AACQPFqTWIA8AACQPlqTWIA+AKcwkCxagZ1AgCwAAJA1WoGJaIA1AACQO1qTWIA7AACQPFqTWIA8AACQPlqTWIA+AACQO1qTWIA7AACQPFqTWIA8AACQPlqTWIA+AKcwkCtagZ1AgCsAAJA1WoGJaIA1AACQN1qTWIA3AACQO1qTWIA7AACQPlqTWIA+AACQN1qTWIA3AACQO1qTWIA7AACQPlqTWIA+AKcwkCtagZ1AgCsAAJA1WoGJaIA1AACQN1qTWIA3AACQO1qTWIA7AACQPlqTWIA+AACQN1qTWIA3AACQO1qTWIA7AACQPlqTWIA+AKcwkCtagZ1AgCsAAJA0WoGJaIA0AACQN1qTWIA3AACQPFqTWIA8AACQQFqTWIBAAACQN1qTWIA3AACQPFqTWIA8AACQQFqTWIBAAKcwkCtagZ1AgCsAAJA0WoGJaIA0AACQN1qTWIA3AACQPFqTWIA8AACQQFqTWIBAAACQN1qTWIA3AACQPFqTWIA8AACQQFqTWIBAAKcwkCtagZ1AgCsAAJAyWoGJaIAyAACQN1qTWIA3AACQPFqTWIA8AACQQVqTWIBBAACQN1qTWIA3AACQPFqTWIA8AACQQVqTWIBBAKcwkCtagZ1AgCsAAJAyWoGJaIAyAACQN1qTWIA3AACQPFqTWIA8AACQQVqTWIBBAACQN1qTWIA3AACQPFqTWIA8AACQQVqTWIBBAKcwkCtagZ1AgCsAAJAyWoGJaIAyAACQN1qTWIA3AACQO1qTWIA7AACQQVqTWIBBAACQN1qTWIA3AACQO1qTWIA7AACQQVqTWIBBAKcwkCtagZ1AgCsAAJAyWoGJaIAyAACQN1qTWIA3AACQO1qTWIA7AACQQVqTWIBBAACQN1qTWIA3AACQO1qTWIA7AACQQVqTWIBBAKcwkCtagZ1AgCsAAJAzWoGJaIAzAACQOVqTWIA5AACQPFqTWIA8AACQQlqTWIBCAACQOVqTWIA5AACQPFqTWIA8AACQQlqTWIBCAKcwkCtagZ1AgCsAAJAzWoGJaIAzAACQOVqTWIA5AACQPFqTWIA8AACQQlqTWIBCAACQOVqTWIA5AACQPFqTWIA8AACQQlqTWIBCAKcwkCtagZ1AgCsAAJA0WoGJaIA0AACQN1qTWIA3AACQPFqTWIA8AACQQ1qTWIBDAACQN1qTWIA3AACQPFqTWIA8AACQQ1qTWIBDAKcwkCtagZ1AgCsAAJA0WoGJaIA0AACQN1qTWIA3AACQPFqTWIA8AACQQ1qTWIBDAACQN1qTWIA3AACQPFqTWIA8AACQQ1qTWIBDAKcwkCtagZ1AgCsAAJAyWoGJaIAyAACQN1qTWIA3AACQPFqTWIA8AACQQVqTWIBBAACQN1qTWIA3AACQPFqTWIA8AACQQVqTWIBBAKcwkCtagZ1AgCsAAJAyWoGJaIAyAACQN1qTWIA3AACQPFqTWIA8AACQQVqTWIBBAACQN1qTWIA3AACQPFqTWIA8AACQQVqTWIBBAKcwkCtagZ1AgCsAAJAyWoGJaIAyAACQN1qTWIA3AACQO1qTWIA7AACQQVqTWIBBAACQN1qTWIA3AACQO1qTWIA7AACQQVqTWIBBAKcwkCtagZ1AgCsAAJAyWoGJaIAyAACQN1qTWIA3AACQO1qTWIA7AACQQVqTWIBBAACQN1qTWIA3AACQO1qTWIA7AACQQVqTWIBBAKcwkCRagZ1AgCQAAJAwWoGJaIAwAACQN1qTWIA3AACQOlqTWIA6AACQQFqTWIBAAACQN1qTWIA3AACQOlqTWIA6AACQQFqTWIBAAKcwkCRagZ1AgCQAAJAwWoGJaIAwAACQN1qTWIA3AACQOlqTWIA6AACQQFqTWIBAAACQN1qTWIA3AACQOlqTWIA6AACQQFqTWIBAAKcwkCRagqcogCQAAJAwWoKTUIAwAACQNVqTWIA1AACQOVqTWIA5AACQPFqTWIA8AACQQVqTWIBBAACQPFqTWIA8AACQOVqTWIA5AACQPFqTWIA8AACQOVqTWIA5AACQNVqTWIA1AACQOVqTWIA5AACQNVqTWIA1AACQMlqTWIAyAACQNVqTWIA1AACQMlqTWIAyALsIkCRagqcogCQAAJAvWoKTUIAvAACQQ1qTWIBDAACQR1qTWIBHAACQSlqTWIBKAACQTVqTWIBNAACQSlqTWIBKAACQR1qTWIBHAACQSlqTWIBKAACQR1qTWIBHAACQQ1qTWIBDAACQR1qTWIBHAACQPlqTWIA+AACQQVqTWIBBAACQQFqTWIBAAACQPlqTWIA+AJNYkDxaAJBAWgCQQ1qCpyiAPAAAgEAAAIBDAACQPFqCpyiAPADOYP8vAA==\");\n",
       "            });\n",
       "        }\n",
       "        if (typeof require === 'undefined') {\n",
       "            setTimeout(midiPlayerDiv5715112_play, 2000);\n",
       "        } else {\n",
       "            midiPlayerDiv5715112_play();\n",
       "        }\n",
       "        </script>"
      ],
      "text/plain": [
       "<IPython.core.display.HTML object>"
      ]
     },
     "metadata": {},
     "output_type": "display_data"
    }
   ],
   "source": [
    "s.show('midi')"
   ]
  },
  {
   "cell_type": "markdown",
   "id": "62a17be7",
   "metadata": {},
   "source": [
    "### Data Preparation"
   ]
  },
  {
   "cell_type": "code",
   "execution_count": 157,
   "id": "c161548c",
   "metadata": {},
   "outputs": [],
   "source": [
    "# every note in a 1d array\n",
    "notes_ = [element for note_ in notes_array for element in note_]"
   ]
  },
  {
   "cell_type": "code",
   "execution_count": 158,
   "id": "7a1b2327",
   "metadata": {},
   "outputs": [],
   "source": [
    "# frequency of each note\n",
    "freq = dict(Counter(notes_))"
   ]
  },
  {
   "cell_type": "code",
   "execution_count": 159,
   "id": "509395bc",
   "metadata": {},
   "outputs": [
    {
     "name": "stdout",
     "output_type": "stream",
     "text": [
      "# of frequent notes: 299\n"
     ]
    }
   ],
   "source": [
    "# list of frequent notes, adjustable by count\n",
    "frequent_notes = [note_ for note_, count in freq.items() if count>=frequentNoteMin]\n",
    "print(\"# of frequent notes:\", len(frequent_notes))"
   ]
  },
  {
   "cell_type": "code",
   "execution_count": 160,
   "id": "4d95edba",
   "metadata": {},
   "outputs": [],
   "source": [
    "# new_music = notes - nonfrequent notes\n",
    "new_music=[]\n",
    "\n",
    "for notes in notes_array:\n",
    "    temp=[]\n",
    "    for note_ in notes:\n",
    "        if note_ in frequent_notes:\n",
    "            temp.append(note_)            \n",
    "    new_music.append(temp)"
   ]
  },
  {
   "cell_type": "code",
   "execution_count": 161,
   "id": "e0c7a5d4",
   "metadata": {},
   "outputs": [
    {
     "name": "stdout",
     "output_type": "stream",
     "text": [
      "input shape:\t (30820, 32, 2)\n",
      "output shape:\t (30820, 2)\n"
     ]
    }
   ],
   "source": [
    "# prepare input and output sequences\n",
    "x = []\n",
    "y = []\n",
    "\n",
    "for note_ in new_music:\n",
    "    for i in range(0, len(note_) - no_of_timesteps, 1):\n",
    "        \n",
    "        #preparing input and output sequences\n",
    "        input_ = note_[i:i + no_of_timesteps]\n",
    "        output_ = note_[i + no_of_timesteps]\n",
    "        \n",
    "        x.append(input_)\n",
    "        y.append(output_)\n",
    "        \n",
    "\n",
    "print(\"input shape:\\t\", np.asarray(x).shape)\n",
    "print(\"output shape:\\t\", np.asarray(y).shape)"
   ]
  },
  {
   "cell_type": "code",
   "execution_count": 162,
   "id": "ae77a3c8",
   "metadata": {},
   "outputs": [],
   "source": [
    "# unique note --> integer\n",
    "unique_x=[]\n",
    "for i in range(len(x)):\n",
    "    for j in range(len(x[i])):\n",
    "        unique_x.append(x[i][j])\n",
    "unique_x = list(set(unique_x))\n",
    "x_note_to_int = dict((note_, number) for number, note_ in enumerate(unique_x))\n",
    "\n",
    "with open(unique_x_file, \"w\") as output:\n",
    "    for element in unique_x:\n",
    "        output.write(str(element)+'\\n')"
   ]
  },
  {
   "cell_type": "code",
   "execution_count": 163,
   "id": "e3a725e7",
   "metadata": {},
   "outputs": [
    {
     "data": {
      "text/plain": [
       "299"
      ]
     },
     "execution_count": 163,
     "metadata": {},
     "output_type": "execute_result"
    }
   ],
   "source": [
    "len(unique_x)"
   ]
  },
  {
   "cell_type": "code",
   "execution_count": 164,
   "id": "c1738616",
   "metadata": {},
   "outputs": [],
   "source": [
    "# x_seq <--> model input\n",
    "x_seq=[]\n",
    "for i in x:\n",
    "    temp=[]\n",
    "    for j in i:\n",
    "        #assigning unique integer to every note\n",
    "        temp.append(x_note_to_int[j])\n",
    "    x_seq.append(temp)\n",
    "    \n",
    "x_seq = np.array(x_seq)"
   ]
  },
  {
   "cell_type": "code",
   "execution_count": 165,
   "id": "c34b952b",
   "metadata": {},
   "outputs": [],
   "source": [
    "# same procedure as x_seq but simpler\n",
    "unique_y = list(set(y))\n",
    "y_note_to_int = dict((note_, number) for number, note_ in enumerate(unique_y)) \n",
    "y_seq = np.array([y_note_to_int[i] for i in y])"
   ]
  },
  {
   "cell_type": "code",
   "execution_count": 166,
   "id": "65fe7eac",
   "metadata": {},
   "outputs": [],
   "source": [
    "# train/test partitioning, test_size=0.2 --> 20% of data is test\n",
    "x_tr, x_val, y_tr, y_val = train_test_split(x_seq,y_seq,test_size=0.2,random_state=0)\n",
    "np.savetxt(xval_file, x_val)"
   ]
  },
  {
   "cell_type": "code",
   "execution_count": 167,
   "id": "dae66047",
   "metadata": {},
   "outputs": [
    {
     "name": "stdout",
     "output_type": "stream",
     "text": [
      "Shapes:\n",
      "x_tr: (24656, 32)\n",
      "y_tr: (24656,)\n",
      "x_val: (6164, 32)\n",
      "y_val: (6164,)\n"
     ]
    }
   ],
   "source": [
    "# metadata\n",
    "print(\"Shapes:\")\n",
    "print(\"x_tr:\", x_tr.shape)\n",
    "print(\"y_tr:\", y_tr.shape)\n",
    "print(\"x_val:\", x_val.shape)\n",
    "print(\"y_val:\", y_val.shape)"
   ]
  },
  {
   "cell_type": "markdown",
   "id": "92180e6e",
   "metadata": {},
   "source": [
    "### Neural Network"
   ]
  },
  {
   "cell_type": "code",
   "execution_count": 168,
   "id": "88c04ad0",
   "metadata": {},
   "outputs": [
    {
     "data": {
      "text/html": [
       "<pre style=\"white-space:pre;overflow-x:auto;line-height:normal;font-family:Menlo,'DejaVu Sans Mono',consolas,'Courier New',monospace\"><span style=\"font-weight: bold\">Model: \"sequential\"</span>\n",
       "</pre>\n"
      ],
      "text/plain": [
       "\u001b[1mModel: \"sequential\"\u001b[0m\n"
      ]
     },
     "metadata": {},
     "output_type": "display_data"
    },
    {
     "data": {
      "text/html": [
       "<pre style=\"white-space:pre;overflow-x:auto;line-height:normal;font-family:Menlo,'DejaVu Sans Mono',consolas,'Courier New',monospace\">┏━━━━━━━━━━━━━━━━━━━━━━━━━━━━━━━━━┳━━━━━━━━━━━━━━━━━━━━━━━━┳━━━━━━━━━━━━━━━┓\n",
       "┃<span style=\"font-weight: bold\"> Layer (type)                    </span>┃<span style=\"font-weight: bold\"> Output Shape           </span>┃<span style=\"font-weight: bold\">       Param # </span>┃\n",
       "┡━━━━━━━━━━━━━━━━━━━━━━━━━━━━━━━━━╇━━━━━━━━━━━━━━━━━━━━━━━━╇━━━━━━━━━━━━━━━┩\n",
       "│ embedding (<span style=\"color: #0087ff; text-decoration-color: #0087ff\">Embedding</span>)           │ ?                      │   <span style=\"color: #00af00; text-decoration-color: #00af00\">0</span> (unbuilt) │\n",
       "├─────────────────────────────────┼────────────────────────┼───────────────┤\n",
       "│ lstm (<span style=\"color: #0087ff; text-decoration-color: #0087ff\">LSTM</span>)                     │ ?                      │   <span style=\"color: #00af00; text-decoration-color: #00af00\">0</span> (unbuilt) │\n",
       "├─────────────────────────────────┼────────────────────────┼───────────────┤\n",
       "│ lstm_1 (<span style=\"color: #0087ff; text-decoration-color: #0087ff\">LSTM</span>)                   │ ?                      │   <span style=\"color: #00af00; text-decoration-color: #00af00\">0</span> (unbuilt) │\n",
       "├─────────────────────────────────┼────────────────────────┼───────────────┤\n",
       "│ dense (<span style=\"color: #0087ff; text-decoration-color: #0087ff\">Dense</span>)                   │ ?                      │   <span style=\"color: #00af00; text-decoration-color: #00af00\">0</span> (unbuilt) │\n",
       "├─────────────────────────────────┼────────────────────────┼───────────────┤\n",
       "│ activation (<span style=\"color: #0087ff; text-decoration-color: #0087ff\">Activation</span>)         │ ?                      │   <span style=\"color: #00af00; text-decoration-color: #00af00\">0</span> (unbuilt) │\n",
       "├─────────────────────────────────┼────────────────────────┼───────────────┤\n",
       "│ dense_1 (<span style=\"color: #0087ff; text-decoration-color: #0087ff\">Dense</span>)                 │ ?                      │   <span style=\"color: #00af00; text-decoration-color: #00af00\">0</span> (unbuilt) │\n",
       "├─────────────────────────────────┼────────────────────────┼───────────────┤\n",
       "│ activation_1 (<span style=\"color: #0087ff; text-decoration-color: #0087ff\">Activation</span>)       │ ?                      │   <span style=\"color: #00af00; text-decoration-color: #00af00\">0</span> (unbuilt) │\n",
       "└─────────────────────────────────┴────────────────────────┴───────────────┘\n",
       "</pre>\n"
      ],
      "text/plain": [
       "┏━━━━━━━━━━━━━━━━━━━━━━━━━━━━━━━━━┳━━━━━━━━━━━━━━━━━━━━━━━━┳━━━━━━━━━━━━━━━┓\n",
       "┃\u001b[1m \u001b[0m\u001b[1mLayer (type)                   \u001b[0m\u001b[1m \u001b[0m┃\u001b[1m \u001b[0m\u001b[1mOutput Shape          \u001b[0m\u001b[1m \u001b[0m┃\u001b[1m \u001b[0m\u001b[1m      Param #\u001b[0m\u001b[1m \u001b[0m┃\n",
       "┡━━━━━━━━━━━━━━━━━━━━━━━━━━━━━━━━━╇━━━━━━━━━━━━━━━━━━━━━━━━╇━━━━━━━━━━━━━━━┩\n",
       "│ embedding (\u001b[38;5;33mEmbedding\u001b[0m)           │ ?                      │   \u001b[38;5;34m0\u001b[0m (unbuilt) │\n",
       "├─────────────────────────────────┼────────────────────────┼───────────────┤\n",
       "│ lstm (\u001b[38;5;33mLSTM\u001b[0m)                     │ ?                      │   \u001b[38;5;34m0\u001b[0m (unbuilt) │\n",
       "├─────────────────────────────────┼────────────────────────┼───────────────┤\n",
       "│ lstm_1 (\u001b[38;5;33mLSTM\u001b[0m)                   │ ?                      │   \u001b[38;5;34m0\u001b[0m (unbuilt) │\n",
       "├─────────────────────────────────┼────────────────────────┼───────────────┤\n",
       "│ dense (\u001b[38;5;33mDense\u001b[0m)                   │ ?                      │   \u001b[38;5;34m0\u001b[0m (unbuilt) │\n",
       "├─────────────────────────────────┼────────────────────────┼───────────────┤\n",
       "│ activation (\u001b[38;5;33mActivation\u001b[0m)         │ ?                      │   \u001b[38;5;34m0\u001b[0m (unbuilt) │\n",
       "├─────────────────────────────────┼────────────────────────┼───────────────┤\n",
       "│ dense_1 (\u001b[38;5;33mDense\u001b[0m)                 │ ?                      │   \u001b[38;5;34m0\u001b[0m (unbuilt) │\n",
       "├─────────────────────────────────┼────────────────────────┼───────────────┤\n",
       "│ activation_1 (\u001b[38;5;33mActivation\u001b[0m)       │ ?                      │   \u001b[38;5;34m0\u001b[0m (unbuilt) │\n",
       "└─────────────────────────────────┴────────────────────────┴───────────────┘\n"
      ]
     },
     "metadata": {},
     "output_type": "display_data"
    },
    {
     "data": {
      "text/html": [
       "<pre style=\"white-space:pre;overflow-x:auto;line-height:normal;font-family:Menlo,'DejaVu Sans Mono',consolas,'Courier New',monospace\"><span style=\"font-weight: bold\"> Total params: </span><span style=\"color: #00af00; text-decoration-color: #00af00\">0</span> (0.00 B)\n",
       "</pre>\n"
      ],
      "text/plain": [
       "\u001b[1m Total params: \u001b[0m\u001b[38;5;34m0\u001b[0m (0.00 B)\n"
      ]
     },
     "metadata": {},
     "output_type": "display_data"
    },
    {
     "data": {
      "text/html": [
       "<pre style=\"white-space:pre;overflow-x:auto;line-height:normal;font-family:Menlo,'DejaVu Sans Mono',consolas,'Courier New',monospace\"><span style=\"font-weight: bold\"> Trainable params: </span><span style=\"color: #00af00; text-decoration-color: #00af00\">0</span> (0.00 B)\n",
       "</pre>\n"
      ],
      "text/plain": [
       "\u001b[1m Trainable params: \u001b[0m\u001b[38;5;34m0\u001b[0m (0.00 B)\n"
      ]
     },
     "metadata": {},
     "output_type": "display_data"
    },
    {
     "data": {
      "text/html": [
       "<pre style=\"white-space:pre;overflow-x:auto;line-height:normal;font-family:Menlo,'DejaVu Sans Mono',consolas,'Courier New',monospace\"><span style=\"font-weight: bold\"> Non-trainable params: </span><span style=\"color: #00af00; text-decoration-color: #00af00\">0</span> (0.00 B)\n",
       "</pre>\n"
      ],
      "text/plain": [
       "\u001b[1m Non-trainable params: \u001b[0m\u001b[38;5;34m0\u001b[0m (0.00 B)\n"
      ]
     },
     "metadata": {},
     "output_type": "display_data"
    }
   ],
   "source": [
    "def lstm(input_shape, output_shape):\n",
    "    K.clear_session()\n",
    "    model = Sequential()\n",
    "    \n",
    "    #embedding layer\n",
    "    model.add(Embedding(input_shape, 100, input_length=32,trainable=True))\n",
    "    \n",
    "    model.add(LSTM(128,return_sequences=True))\n",
    "    model.add(LSTM(128))\n",
    "    model.add(Dense(256))\n",
    "    model.add(Activation('relu'))\n",
    "    model.add(Dense(output_shape))\n",
    "    model.add(Activation('softmax'))\n",
    "    model.compile(loss='sparse_categorical_crossentropy', optimizer='adam')\n",
    "    return model\n",
    "\n",
    "model = lstm(len(unique_x), len(unique_y))\n",
    "model.summary()"
   ]
  },
  {
   "cell_type": "code",
   "execution_count": 169,
   "id": "0c6d0be7",
   "metadata": {},
   "outputs": [],
   "source": [
    "logdir=\"logs/fit/\" + datetime.now().strftime(\"%Y%m%d-%H%M%S\")\n",
    "tensorboard_callback = tf.keras.callbacks.TensorBoard(log_dir=logdir)"
   ]
  },
  {
   "cell_type": "code",
   "execution_count": 170,
   "id": "f3dfc7d7",
   "metadata": {},
   "outputs": [
    {
     "name": "stdout",
     "output_type": "stream",
     "text": [
      "Epoch 1/100\n",
      "\u001b[1m241/241\u001b[0m \u001b[32m━━━━━━━━━━━━━━━━━━━━\u001b[0m\u001b[37m\u001b[0m \u001b[1m0s\u001b[0m 69ms/step - loss: 4.8421\n",
      "Epoch 1: saving model to ViolinVivaldi.keras\n",
      "\u001b[1m241/241\u001b[0m \u001b[32m━━━━━━━━━━━━━━━━━━━━\u001b[0m\u001b[37m\u001b[0m \u001b[1m18s\u001b[0m 69ms/step - loss: 4.8407\n",
      "Epoch 2/100\n",
      "\u001b[1m241/241\u001b[0m \u001b[32m━━━━━━━━━━━━━━━━━━━━\u001b[0m\u001b[37m\u001b[0m \u001b[1m0s\u001b[0m 71ms/step - loss: 3.8019\n",
      "Epoch 2: saving model to ViolinVivaldi.keras\n",
      "\u001b[1m241/241\u001b[0m \u001b[32m━━━━━━━━━━━━━━━━━━━━\u001b[0m\u001b[37m\u001b[0m \u001b[1m17s\u001b[0m 71ms/step - loss: 3.8014\n",
      "Epoch 3/100\n",
      "\u001b[1m241/241\u001b[0m \u001b[32m━━━━━━━━━━━━━━━━━━━━\u001b[0m\u001b[37m\u001b[0m \u001b[1m0s\u001b[0m 71ms/step - loss: 3.3311\n",
      "Epoch 3: saving model to ViolinVivaldi.keras\n",
      "\u001b[1m241/241\u001b[0m \u001b[32m━━━━━━━━━━━━━━━━━━━━\u001b[0m\u001b[37m\u001b[0m \u001b[1m17s\u001b[0m 71ms/step - loss: 3.3309\n",
      "Epoch 4/100\n",
      "\u001b[1m241/241\u001b[0m \u001b[32m━━━━━━━━━━━━━━━━━━━━\u001b[0m\u001b[37m\u001b[0m \u001b[1m0s\u001b[0m 71ms/step - loss: 3.0638\n",
      "Epoch 4: saving model to ViolinVivaldi.keras\n",
      "\u001b[1m241/241\u001b[0m \u001b[32m━━━━━━━━━━━━━━━━━━━━\u001b[0m\u001b[37m\u001b[0m \u001b[1m17s\u001b[0m 71ms/step - loss: 3.0636\n",
      "Epoch 5/100\n",
      "\u001b[1m241/241\u001b[0m \u001b[32m━━━━━━━━━━━━━━━━━━━━\u001b[0m\u001b[37m\u001b[0m \u001b[1m0s\u001b[0m 71ms/step - loss: 2.8021\n",
      "Epoch 5: saving model to ViolinVivaldi.keras\n",
      "\u001b[1m241/241\u001b[0m \u001b[32m━━━━━━━━━━━━━━━━━━━━\u001b[0m\u001b[37m\u001b[0m \u001b[1m17s\u001b[0m 71ms/step - loss: 2.8021\n",
      "Epoch 6/100\n",
      "\u001b[1m241/241\u001b[0m \u001b[32m━━━━━━━━━━━━━━━━━━━━\u001b[0m\u001b[37m\u001b[0m \u001b[1m0s\u001b[0m 70ms/step - loss: 2.6067\n",
      "Epoch 6: saving model to ViolinVivaldi.keras\n",
      "\u001b[1m241/241\u001b[0m \u001b[32m━━━━━━━━━━━━━━━━━━━━\u001b[0m\u001b[37m\u001b[0m \u001b[1m17s\u001b[0m 71ms/step - loss: 2.6067\n",
      "Epoch 7/100\n",
      "\u001b[1m241/241\u001b[0m \u001b[32m━━━━━━━━━━━━━━━━━━━━\u001b[0m\u001b[37m\u001b[0m \u001b[1m0s\u001b[0m 69ms/step - loss: 2.4324\n",
      "Epoch 7: saving model to ViolinVivaldi.keras\n",
      "\u001b[1m241/241\u001b[0m \u001b[32m━━━━━━━━━━━━━━━━━━━━\u001b[0m\u001b[37m\u001b[0m \u001b[1m17s\u001b[0m 69ms/step - loss: 2.4324\n",
      "Epoch 8/100\n",
      "\u001b[1m241/241\u001b[0m \u001b[32m━━━━━━━━━━━━━━━━━━━━\u001b[0m\u001b[37m\u001b[0m \u001b[1m0s\u001b[0m 70ms/step - loss: 2.2628\n",
      "Epoch 8: saving model to ViolinVivaldi.keras\n",
      "\u001b[1m241/241\u001b[0m \u001b[32m━━━━━━━━━━━━━━━━━━━━\u001b[0m\u001b[37m\u001b[0m \u001b[1m17s\u001b[0m 70ms/step - loss: 2.2628\n",
      "Epoch 9/100\n",
      "\u001b[1m241/241\u001b[0m \u001b[32m━━━━━━━━━━━━━━━━━━━━\u001b[0m\u001b[37m\u001b[0m \u001b[1m0s\u001b[0m 70ms/step - loss: 2.0900\n",
      "Epoch 9: saving model to ViolinVivaldi.keras\n",
      "\u001b[1m241/241\u001b[0m \u001b[32m━━━━━━━━━━━━━━━━━━━━\u001b[0m\u001b[37m\u001b[0m \u001b[1m17s\u001b[0m 70ms/step - loss: 2.0900\n",
      "Epoch 10/100\n",
      "\u001b[1m241/241\u001b[0m \u001b[32m━━━━━━━━━━━━━━━━━━━━\u001b[0m\u001b[37m\u001b[0m \u001b[1m0s\u001b[0m 70ms/step - loss: 1.9280\n",
      "Epoch 10: saving model to ViolinVivaldi.keras\n",
      "\u001b[1m241/241\u001b[0m \u001b[32m━━━━━━━━━━━━━━━━━━━━\u001b[0m\u001b[37m\u001b[0m \u001b[1m17s\u001b[0m 70ms/step - loss: 1.9281\n",
      "Epoch 11/100\n",
      "\u001b[1m241/241\u001b[0m \u001b[32m━━━━━━━━━━━━━━━━━━━━\u001b[0m\u001b[37m\u001b[0m \u001b[1m0s\u001b[0m 70ms/step - loss: 1.7863\n",
      "Epoch 11: saving model to ViolinVivaldi.keras\n",
      "\u001b[1m241/241\u001b[0m \u001b[32m━━━━━━━━━━━━━━━━━━━━\u001b[0m\u001b[37m\u001b[0m \u001b[1m17s\u001b[0m 70ms/step - loss: 1.7864\n",
      "Epoch 12/100\n",
      "\u001b[1m241/241\u001b[0m \u001b[32m━━━━━━━━━━━━━━━━━━━━\u001b[0m\u001b[37m\u001b[0m \u001b[1m0s\u001b[0m 70ms/step - loss: 1.6582\n",
      "Epoch 12: saving model to ViolinVivaldi.keras\n",
      "\u001b[1m241/241\u001b[0m \u001b[32m━━━━━━━━━━━━━━━━━━━━\u001b[0m\u001b[37m\u001b[0m \u001b[1m17s\u001b[0m 70ms/step - loss: 1.6582\n",
      "Epoch 13/100\n",
      "\u001b[1m241/241\u001b[0m \u001b[32m━━━━━━━━━━━━━━━━━━━━\u001b[0m\u001b[37m\u001b[0m \u001b[1m0s\u001b[0m 70ms/step - loss: 1.5268\n",
      "Epoch 13: saving model to ViolinVivaldi.keras\n",
      "\u001b[1m241/241\u001b[0m \u001b[32m━━━━━━━━━━━━━━━━━━━━\u001b[0m\u001b[37m\u001b[0m \u001b[1m17s\u001b[0m 70ms/step - loss: 1.5269\n",
      "Epoch 14/100\n",
      "\u001b[1m241/241\u001b[0m \u001b[32m━━━━━━━━━━━━━━━━━━━━\u001b[0m\u001b[37m\u001b[0m \u001b[1m0s\u001b[0m 70ms/step - loss: 1.3910\n",
      "Epoch 14: saving model to ViolinVivaldi.keras\n",
      "\u001b[1m241/241\u001b[0m \u001b[32m━━━━━━━━━━━━━━━━━━━━\u001b[0m\u001b[37m\u001b[0m \u001b[1m17s\u001b[0m 70ms/step - loss: 1.3912\n",
      "Epoch 15/100\n",
      "\u001b[1m241/241\u001b[0m \u001b[32m━━━━━━━━━━━━━━━━━━━━\u001b[0m\u001b[37m\u001b[0m \u001b[1m0s\u001b[0m 70ms/step - loss: 1.2800\n",
      "Epoch 15: saving model to ViolinVivaldi.keras\n",
      "\u001b[1m241/241\u001b[0m \u001b[32m━━━━━━━━━━━━━━━━━━━━\u001b[0m\u001b[37m\u001b[0m \u001b[1m17s\u001b[0m 70ms/step - loss: 1.2801\n",
      "Epoch 16/100\n",
      "\u001b[1m241/241\u001b[0m \u001b[32m━━━━━━━━━━━━━━━━━━━━\u001b[0m\u001b[37m\u001b[0m \u001b[1m0s\u001b[0m 70ms/step - loss: 1.1647\n",
      "Epoch 16: saving model to ViolinVivaldi.keras\n",
      "\u001b[1m241/241\u001b[0m \u001b[32m━━━━━━━━━━━━━━━━━━━━\u001b[0m\u001b[37m\u001b[0m \u001b[1m17s\u001b[0m 71ms/step - loss: 1.1648\n",
      "Epoch 17/100\n",
      "\u001b[1m241/241\u001b[0m \u001b[32m━━━━━━━━━━━━━━━━━━━━\u001b[0m\u001b[37m\u001b[0m \u001b[1m0s\u001b[0m 70ms/step - loss: 1.0542\n",
      "Epoch 17: saving model to ViolinVivaldi.keras\n",
      "\u001b[1m241/241\u001b[0m \u001b[32m━━━━━━━━━━━━━━━━━━━━\u001b[0m\u001b[37m\u001b[0m \u001b[1m17s\u001b[0m 70ms/step - loss: 1.0544\n",
      "Epoch 18/100\n",
      "\u001b[1m241/241\u001b[0m \u001b[32m━━━━━━━━━━━━━━━━━━━━\u001b[0m\u001b[37m\u001b[0m \u001b[1m0s\u001b[0m 71ms/step - loss: 0.9713\n",
      "Epoch 18: saving model to ViolinVivaldi.keras\n",
      "\u001b[1m241/241\u001b[0m \u001b[32m━━━━━━━━━━━━━━━━━━━━\u001b[0m\u001b[37m\u001b[0m \u001b[1m17s\u001b[0m 71ms/step - loss: 0.9715\n",
      "Epoch 19/100\n",
      "\u001b[1m241/241\u001b[0m \u001b[32m━━━━━━━━━━━━━━━━━━━━\u001b[0m\u001b[37m\u001b[0m \u001b[1m0s\u001b[0m 71ms/step - loss: 0.8791\n",
      "Epoch 19: saving model to ViolinVivaldi.keras\n",
      "\u001b[1m241/241\u001b[0m \u001b[32m━━━━━━━━━━━━━━━━━━━━\u001b[0m\u001b[37m\u001b[0m \u001b[1m17s\u001b[0m 71ms/step - loss: 0.8793\n",
      "Epoch 20/100\n",
      "\u001b[1m241/241\u001b[0m \u001b[32m━━━━━━━━━━━━━━━━━━━━\u001b[0m\u001b[37m\u001b[0m \u001b[1m0s\u001b[0m 71ms/step - loss: 0.8142\n",
      "Epoch 20: saving model to ViolinVivaldi.keras\n",
      "\u001b[1m241/241\u001b[0m \u001b[32m━━━━━━━━━━━━━━━━━━━━\u001b[0m\u001b[37m\u001b[0m \u001b[1m17s\u001b[0m 71ms/step - loss: 0.8144\n",
      "Epoch 21/100\n",
      "\u001b[1m241/241\u001b[0m \u001b[32m━━━━━━━━━━━━━━━━━━━━\u001b[0m\u001b[37m\u001b[0m \u001b[1m0s\u001b[0m 71ms/step - loss: 0.7250\n",
      "Epoch 21: saving model to ViolinVivaldi.keras\n",
      "\u001b[1m241/241\u001b[0m \u001b[32m━━━━━━━━━━━━━━━━━━━━\u001b[0m\u001b[37m\u001b[0m \u001b[1m17s\u001b[0m 71ms/step - loss: 0.7252\n",
      "Epoch 22/100\n",
      "\u001b[1m241/241\u001b[0m \u001b[32m━━━━━━━━━━━━━━━━━━━━\u001b[0m\u001b[37m\u001b[0m \u001b[1m0s\u001b[0m 71ms/step - loss: 0.6575\n",
      "Epoch 22: saving model to ViolinVivaldi.keras\n",
      "\u001b[1m241/241\u001b[0m \u001b[32m━━━━━━━━━━━━━━━━━━━━\u001b[0m\u001b[37m\u001b[0m \u001b[1m17s\u001b[0m 71ms/step - loss: 0.6576\n",
      "Epoch 23/100\n",
      "\u001b[1m241/241\u001b[0m \u001b[32m━━━━━━━━━━━━━━━━━━━━\u001b[0m\u001b[37m\u001b[0m \u001b[1m0s\u001b[0m 71ms/step - loss: 0.5997\n",
      "Epoch 23: saving model to ViolinVivaldi.keras\n",
      "\u001b[1m241/241\u001b[0m \u001b[32m━━━━━━━━━━━━━━━━━━━━\u001b[0m\u001b[37m\u001b[0m \u001b[1m17s\u001b[0m 71ms/step - loss: 0.5998\n",
      "Epoch 24/100\n",
      "\u001b[1m241/241\u001b[0m \u001b[32m━━━━━━━━━━━━━━━━━━━━\u001b[0m\u001b[37m\u001b[0m \u001b[1m0s\u001b[0m 71ms/step - loss: 0.5417\n",
      "Epoch 24: saving model to ViolinVivaldi.keras\n",
      "\u001b[1m241/241\u001b[0m \u001b[32m━━━━━━━━━━━━━━━━━━━━\u001b[0m\u001b[37m\u001b[0m \u001b[1m17s\u001b[0m 71ms/step - loss: 0.5418\n",
      "Epoch 25/100\n",
      "\u001b[1m241/241\u001b[0m \u001b[32m━━━━━━━━━━━━━━━━━━━━\u001b[0m\u001b[37m\u001b[0m \u001b[1m0s\u001b[0m 71ms/step - loss: 0.4840\n",
      "Epoch 25: saving model to ViolinVivaldi.keras\n",
      "\u001b[1m241/241\u001b[0m \u001b[32m━━━━━━━━━━━━━━━━━━━━\u001b[0m\u001b[37m\u001b[0m \u001b[1m17s\u001b[0m 72ms/step - loss: 0.4841\n",
      "Epoch 26/100\n",
      "\u001b[1m241/241\u001b[0m \u001b[32m━━━━━━━━━━━━━━━━━━━━\u001b[0m\u001b[37m\u001b[0m \u001b[1m0s\u001b[0m 71ms/step - loss: 0.4370\n",
      "Epoch 26: saving model to ViolinVivaldi.keras\n",
      "\u001b[1m241/241\u001b[0m \u001b[32m━━━━━━━━━━━━━━━━━━━━\u001b[0m\u001b[37m\u001b[0m \u001b[1m17s\u001b[0m 71ms/step - loss: 0.4371\n",
      "Epoch 27/100\n",
      "\u001b[1m241/241\u001b[0m \u001b[32m━━━━━━━━━━━━━━━━━━━━\u001b[0m\u001b[37m\u001b[0m \u001b[1m0s\u001b[0m 71ms/step - loss: 0.3953\n",
      "Epoch 27: saving model to ViolinVivaldi.keras\n",
      "\u001b[1m241/241\u001b[0m \u001b[32m━━━━━━━━━━━━━━━━━━━━\u001b[0m\u001b[37m\u001b[0m \u001b[1m17s\u001b[0m 71ms/step - loss: 0.3954\n",
      "Epoch 28/100\n",
      "\u001b[1m241/241\u001b[0m \u001b[32m━━━━━━━━━━━━━━━━━━━━\u001b[0m\u001b[37m\u001b[0m \u001b[1m0s\u001b[0m 71ms/step - loss: 0.3442\n",
      "Epoch 28: saving model to ViolinVivaldi.keras\n",
      "\u001b[1m241/241\u001b[0m \u001b[32m━━━━━━━━━━━━━━━━━━━━\u001b[0m\u001b[37m\u001b[0m \u001b[1m17s\u001b[0m 71ms/step - loss: 0.3443\n",
      "Epoch 29/100\n",
      "\u001b[1m241/241\u001b[0m \u001b[32m━━━━━━━━━━━━━━━━━━━━\u001b[0m\u001b[37m\u001b[0m \u001b[1m0s\u001b[0m 72ms/step - loss: 0.3219\n",
      "Epoch 29: saving model to ViolinVivaldi.keras\n",
      "\u001b[1m241/241\u001b[0m \u001b[32m━━━━━━━━━━━━━━━━━━━━\u001b[0m\u001b[37m\u001b[0m \u001b[1m17s\u001b[0m 72ms/step - loss: 0.3220\n",
      "Epoch 30/100\n",
      "\u001b[1m241/241\u001b[0m \u001b[32m━━━━━━━━━━━━━━━━━━━━\u001b[0m\u001b[37m\u001b[0m \u001b[1m0s\u001b[0m 71ms/step - loss: 0.2779\n",
      "Epoch 30: saving model to ViolinVivaldi.keras\n",
      "\u001b[1m241/241\u001b[0m \u001b[32m━━━━━━━━━━━━━━━━━━━━\u001b[0m\u001b[37m\u001b[0m \u001b[1m17s\u001b[0m 72ms/step - loss: 0.2779\n",
      "Epoch 31/100\n",
      "\u001b[1m241/241\u001b[0m \u001b[32m━━━━━━━━━━━━━━━━━━━━\u001b[0m\u001b[37m\u001b[0m \u001b[1m0s\u001b[0m 71ms/step - loss: 0.2638\n",
      "Epoch 31: saving model to ViolinVivaldi.keras\n",
      "\u001b[1m241/241\u001b[0m \u001b[32m━━━━━━━━━━━━━━━━━━━━\u001b[0m\u001b[37m\u001b[0m \u001b[1m17s\u001b[0m 72ms/step - loss: 0.2639\n",
      "Epoch 32/100\n",
      "\u001b[1m241/241\u001b[0m \u001b[32m━━━━━━━━━━━━━━━━━━━━\u001b[0m\u001b[37m\u001b[0m \u001b[1m0s\u001b[0m 72ms/step - loss: 0.2416\n",
      "Epoch 32: saving model to ViolinVivaldi.keras\n",
      "\u001b[1m241/241\u001b[0m \u001b[32m━━━━━━━━━━━━━━━━━━━━\u001b[0m\u001b[37m\u001b[0m \u001b[1m17s\u001b[0m 72ms/step - loss: 0.2416\n",
      "Epoch 33/100\n",
      "\u001b[1m241/241\u001b[0m \u001b[32m━━━━━━━━━━━━━━━━━━━━\u001b[0m\u001b[37m\u001b[0m \u001b[1m0s\u001b[0m 72ms/step - loss: 0.2204\n",
      "Epoch 33: saving model to ViolinVivaldi.keras\n",
      "\u001b[1m241/241\u001b[0m \u001b[32m━━━━━━━━━━━━━━━━━━━━\u001b[0m\u001b[37m\u001b[0m \u001b[1m17s\u001b[0m 72ms/step - loss: 0.2205\n",
      "Epoch 34/100\n",
      "\u001b[1m241/241\u001b[0m \u001b[32m━━━━━━━━━━━━━━━━━━━━\u001b[0m\u001b[37m\u001b[0m \u001b[1m0s\u001b[0m 72ms/step - loss: 0.2032\n",
      "Epoch 34: saving model to ViolinVivaldi.keras\n",
      "\u001b[1m241/241\u001b[0m \u001b[32m━━━━━━━━━━━━━━━━━━━━\u001b[0m\u001b[37m\u001b[0m \u001b[1m17s\u001b[0m 72ms/step - loss: 0.2033\n",
      "Epoch 35/100\n",
      "\u001b[1m241/241\u001b[0m \u001b[32m━━━━━━━━━━━━━━━━━━━━\u001b[0m\u001b[37m\u001b[0m \u001b[1m0s\u001b[0m 72ms/step - loss: 0.1947\n",
      "Epoch 35: saving model to ViolinVivaldi.keras\n",
      "\u001b[1m241/241\u001b[0m \u001b[32m━━━━━━━━━━━━━━━━━━━━\u001b[0m\u001b[37m\u001b[0m \u001b[1m17s\u001b[0m 72ms/step - loss: 0.1948\n",
      "Epoch 36/100\n",
      "\u001b[1m241/241\u001b[0m \u001b[32m━━━━━━━━━━━━━━━━━━━━\u001b[0m\u001b[37m\u001b[0m \u001b[1m0s\u001b[0m 72ms/step - loss: 0.1784\n",
      "Epoch 36: saving model to ViolinVivaldi.keras\n",
      "\u001b[1m241/241\u001b[0m \u001b[32m━━━━━━━━━━━━━━━━━━━━\u001b[0m\u001b[37m\u001b[0m \u001b[1m17s\u001b[0m 72ms/step - loss: 0.1785\n",
      "Epoch 37/100\n",
      "\u001b[1m241/241\u001b[0m \u001b[32m━━━━━━━━━━━━━━━━━━━━\u001b[0m\u001b[37m\u001b[0m \u001b[1m0s\u001b[0m 72ms/step - loss: 0.1833\n",
      "Epoch 37: saving model to ViolinVivaldi.keras\n",
      "\u001b[1m241/241\u001b[0m \u001b[32m━━━━━━━━━━━━━━━━━━━━\u001b[0m\u001b[37m\u001b[0m \u001b[1m17s\u001b[0m 72ms/step - loss: 0.1834\n",
      "Epoch 38/100\n",
      "\u001b[1m241/241\u001b[0m \u001b[32m━━━━━━━━━━━━━━━━━━━━\u001b[0m\u001b[37m\u001b[0m \u001b[1m0s\u001b[0m 72ms/step - loss: 0.1696\n",
      "Epoch 38: saving model to ViolinVivaldi.keras\n",
      "\u001b[1m241/241\u001b[0m \u001b[32m━━━━━━━━━━━━━━━━━━━━\u001b[0m\u001b[37m\u001b[0m \u001b[1m17s\u001b[0m 72ms/step - loss: 0.1696\n",
      "Epoch 39/100\n",
      "\u001b[1m241/241\u001b[0m \u001b[32m━━━━━━━━━━━━━━━━━━━━\u001b[0m\u001b[37m\u001b[0m \u001b[1m0s\u001b[0m 72ms/step - loss: 0.1408\n",
      "Epoch 39: saving model to ViolinVivaldi.keras\n",
      "\u001b[1m241/241\u001b[0m \u001b[32m━━━━━━━━━━━━━━━━━━━━\u001b[0m\u001b[37m\u001b[0m \u001b[1m17s\u001b[0m 72ms/step - loss: 0.1408\n",
      "Epoch 40/100\n",
      "\u001b[1m241/241\u001b[0m \u001b[32m━━━━━━━━━━━━━━━━━━━━\u001b[0m\u001b[37m\u001b[0m \u001b[1m0s\u001b[0m 73ms/step - loss: 0.1099\n",
      "Epoch 40: saving model to ViolinVivaldi.keras\n",
      "\u001b[1m241/241\u001b[0m \u001b[32m━━━━━━━━━━━━━━━━━━━━\u001b[0m\u001b[37m\u001b[0m \u001b[1m18s\u001b[0m 73ms/step - loss: 0.1099\n",
      "Epoch 41/100\n",
      "\u001b[1m241/241\u001b[0m \u001b[32m━━━━━━━━━━━━━━━━━━━━\u001b[0m\u001b[37m\u001b[0m \u001b[1m0s\u001b[0m 73ms/step - loss: 0.1245\n",
      "Epoch 41: saving model to ViolinVivaldi.keras\n",
      "\u001b[1m241/241\u001b[0m \u001b[32m━━━━━━━━━━━━━━━━━━━━\u001b[0m\u001b[37m\u001b[0m \u001b[1m18s\u001b[0m 73ms/step - loss: 0.1245\n",
      "Epoch 42/100\n",
      "\u001b[1m241/241\u001b[0m \u001b[32m━━━━━━━━━━━━━━━━━━━━\u001b[0m\u001b[37m\u001b[0m \u001b[1m0s\u001b[0m 73ms/step - loss: 0.1339\n",
      "Epoch 42: saving model to ViolinVivaldi.keras\n",
      "\u001b[1m241/241\u001b[0m \u001b[32m━━━━━━━━━━━━━━━━━━━━\u001b[0m\u001b[37m\u001b[0m \u001b[1m18s\u001b[0m 73ms/step - loss: 0.1339\n",
      "Epoch 43/100\n",
      "\u001b[1m241/241\u001b[0m \u001b[32m━━━━━━━━━━━━━━━━━━━━\u001b[0m\u001b[37m\u001b[0m \u001b[1m0s\u001b[0m 73ms/step - loss: 0.1536\n",
      "Epoch 43: saving model to ViolinVivaldi.keras\n",
      "\u001b[1m241/241\u001b[0m \u001b[32m━━━━━━━━━━━━━━━━━━━━\u001b[0m\u001b[37m\u001b[0m \u001b[1m18s\u001b[0m 73ms/step - loss: 0.1536\n",
      "Epoch 44/100\n",
      "\u001b[1m241/241\u001b[0m \u001b[32m━━━━━━━━━━━━━━━━━━━━\u001b[0m\u001b[37m\u001b[0m \u001b[1m0s\u001b[0m 73ms/step - loss: 0.1303\n",
      "Epoch 44: saving model to ViolinVivaldi.keras\n",
      "\u001b[1m241/241\u001b[0m \u001b[32m━━━━━━━━━━━━━━━━━━━━\u001b[0m\u001b[37m\u001b[0m \u001b[1m18s\u001b[0m 73ms/step - loss: 0.1303\n",
      "Epoch 45/100\n",
      "\u001b[1m241/241\u001b[0m \u001b[32m━━━━━━━━━━━━━━━━━━━━\u001b[0m\u001b[37m\u001b[0m \u001b[1m0s\u001b[0m 73ms/step - loss: 0.1154\n",
      "Epoch 45: saving model to ViolinVivaldi.keras\n",
      "\u001b[1m241/241\u001b[0m \u001b[32m━━━━━━━━━━━━━━━━━━━━\u001b[0m\u001b[37m\u001b[0m \u001b[1m18s\u001b[0m 74ms/step - loss: 0.1154\n",
      "Epoch 46/100\n",
      "\u001b[1m241/241\u001b[0m \u001b[32m━━━━━━━━━━━━━━━━━━━━\u001b[0m\u001b[37m\u001b[0m \u001b[1m0s\u001b[0m 72ms/step - loss: 0.1214\n",
      "Epoch 46: saving model to ViolinVivaldi.keras\n",
      "\u001b[1m241/241\u001b[0m \u001b[32m━━━━━━━━━━━━━━━━━━━━\u001b[0m\u001b[37m\u001b[0m \u001b[1m17s\u001b[0m 72ms/step - loss: 0.1215\n",
      "Epoch 47/100\n",
      "\u001b[1m241/241\u001b[0m \u001b[32m━━━━━━━━━━━━━━━━━━━━\u001b[0m\u001b[37m\u001b[0m \u001b[1m0s\u001b[0m 72ms/step - loss: 0.1285\n",
      "Epoch 47: saving model to ViolinVivaldi.keras\n",
      "\u001b[1m241/241\u001b[0m \u001b[32m━━━━━━━━━━━━━━━━━━━━\u001b[0m\u001b[37m\u001b[0m \u001b[1m17s\u001b[0m 72ms/step - loss: 0.1285\n",
      "Epoch 48/100\n",
      "\u001b[1m241/241\u001b[0m \u001b[32m━━━━━━━━━━━━━━━━━━━━\u001b[0m\u001b[37m\u001b[0m \u001b[1m0s\u001b[0m 72ms/step - loss: 0.0943\n",
      "Epoch 48: saving model to ViolinVivaldi.keras\n",
      "\u001b[1m241/241\u001b[0m \u001b[32m━━━━━━━━━━━━━━━━━━━━\u001b[0m\u001b[37m\u001b[0m \u001b[1m17s\u001b[0m 72ms/step - loss: 0.0943\n",
      "Epoch 49/100\n",
      "\u001b[1m241/241\u001b[0m \u001b[32m━━━━━━━━━━━━━━━━━━━━\u001b[0m\u001b[37m\u001b[0m \u001b[1m0s\u001b[0m 72ms/step - loss: 0.0747\n",
      "Epoch 49: saving model to ViolinVivaldi.keras\n",
      "\u001b[1m241/241\u001b[0m \u001b[32m━━━━━━━━━━━━━━━━━━━━\u001b[0m\u001b[37m\u001b[0m \u001b[1m17s\u001b[0m 72ms/step - loss: 0.0747\n",
      "Epoch 50/100\n",
      "\u001b[1m241/241\u001b[0m \u001b[32m━━━━━━━━━━━━━━━━━━━━\u001b[0m\u001b[37m\u001b[0m \u001b[1m0s\u001b[0m 72ms/step - loss: 0.0807\n",
      "Epoch 50: saving model to ViolinVivaldi.keras\n",
      "\u001b[1m241/241\u001b[0m \u001b[32m━━━━━━━━━━━━━━━━━━━━\u001b[0m\u001b[37m\u001b[0m \u001b[1m17s\u001b[0m 72ms/step - loss: 0.0808\n",
      "Epoch 51/100\n",
      "\u001b[1m241/241\u001b[0m \u001b[32m━━━━━━━━━━━━━━━━━━━━\u001b[0m\u001b[37m\u001b[0m \u001b[1m0s\u001b[0m 73ms/step - loss: 0.1146\n",
      "Epoch 51: saving model to ViolinVivaldi.keras\n",
      "\u001b[1m241/241\u001b[0m \u001b[32m━━━━━━━━━━━━━━━━━━━━\u001b[0m\u001b[37m\u001b[0m \u001b[1m18s\u001b[0m 73ms/step - loss: 0.1146\n",
      "Epoch 52/100\n",
      "\u001b[1m241/241\u001b[0m \u001b[32m━━━━━━━━━━━━━━━━━━━━\u001b[0m\u001b[37m\u001b[0m \u001b[1m0s\u001b[0m 73ms/step - loss: 0.1046\n",
      "Epoch 52: saving model to ViolinVivaldi.keras\n",
      "\u001b[1m241/241\u001b[0m \u001b[32m━━━━━━━━━━━━━━━━━━━━\u001b[0m\u001b[37m\u001b[0m \u001b[1m18s\u001b[0m 73ms/step - loss: 0.1047\n",
      "Epoch 53/100\n",
      "\u001b[1m241/241\u001b[0m \u001b[32m━━━━━━━━━━━━━━━━━━━━\u001b[0m\u001b[37m\u001b[0m \u001b[1m0s\u001b[0m 73ms/step - loss: 0.1075\n",
      "Epoch 53: saving model to ViolinVivaldi.keras\n",
      "\u001b[1m241/241\u001b[0m \u001b[32m━━━━━━━━━━━━━━━━━━━━\u001b[0m\u001b[37m\u001b[0m \u001b[1m18s\u001b[0m 73ms/step - loss: 0.1075\n",
      "Epoch 54/100\n",
      "\u001b[1m241/241\u001b[0m \u001b[32m━━━━━━━━━━━━━━━━━━━━\u001b[0m\u001b[37m\u001b[0m \u001b[1m0s\u001b[0m 73ms/step - loss: 0.1009\n",
      "Epoch 54: saving model to ViolinVivaldi.keras\n",
      "\u001b[1m241/241\u001b[0m \u001b[32m━━━━━━━━━━━━━━━━━━━━\u001b[0m\u001b[37m\u001b[0m \u001b[1m18s\u001b[0m 73ms/step - loss: 0.1009\n",
      "Epoch 55/100\n",
      "\u001b[1m241/241\u001b[0m \u001b[32m━━━━━━━━━━━━━━━━━━━━\u001b[0m\u001b[37m\u001b[0m \u001b[1m0s\u001b[0m 73ms/step - loss: 0.1004\n",
      "Epoch 55: saving model to ViolinVivaldi.keras\n",
      "\u001b[1m241/241\u001b[0m \u001b[32m━━━━━━━━━━━━━━━━━━━━\u001b[0m\u001b[37m\u001b[0m \u001b[1m18s\u001b[0m 73ms/step - loss: 0.1005\n",
      "Epoch 56/100\n",
      "\u001b[1m241/241\u001b[0m \u001b[32m━━━━━━━━━━━━━━━━━━━━\u001b[0m\u001b[37m\u001b[0m \u001b[1m0s\u001b[0m 73ms/step - loss: 0.0917\n",
      "Epoch 56: saving model to ViolinVivaldi.keras\n",
      "\u001b[1m241/241\u001b[0m \u001b[32m━━━━━━━━━━━━━━━━━━━━\u001b[0m\u001b[37m\u001b[0m \u001b[1m18s\u001b[0m 73ms/step - loss: 0.0917\n",
      "Epoch 57/100\n",
      "\u001b[1m241/241\u001b[0m \u001b[32m━━━━━━━━━━━━━━━━━━━━\u001b[0m\u001b[37m\u001b[0m \u001b[1m0s\u001b[0m 73ms/step - loss: 0.0854\n",
      "Epoch 57: saving model to ViolinVivaldi.keras\n",
      "\u001b[1m241/241\u001b[0m \u001b[32m━━━━━━━━━━━━━━━━━━━━\u001b[0m\u001b[37m\u001b[0m \u001b[1m18s\u001b[0m 73ms/step - loss: 0.0855\n",
      "Epoch 58/100\n",
      "\u001b[1m241/241\u001b[0m \u001b[32m━━━━━━━━━━━━━━━━━━━━\u001b[0m\u001b[37m\u001b[0m \u001b[1m0s\u001b[0m 72ms/step - loss: 0.0813\n",
      "Epoch 58: saving model to ViolinVivaldi.keras\n",
      "\u001b[1m241/241\u001b[0m \u001b[32m━━━━━━━━━━━━━━━━━━━━\u001b[0m\u001b[37m\u001b[0m \u001b[1m17s\u001b[0m 72ms/step - loss: 0.0813\n",
      "Epoch 59/100\n",
      "\u001b[1m241/241\u001b[0m \u001b[32m━━━━━━━━━━━━━━━━━━━━\u001b[0m\u001b[37m\u001b[0m \u001b[1m0s\u001b[0m 72ms/step - loss: 0.0836\n",
      "Epoch 59: saving model to ViolinVivaldi.keras\n",
      "\u001b[1m241/241\u001b[0m \u001b[32m━━━━━━━━━━━━━━━━━━━━\u001b[0m\u001b[37m\u001b[0m \u001b[1m17s\u001b[0m 72ms/step - loss: 0.0836\n",
      "Epoch 60/100\n",
      "\u001b[1m241/241\u001b[0m \u001b[32m━━━━━━━━━━━━━━━━━━━━\u001b[0m\u001b[37m\u001b[0m \u001b[1m0s\u001b[0m 72ms/step - loss: 0.0711\n",
      "Epoch 60: saving model to ViolinVivaldi.keras\n",
      "\u001b[1m241/241\u001b[0m \u001b[32m━━━━━━━━━━━━━━━━━━━━\u001b[0m\u001b[37m\u001b[0m \u001b[1m17s\u001b[0m 72ms/step - loss: 0.0711\n",
      "Epoch 61/100\n",
      "\u001b[1m241/241\u001b[0m \u001b[32m━━━━━━━━━━━━━━━━━━━━\u001b[0m\u001b[37m\u001b[0m \u001b[1m0s\u001b[0m 72ms/step - loss: 0.0710\n",
      "Epoch 61: saving model to ViolinVivaldi.keras\n",
      "\u001b[1m241/241\u001b[0m \u001b[32m━━━━━━━━━━━━━━━━━━━━\u001b[0m\u001b[37m\u001b[0m \u001b[1m17s\u001b[0m 72ms/step - loss: 0.0710\n",
      "Epoch 62/100\n",
      "\u001b[1m241/241\u001b[0m \u001b[32m━━━━━━━━━━━━━━━━━━━━\u001b[0m\u001b[37m\u001b[0m \u001b[1m0s\u001b[0m 72ms/step - loss: 0.0753\n",
      "Epoch 62: saving model to ViolinVivaldi.keras\n",
      "\u001b[1m241/241\u001b[0m \u001b[32m━━━━━━━━━━━━━━━━━━━━\u001b[0m\u001b[37m\u001b[0m \u001b[1m17s\u001b[0m 72ms/step - loss: 0.0754\n",
      "Epoch 63/100\n",
      "\u001b[1m241/241\u001b[0m \u001b[32m━━━━━━━━━━━━━━━━━━━━\u001b[0m\u001b[37m\u001b[0m \u001b[1m0s\u001b[0m 72ms/step - loss: 0.0768\n",
      "Epoch 63: saving model to ViolinVivaldi.keras\n",
      "\u001b[1m241/241\u001b[0m \u001b[32m━━━━━━━━━━━━━━━━━━━━\u001b[0m\u001b[37m\u001b[0m \u001b[1m17s\u001b[0m 72ms/step - loss: 0.0768\n",
      "Epoch 64/100\n",
      "\u001b[1m241/241\u001b[0m \u001b[32m━━━━━━━━━━━━━━━━━━━━\u001b[0m\u001b[37m\u001b[0m \u001b[1m0s\u001b[0m 73ms/step - loss: 0.0998\n",
      "Epoch 64: saving model to ViolinVivaldi.keras\n",
      "\u001b[1m241/241\u001b[0m \u001b[32m━━━━━━━━━━━━━━━━━━━━\u001b[0m\u001b[37m\u001b[0m \u001b[1m18s\u001b[0m 73ms/step - loss: 0.0999\n",
      "Epoch 65/100\n",
      "\u001b[1m241/241\u001b[0m \u001b[32m━━━━━━━━━━━━━━━━━━━━\u001b[0m\u001b[37m\u001b[0m \u001b[1m0s\u001b[0m 72ms/step - loss: 0.0992\n",
      "Epoch 65: saving model to ViolinVivaldi.keras\n",
      "\u001b[1m241/241\u001b[0m \u001b[32m━━━━━━━━━━━━━━━━━━━━\u001b[0m\u001b[37m\u001b[0m \u001b[1m17s\u001b[0m 73ms/step - loss: 0.0992\n",
      "Epoch 66/100\n",
      "\u001b[1m241/241\u001b[0m \u001b[32m━━━━━━━━━━━━━━━━━━━━\u001b[0m\u001b[37m\u001b[0m \u001b[1m0s\u001b[0m 73ms/step - loss: 0.0805\n",
      "Epoch 66: saving model to ViolinVivaldi.keras\n",
      "\u001b[1m241/241\u001b[0m \u001b[32m━━━━━━━━━━━━━━━━━━━━\u001b[0m\u001b[37m\u001b[0m \u001b[1m18s\u001b[0m 73ms/step - loss: 0.0805\n",
      "Epoch 67/100\n",
      "\u001b[1m 42/241\u001b[0m \u001b[32m━━━\u001b[0m\u001b[37m━━━━━━━━━━━━━━━━━\u001b[0m \u001b[1m14s\u001b[0m 74ms/step - loss: 0.0522"
     ]
    },
    {
     "ename": "KeyboardInterrupt",
     "evalue": "",
     "output_type": "error",
     "traceback": [
      "\u001b[0;31m---------------------------------------------------------------------------\u001b[0m",
      "\u001b[0;31mKeyboardInterrupt\u001b[0m                         Traceback (most recent call last)",
      "Cell \u001b[0;32mIn[170], line 7\u001b[0m\n\u001b[1;32m      5\u001b[0m \u001b[38;5;28;01melse\u001b[39;00m:\n\u001b[1;32m      6\u001b[0m     mc \u001b[38;5;241m=\u001b[39m ModelCheckpoint(model_name, mode\u001b[38;5;241m=\u001b[39m\u001b[38;5;124m'\u001b[39m\u001b[38;5;124mmin\u001b[39m\u001b[38;5;124m'\u001b[39m, verbose\u001b[38;5;241m=\u001b[39m\u001b[38;5;241m1\u001b[39m)\n\u001b[0;32m----> 7\u001b[0m     history \u001b[38;5;241m=\u001b[39m \u001b[43mmodel\u001b[49m\u001b[38;5;241;43m.\u001b[39;49m\u001b[43mfit\u001b[49m\u001b[43m(\u001b[49m\u001b[43mnp\u001b[49m\u001b[38;5;241;43m.\u001b[39;49m\u001b[43marray\u001b[49m\u001b[43m(\u001b[49m\u001b[43mx_seq\u001b[49m\u001b[43m)\u001b[49m\u001b[43m,\u001b[49m\u001b[43mnp\u001b[49m\u001b[38;5;241;43m.\u001b[39;49m\u001b[43marray\u001b[49m\u001b[43m(\u001b[49m\u001b[43my_seq\u001b[49m\u001b[43m)\u001b[49m\u001b[43m,\u001b[49m\u001b[43mbatch_size\u001b[49m\u001b[38;5;241;43m=\u001b[39;49m\u001b[38;5;241;43m128\u001b[39;49m\u001b[43m,\u001b[49m\u001b[43mepochs\u001b[49m\u001b[38;5;241;43m=\u001b[39;49m\u001b[43mepochs\u001b[49m\u001b[43m,\u001b[49m\u001b[43m \u001b[49m\u001b[43mverbose\u001b[49m\u001b[38;5;241;43m=\u001b[39;49m\u001b[38;5;241;43m1\u001b[39;49m\u001b[43m,\u001b[49m\u001b[43m \u001b[49m\u001b[43mcallbacks\u001b[49m\u001b[38;5;241;43m=\u001b[39;49m\u001b[43m[\u001b[49m\u001b[43mmc\u001b[49m\u001b[43m,\u001b[49m\u001b[43m \u001b[49m\u001b[43mtensorboard_callback\u001b[49m\u001b[43m]\u001b[49m\u001b[43m)\u001b[49m\n\u001b[1;32m      9\u001b[0m \u001b[38;5;66;03m# can stop kernel if loss does not consistently decrease (converges)\u001b[39;00m\n",
      "File \u001b[0;32m~/miniconda3/lib/python3.11/site-packages/keras/src/utils/traceback_utils.py:117\u001b[0m, in \u001b[0;36mfilter_traceback.<locals>.error_handler\u001b[0;34m(*args, **kwargs)\u001b[0m\n\u001b[1;32m    115\u001b[0m filtered_tb \u001b[38;5;241m=\u001b[39m \u001b[38;5;28;01mNone\u001b[39;00m\n\u001b[1;32m    116\u001b[0m \u001b[38;5;28;01mtry\u001b[39;00m:\n\u001b[0;32m--> 117\u001b[0m     \u001b[38;5;28;01mreturn\u001b[39;00m \u001b[43mfn\u001b[49m\u001b[43m(\u001b[49m\u001b[38;5;241;43m*\u001b[39;49m\u001b[43margs\u001b[49m\u001b[43m,\u001b[49m\u001b[43m \u001b[49m\u001b[38;5;241;43m*\u001b[39;49m\u001b[38;5;241;43m*\u001b[39;49m\u001b[43mkwargs\u001b[49m\u001b[43m)\u001b[49m\n\u001b[1;32m    118\u001b[0m \u001b[38;5;28;01mexcept\u001b[39;00m \u001b[38;5;167;01mException\u001b[39;00m \u001b[38;5;28;01mas\u001b[39;00m e:\n\u001b[1;32m    119\u001b[0m     filtered_tb \u001b[38;5;241m=\u001b[39m _process_traceback_frames(e\u001b[38;5;241m.\u001b[39m__traceback__)\n",
      "File \u001b[0;32m~/miniconda3/lib/python3.11/site-packages/keras/src/backend/tensorflow/trainer.py:318\u001b[0m, in \u001b[0;36mTensorFlowTrainer.fit\u001b[0;34m(self, x, y, batch_size, epochs, verbose, callbacks, validation_split, validation_data, shuffle, class_weight, sample_weight, initial_epoch, steps_per_epoch, validation_steps, validation_batch_size, validation_freq)\u001b[0m\n\u001b[1;32m    316\u001b[0m \u001b[38;5;28;01mfor\u001b[39;00m step, iterator \u001b[38;5;129;01min\u001b[39;00m epoch_iterator\u001b[38;5;241m.\u001b[39menumerate_epoch():\n\u001b[1;32m    317\u001b[0m     callbacks\u001b[38;5;241m.\u001b[39mon_train_batch_begin(step)\n\u001b[0;32m--> 318\u001b[0m     logs \u001b[38;5;241m=\u001b[39m \u001b[38;5;28;43mself\u001b[39;49m\u001b[38;5;241;43m.\u001b[39;49m\u001b[43mtrain_function\u001b[49m\u001b[43m(\u001b[49m\u001b[43miterator\u001b[49m\u001b[43m)\u001b[49m\n\u001b[1;32m    319\u001b[0m     logs \u001b[38;5;241m=\u001b[39m \u001b[38;5;28mself\u001b[39m\u001b[38;5;241m.\u001b[39m_pythonify_logs(logs)\n\u001b[1;32m    320\u001b[0m     callbacks\u001b[38;5;241m.\u001b[39mon_train_batch_end(step, logs)\n",
      "File \u001b[0;32m~/miniconda3/lib/python3.11/site-packages/tensorflow/python/util/traceback_utils.py:150\u001b[0m, in \u001b[0;36mfilter_traceback.<locals>.error_handler\u001b[0;34m(*args, **kwargs)\u001b[0m\n\u001b[1;32m    148\u001b[0m filtered_tb \u001b[38;5;241m=\u001b[39m \u001b[38;5;28;01mNone\u001b[39;00m\n\u001b[1;32m    149\u001b[0m \u001b[38;5;28;01mtry\u001b[39;00m:\n\u001b[0;32m--> 150\u001b[0m   \u001b[38;5;28;01mreturn\u001b[39;00m \u001b[43mfn\u001b[49m\u001b[43m(\u001b[49m\u001b[38;5;241;43m*\u001b[39;49m\u001b[43margs\u001b[49m\u001b[43m,\u001b[49m\u001b[43m \u001b[49m\u001b[38;5;241;43m*\u001b[39;49m\u001b[38;5;241;43m*\u001b[39;49m\u001b[43mkwargs\u001b[49m\u001b[43m)\u001b[49m\n\u001b[1;32m    151\u001b[0m \u001b[38;5;28;01mexcept\u001b[39;00m \u001b[38;5;167;01mException\u001b[39;00m \u001b[38;5;28;01mas\u001b[39;00m e:\n\u001b[1;32m    152\u001b[0m   filtered_tb \u001b[38;5;241m=\u001b[39m _process_traceback_frames(e\u001b[38;5;241m.\u001b[39m__traceback__)\n",
      "File \u001b[0;32m~/miniconda3/lib/python3.11/site-packages/tensorflow/python/eager/polymorphic_function/polymorphic_function.py:833\u001b[0m, in \u001b[0;36mFunction.__call__\u001b[0;34m(self, *args, **kwds)\u001b[0m\n\u001b[1;32m    830\u001b[0m compiler \u001b[38;5;241m=\u001b[39m \u001b[38;5;124m\"\u001b[39m\u001b[38;5;124mxla\u001b[39m\u001b[38;5;124m\"\u001b[39m \u001b[38;5;28;01mif\u001b[39;00m \u001b[38;5;28mself\u001b[39m\u001b[38;5;241m.\u001b[39m_jit_compile \u001b[38;5;28;01melse\u001b[39;00m \u001b[38;5;124m\"\u001b[39m\u001b[38;5;124mnonXla\u001b[39m\u001b[38;5;124m\"\u001b[39m\n\u001b[1;32m    832\u001b[0m \u001b[38;5;28;01mwith\u001b[39;00m OptionalXlaContext(\u001b[38;5;28mself\u001b[39m\u001b[38;5;241m.\u001b[39m_jit_compile):\n\u001b[0;32m--> 833\u001b[0m   result \u001b[38;5;241m=\u001b[39m \u001b[38;5;28;43mself\u001b[39;49m\u001b[38;5;241;43m.\u001b[39;49m\u001b[43m_call\u001b[49m\u001b[43m(\u001b[49m\u001b[38;5;241;43m*\u001b[39;49m\u001b[43margs\u001b[49m\u001b[43m,\u001b[49m\u001b[43m \u001b[49m\u001b[38;5;241;43m*\u001b[39;49m\u001b[38;5;241;43m*\u001b[39;49m\u001b[43mkwds\u001b[49m\u001b[43m)\u001b[49m\n\u001b[1;32m    835\u001b[0m new_tracing_count \u001b[38;5;241m=\u001b[39m \u001b[38;5;28mself\u001b[39m\u001b[38;5;241m.\u001b[39mexperimental_get_tracing_count()\n\u001b[1;32m    836\u001b[0m without_tracing \u001b[38;5;241m=\u001b[39m (tracing_count \u001b[38;5;241m==\u001b[39m new_tracing_count)\n",
      "File \u001b[0;32m~/miniconda3/lib/python3.11/site-packages/tensorflow/python/eager/polymorphic_function/polymorphic_function.py:878\u001b[0m, in \u001b[0;36mFunction._call\u001b[0;34m(self, *args, **kwds)\u001b[0m\n\u001b[1;32m    875\u001b[0m \u001b[38;5;28mself\u001b[39m\u001b[38;5;241m.\u001b[39m_lock\u001b[38;5;241m.\u001b[39mrelease()\n\u001b[1;32m    876\u001b[0m \u001b[38;5;66;03m# In this case we have not created variables on the first call. So we can\u001b[39;00m\n\u001b[1;32m    877\u001b[0m \u001b[38;5;66;03m# run the first trace but we should fail if variables are created.\u001b[39;00m\n\u001b[0;32m--> 878\u001b[0m results \u001b[38;5;241m=\u001b[39m \u001b[43mtracing_compilation\u001b[49m\u001b[38;5;241;43m.\u001b[39;49m\u001b[43mcall_function\u001b[49m\u001b[43m(\u001b[49m\n\u001b[1;32m    879\u001b[0m \u001b[43m    \u001b[49m\u001b[43margs\u001b[49m\u001b[43m,\u001b[49m\u001b[43m \u001b[49m\u001b[43mkwds\u001b[49m\u001b[43m,\u001b[49m\u001b[43m \u001b[49m\u001b[38;5;28;43mself\u001b[39;49m\u001b[38;5;241;43m.\u001b[39;49m\u001b[43m_variable_creation_config\u001b[49m\n\u001b[1;32m    880\u001b[0m \u001b[43m\u001b[49m\u001b[43m)\u001b[49m\n\u001b[1;32m    881\u001b[0m \u001b[38;5;28;01mif\u001b[39;00m \u001b[38;5;28mself\u001b[39m\u001b[38;5;241m.\u001b[39m_created_variables:\n\u001b[1;32m    882\u001b[0m   \u001b[38;5;28;01mraise\u001b[39;00m \u001b[38;5;167;01mValueError\u001b[39;00m(\u001b[38;5;124m\"\u001b[39m\u001b[38;5;124mCreating variables on a non-first call to a function\u001b[39m\u001b[38;5;124m\"\u001b[39m\n\u001b[1;32m    883\u001b[0m                    \u001b[38;5;124m\"\u001b[39m\u001b[38;5;124m decorated with tf.function.\u001b[39m\u001b[38;5;124m\"\u001b[39m)\n",
      "File \u001b[0;32m~/miniconda3/lib/python3.11/site-packages/tensorflow/python/eager/polymorphic_function/tracing_compilation.py:139\u001b[0m, in \u001b[0;36mcall_function\u001b[0;34m(args, kwargs, tracing_options)\u001b[0m\n\u001b[1;32m    137\u001b[0m bound_args \u001b[38;5;241m=\u001b[39m function\u001b[38;5;241m.\u001b[39mfunction_type\u001b[38;5;241m.\u001b[39mbind(\u001b[38;5;241m*\u001b[39margs, \u001b[38;5;241m*\u001b[39m\u001b[38;5;241m*\u001b[39mkwargs)\n\u001b[1;32m    138\u001b[0m flat_inputs \u001b[38;5;241m=\u001b[39m function\u001b[38;5;241m.\u001b[39mfunction_type\u001b[38;5;241m.\u001b[39munpack_inputs(bound_args)\n\u001b[0;32m--> 139\u001b[0m \u001b[38;5;28;01mreturn\u001b[39;00m \u001b[43mfunction\u001b[49m\u001b[38;5;241;43m.\u001b[39;49m\u001b[43m_call_flat\u001b[49m\u001b[43m(\u001b[49m\u001b[43m  \u001b[49m\u001b[38;5;66;43;03m# pylint: disable=protected-access\u001b[39;49;00m\n\u001b[1;32m    140\u001b[0m \u001b[43m    \u001b[49m\u001b[43mflat_inputs\u001b[49m\u001b[43m,\u001b[49m\u001b[43m \u001b[49m\u001b[43mcaptured_inputs\u001b[49m\u001b[38;5;241;43m=\u001b[39;49m\u001b[43mfunction\u001b[49m\u001b[38;5;241;43m.\u001b[39;49m\u001b[43mcaptured_inputs\u001b[49m\n\u001b[1;32m    141\u001b[0m \u001b[43m\u001b[49m\u001b[43m)\u001b[49m\n",
      "File \u001b[0;32m~/miniconda3/lib/python3.11/site-packages/tensorflow/python/eager/polymorphic_function/concrete_function.py:1322\u001b[0m, in \u001b[0;36mConcreteFunction._call_flat\u001b[0;34m(self, tensor_inputs, captured_inputs)\u001b[0m\n\u001b[1;32m   1318\u001b[0m possible_gradient_type \u001b[38;5;241m=\u001b[39m gradients_util\u001b[38;5;241m.\u001b[39mPossibleTapeGradientTypes(args)\n\u001b[1;32m   1319\u001b[0m \u001b[38;5;28;01mif\u001b[39;00m (possible_gradient_type \u001b[38;5;241m==\u001b[39m gradients_util\u001b[38;5;241m.\u001b[39mPOSSIBLE_GRADIENT_TYPES_NONE\n\u001b[1;32m   1320\u001b[0m     \u001b[38;5;129;01mand\u001b[39;00m executing_eagerly):\n\u001b[1;32m   1321\u001b[0m   \u001b[38;5;66;03m# No tape is watching; skip to running the function.\u001b[39;00m\n\u001b[0;32m-> 1322\u001b[0m   \u001b[38;5;28;01mreturn\u001b[39;00m \u001b[38;5;28;43mself\u001b[39;49m\u001b[38;5;241;43m.\u001b[39;49m\u001b[43m_inference_function\u001b[49m\u001b[38;5;241;43m.\u001b[39;49m\u001b[43mcall_preflattened\u001b[49m\u001b[43m(\u001b[49m\u001b[43margs\u001b[49m\u001b[43m)\u001b[49m\n\u001b[1;32m   1323\u001b[0m forward_backward \u001b[38;5;241m=\u001b[39m \u001b[38;5;28mself\u001b[39m\u001b[38;5;241m.\u001b[39m_select_forward_and_backward_functions(\n\u001b[1;32m   1324\u001b[0m     args,\n\u001b[1;32m   1325\u001b[0m     possible_gradient_type,\n\u001b[1;32m   1326\u001b[0m     executing_eagerly)\n\u001b[1;32m   1327\u001b[0m forward_function, args_with_tangents \u001b[38;5;241m=\u001b[39m forward_backward\u001b[38;5;241m.\u001b[39mforward()\n",
      "File \u001b[0;32m~/miniconda3/lib/python3.11/site-packages/tensorflow/python/eager/polymorphic_function/atomic_function.py:216\u001b[0m, in \u001b[0;36mAtomicFunction.call_preflattened\u001b[0;34m(self, args)\u001b[0m\n\u001b[1;32m    214\u001b[0m \u001b[38;5;28;01mdef\u001b[39;00m \u001b[38;5;21mcall_preflattened\u001b[39m(\u001b[38;5;28mself\u001b[39m, args: Sequence[core\u001b[38;5;241m.\u001b[39mTensor]) \u001b[38;5;241m-\u001b[39m\u001b[38;5;241m>\u001b[39m Any:\n\u001b[1;32m    215\u001b[0m \u001b[38;5;250m  \u001b[39m\u001b[38;5;124;03m\"\"\"Calls with flattened tensor inputs and returns the structured output.\"\"\"\u001b[39;00m\n\u001b[0;32m--> 216\u001b[0m   flat_outputs \u001b[38;5;241m=\u001b[39m \u001b[38;5;28;43mself\u001b[39;49m\u001b[38;5;241;43m.\u001b[39;49m\u001b[43mcall_flat\u001b[49m\u001b[43m(\u001b[49m\u001b[38;5;241;43m*\u001b[39;49m\u001b[43margs\u001b[49m\u001b[43m)\u001b[49m\n\u001b[1;32m    217\u001b[0m   \u001b[38;5;28;01mreturn\u001b[39;00m \u001b[38;5;28mself\u001b[39m\u001b[38;5;241m.\u001b[39mfunction_type\u001b[38;5;241m.\u001b[39mpack_output(flat_outputs)\n",
      "File \u001b[0;32m~/miniconda3/lib/python3.11/site-packages/tensorflow/python/eager/polymorphic_function/atomic_function.py:251\u001b[0m, in \u001b[0;36mAtomicFunction.call_flat\u001b[0;34m(self, *args)\u001b[0m\n\u001b[1;32m    249\u001b[0m \u001b[38;5;28;01mwith\u001b[39;00m record\u001b[38;5;241m.\u001b[39mstop_recording():\n\u001b[1;32m    250\u001b[0m   \u001b[38;5;28;01mif\u001b[39;00m \u001b[38;5;28mself\u001b[39m\u001b[38;5;241m.\u001b[39m_bound_context\u001b[38;5;241m.\u001b[39mexecuting_eagerly():\n\u001b[0;32m--> 251\u001b[0m     outputs \u001b[38;5;241m=\u001b[39m \u001b[38;5;28;43mself\u001b[39;49m\u001b[38;5;241;43m.\u001b[39;49m\u001b[43m_bound_context\u001b[49m\u001b[38;5;241;43m.\u001b[39;49m\u001b[43mcall_function\u001b[49m\u001b[43m(\u001b[49m\n\u001b[1;32m    252\u001b[0m \u001b[43m        \u001b[49m\u001b[38;5;28;43mself\u001b[39;49m\u001b[38;5;241;43m.\u001b[39;49m\u001b[43mname\u001b[49m\u001b[43m,\u001b[49m\n\u001b[1;32m    253\u001b[0m \u001b[43m        \u001b[49m\u001b[38;5;28;43mlist\u001b[39;49m\u001b[43m(\u001b[49m\u001b[43margs\u001b[49m\u001b[43m)\u001b[49m\u001b[43m,\u001b[49m\n\u001b[1;32m    254\u001b[0m \u001b[43m        \u001b[49m\u001b[38;5;28;43mlen\u001b[39;49m\u001b[43m(\u001b[49m\u001b[38;5;28;43mself\u001b[39;49m\u001b[38;5;241;43m.\u001b[39;49m\u001b[43mfunction_type\u001b[49m\u001b[38;5;241;43m.\u001b[39;49m\u001b[43mflat_outputs\u001b[49m\u001b[43m)\u001b[49m\u001b[43m,\u001b[49m\n\u001b[1;32m    255\u001b[0m \u001b[43m    \u001b[49m\u001b[43m)\u001b[49m\n\u001b[1;32m    256\u001b[0m   \u001b[38;5;28;01melse\u001b[39;00m:\n\u001b[1;32m    257\u001b[0m     outputs \u001b[38;5;241m=\u001b[39m make_call_op_in_graph(\n\u001b[1;32m    258\u001b[0m         \u001b[38;5;28mself\u001b[39m,\n\u001b[1;32m    259\u001b[0m         \u001b[38;5;28mlist\u001b[39m(args),\n\u001b[1;32m    260\u001b[0m         \u001b[38;5;28mself\u001b[39m\u001b[38;5;241m.\u001b[39m_bound_context\u001b[38;5;241m.\u001b[39mfunction_call_options\u001b[38;5;241m.\u001b[39mas_attrs(),\n\u001b[1;32m    261\u001b[0m     )\n",
      "File \u001b[0;32m~/miniconda3/lib/python3.11/site-packages/tensorflow/python/eager/context.py:1552\u001b[0m, in \u001b[0;36mContext.call_function\u001b[0;34m(self, name, tensor_inputs, num_outputs)\u001b[0m\n\u001b[1;32m   1550\u001b[0m cancellation_context \u001b[38;5;241m=\u001b[39m cancellation\u001b[38;5;241m.\u001b[39mcontext()\n\u001b[1;32m   1551\u001b[0m \u001b[38;5;28;01mif\u001b[39;00m cancellation_context \u001b[38;5;129;01mis\u001b[39;00m \u001b[38;5;28;01mNone\u001b[39;00m:\n\u001b[0;32m-> 1552\u001b[0m   outputs \u001b[38;5;241m=\u001b[39m \u001b[43mexecute\u001b[49m\u001b[38;5;241;43m.\u001b[39;49m\u001b[43mexecute\u001b[49m\u001b[43m(\u001b[49m\n\u001b[1;32m   1553\u001b[0m \u001b[43m      \u001b[49m\u001b[43mname\u001b[49m\u001b[38;5;241;43m.\u001b[39;49m\u001b[43mdecode\u001b[49m\u001b[43m(\u001b[49m\u001b[38;5;124;43m\"\u001b[39;49m\u001b[38;5;124;43mutf-8\u001b[39;49m\u001b[38;5;124;43m\"\u001b[39;49m\u001b[43m)\u001b[49m\u001b[43m,\u001b[49m\n\u001b[1;32m   1554\u001b[0m \u001b[43m      \u001b[49m\u001b[43mnum_outputs\u001b[49m\u001b[38;5;241;43m=\u001b[39;49m\u001b[43mnum_outputs\u001b[49m\u001b[43m,\u001b[49m\n\u001b[1;32m   1555\u001b[0m \u001b[43m      \u001b[49m\u001b[43minputs\u001b[49m\u001b[38;5;241;43m=\u001b[39;49m\u001b[43mtensor_inputs\u001b[49m\u001b[43m,\u001b[49m\n\u001b[1;32m   1556\u001b[0m \u001b[43m      \u001b[49m\u001b[43mattrs\u001b[49m\u001b[38;5;241;43m=\u001b[39;49m\u001b[43mattrs\u001b[49m\u001b[43m,\u001b[49m\n\u001b[1;32m   1557\u001b[0m \u001b[43m      \u001b[49m\u001b[43mctx\u001b[49m\u001b[38;5;241;43m=\u001b[39;49m\u001b[38;5;28;43mself\u001b[39;49m\u001b[43m,\u001b[49m\n\u001b[1;32m   1558\u001b[0m \u001b[43m  \u001b[49m\u001b[43m)\u001b[49m\n\u001b[1;32m   1559\u001b[0m \u001b[38;5;28;01melse\u001b[39;00m:\n\u001b[1;32m   1560\u001b[0m   outputs \u001b[38;5;241m=\u001b[39m execute\u001b[38;5;241m.\u001b[39mexecute_with_cancellation(\n\u001b[1;32m   1561\u001b[0m       name\u001b[38;5;241m.\u001b[39mdecode(\u001b[38;5;124m\"\u001b[39m\u001b[38;5;124mutf-8\u001b[39m\u001b[38;5;124m\"\u001b[39m),\n\u001b[1;32m   1562\u001b[0m       num_outputs\u001b[38;5;241m=\u001b[39mnum_outputs,\n\u001b[0;32m   (...)\u001b[0m\n\u001b[1;32m   1566\u001b[0m       cancellation_manager\u001b[38;5;241m=\u001b[39mcancellation_context,\n\u001b[1;32m   1567\u001b[0m   )\n",
      "File \u001b[0;32m~/miniconda3/lib/python3.11/site-packages/tensorflow/python/eager/execute.py:53\u001b[0m, in \u001b[0;36mquick_execute\u001b[0;34m(op_name, num_outputs, inputs, attrs, ctx, name)\u001b[0m\n\u001b[1;32m     51\u001b[0m \u001b[38;5;28;01mtry\u001b[39;00m:\n\u001b[1;32m     52\u001b[0m   ctx\u001b[38;5;241m.\u001b[39mensure_initialized()\n\u001b[0;32m---> 53\u001b[0m   tensors \u001b[38;5;241m=\u001b[39m \u001b[43mpywrap_tfe\u001b[49m\u001b[38;5;241;43m.\u001b[39;49m\u001b[43mTFE_Py_Execute\u001b[49m\u001b[43m(\u001b[49m\u001b[43mctx\u001b[49m\u001b[38;5;241;43m.\u001b[39;49m\u001b[43m_handle\u001b[49m\u001b[43m,\u001b[49m\u001b[43m \u001b[49m\u001b[43mdevice_name\u001b[49m\u001b[43m,\u001b[49m\u001b[43m \u001b[49m\u001b[43mop_name\u001b[49m\u001b[43m,\u001b[49m\n\u001b[1;32m     54\u001b[0m \u001b[43m                                      \u001b[49m\u001b[43minputs\u001b[49m\u001b[43m,\u001b[49m\u001b[43m \u001b[49m\u001b[43mattrs\u001b[49m\u001b[43m,\u001b[49m\u001b[43m \u001b[49m\u001b[43mnum_outputs\u001b[49m\u001b[43m)\u001b[49m\n\u001b[1;32m     55\u001b[0m \u001b[38;5;28;01mexcept\u001b[39;00m core\u001b[38;5;241m.\u001b[39m_NotOkStatusException \u001b[38;5;28;01mas\u001b[39;00m e:\n\u001b[1;32m     56\u001b[0m   \u001b[38;5;28;01mif\u001b[39;00m name \u001b[38;5;129;01mis\u001b[39;00m \u001b[38;5;129;01mnot\u001b[39;00m \u001b[38;5;28;01mNone\u001b[39;00m:\n",
      "\u001b[0;31mKeyboardInterrupt\u001b[0m: "
     ]
    }
   ],
   "source": [
    "# training\n",
    "if validation:\n",
    "    mc = ModelCheckpoint(model_name, mode='min', verbose=1, save_best_only=True)\n",
    "    history = model.fit(np.array(x_tr),np.array(y_tr),batch_size=128,epochs=epochs, validation_data=(np.array(x_val),np.array(y_val)),verbose=1, callbacks=[mc])\n",
    "else:\n",
    "    mc = ModelCheckpoint(model_name, mode='min', verbose=1)\n",
    "    history = model.fit(np.array(x_seq),np.array(y_seq),batch_size=128,epochs=epochs, verbose=1, callbacks=[mc, tensorboard_callback])\n",
    "    \n",
    "# can stop kernel if loss does not consistently decrease (converges)"
   ]
  },
  {
   "cell_type": "code",
   "execution_count": null,
   "id": "1bfea518",
   "metadata": {},
   "outputs": [],
   "source": [
    "%tensorboard --logdir logs"
   ]
  }
 ],
 "metadata": {
  "kernelspec": {
   "display_name": "Python 3 (ipykernel)",
   "language": "python",
   "name": "python3"
  },
  "language_info": {
   "codemirror_mode": {
    "name": "ipython",
    "version": 3
   },
   "file_extension": ".py",
   "mimetype": "text/x-python",
   "name": "python",
   "nbconvert_exporter": "python",
   "pygments_lexer": "ipython3",
   "version": "3.11.4"
  },
  "vscode": {
   "interpreter": {
    "hash": "b0fa6594d8f4cbf19f97940f81e996739fb7646882a419484c72d19e05852a7e"
   }
  }
 },
 "nbformat": 4,
 "nbformat_minor": 5
}
