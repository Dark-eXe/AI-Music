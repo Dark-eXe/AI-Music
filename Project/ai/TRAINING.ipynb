{
 "cells": [
  {
   "cell_type": "markdown",
   "id": "5ab146f5",
   "metadata": {},
   "source": [
    "# Training"
   ]
  },
  {
   "cell_type": "code",
   "execution_count": 24,
   "id": "f1fedc24",
   "metadata": {},
   "outputs": [],
   "source": [
    "# !pip install music21\n",
    "from music21 import *\n",
    "import numpy as np\n",
    "import os\n",
    "from collections import Counter\n",
    "from fractions import Fraction\n",
    "\n",
    "# !pip install tensorflow\n",
    "from keras.layers import *\n",
    "from keras.models import *\n",
    "from keras.callbacks import *\n",
    "import keras.backend as K\n",
    "import tensorboard\n",
    "import tensorflow as tf\n",
    "from datetime import datetime\n",
    "\n",
    "# !pip install sklearn\n",
    "from sklearn.model_selection import train_test_split"
   ]
  },
  {
   "cell_type": "code",
   "execution_count": 2,
   "id": "1cfbb3b7",
   "metadata": {},
   "outputs": [],
   "source": [
    "%load_ext tensorboard"
   ]
  },
  {
   "cell_type": "code",
   "execution_count": 3,
   "id": "24926757",
   "metadata": {},
   "outputs": [],
   "source": [
    "inst = 'Piano'\n",
    "artist = 'Anime'"
   ]
  },
  {
   "cell_type": "markdown",
   "id": "c312431c",
   "metadata": {},
   "source": [
    "$ instrument \\in \\{Piano, Violin, Flute, Horn, Vocal\\} $ <br> <br>\n",
    "$ instrument = Piano \\rightarrow artist \\in \\{Bach, Beethoven, Chopin, Debussy, Mozart, Ellington, Corea, Anime\\}$\n",
    "$ instrument = Violin \\rightarrow artist \\in \\{Mozart, Paganini, Vivaldi\\}$ <br>\n",
    "$ instrument = Flute \\rightarrow artist \\in \\{Brahms, Wagner\\}$ <br>\n",
    "$ instrument = Horn \\rightarrow artist \\in \\{Mozart, Strauss\\}$ <br>\n",
    "$ instrument = Vocal \\rightarrow artist \\in \\{DaftPunk, Jazz, Pop\\}$"
   ]
  },
  {
   "cell_type": "code",
   "execution_count": 28,
   "id": "3944134f",
   "metadata": {},
   "outputs": [],
   "source": [
    "# file references\n",
    "path = \"train_music/\" + inst + artist + \"/\"\n",
    "model_name = inst + artist + \".keras\"\n",
    "\n",
    "unique_x_file = inst + artist + \"_unique.txt\"\n",
    "xval_file = inst + artist + \"_x.txt\""
   ]
  },
  {
   "cell_type": "code",
   "execution_count": 5,
   "id": "03649e94",
   "metadata": {},
   "outputs": [],
   "source": [
    "# hyperparameters\n",
    "epochs=100 # number of times model runs through train data during training\n",
    "frequentNoteMin = 10 # model only counts \"frequent\" notes, specify number times a note/rhythm must appear in train music to be counted\n",
    "validation=False # include val loss as metric for training - only set to True if overfitting is a clear issue\n",
    "no_of_timesteps = 32 # SENSITIVE - DO NOT MODIFY, HERE FOR EXPERIMENTAL REASONS, length of sequence to determine next note/rhythm in sequence"
   ]
  },
  {
   "cell_type": "code",
   "execution_count": 6,
   "id": "3be387ab",
   "metadata": {},
   "outputs": [],
   "source": [
    "def read_midi(file, inst):\n",
    "    \n",
    "    print(\"Loading Music File:\",file)\n",
    "    \n",
    "    notes=[]\n",
    "    notes_to_parse = None\n",
    "    \n",
    "    #parsing a midi file\n",
    "    midi = converter.parse(file)\n",
    "    #midi.show()\n",
    "  \n",
    "    #grouping based on different instruments\n",
    "    s2 = instrument.partitionByInstrument(midi)\n",
    "\n",
    "    #Looping over all the instruments\n",
    "    for part in s2.parts:\n",
    "    \n",
    "        #select elements of only the selected instrument\n",
    "        if inst in str(part): \n",
    "        \n",
    "            notes_to_parse = part.recurse() \n",
    "      \n",
    "            #finding whether a particular element is note or a chord\n",
    "            for element in notes_to_parse:\n",
    "                \n",
    "                #note\n",
    "                if isinstance(element, note.Note):\n",
    "                    notes.append((str(element.pitch), element.quarterLength))\n",
    "                \n",
    "                #chord\n",
    "                elif isinstance(element, chord.Chord):\n",
    "                    notes.append(('.'.join(str(n) for n in element.normalOrder), element.quarterLength))\n",
    "                    \n",
    "                #rest\n",
    "                elif isinstance(element, note.Rest):\n",
    "                    notes.append(('rest', element.quarterLength))\n",
    "\n",
    "    return notes"
   ]
  },
  {
   "cell_type": "markdown",
   "id": "cee298d4",
   "metadata": {},
   "source": [
    "### Extract Note Sequences"
   ]
  },
  {
   "cell_type": "code",
   "execution_count": 7,
   "id": "1a447c30",
   "metadata": {},
   "outputs": [
    {
     "name": "stdout",
     "output_type": "stream",
     "text": [
      "Loading notes...\n",
      "Loading Music File: train_music/PianoAnime/Zankyousanka - LH.mid\n",
      "Loading Music File: train_music/PianoAnime/First_View_of_Tokyo_Your_Name - LH.mid\n",
      "Loading Music File: train_music/PianoAnime/Blue_Bird - RH.mid\n",
      "Loading Music File: train_music/PianoAnime/Demon_Slayer_Mugen_Train_Rengoku_Theme_9th_Form__Yuki_Kajiura.mid\n",
      "Loading Music File: train_music/PianoAnime/VIVID_VICE - LH.mid\n",
      "Loading Music File: train_music/PianoAnime/Eye-Water_-_Attack_on_Titan.mid\n",
      "Loading Music File: train_music/PianoAnime/Unravel_Easy_Full_Version.mid\n",
      "Loading Music File: train_music/PianoAnime/Date - LH.mid\n",
      "Loading Music File: train_music/PianoAnime/A_Friends_Reminiscence - RH.mid\n",
      "Loading Music File: train_music/PianoAnime/Autumn_Festival__Your_Name_Kimi_no_Na_wa.mid\n",
      "Loading Music File: train_music/PianoAnime/C_Shu_Nie_-_Give_It_Back_JUJUTSU_KAISEN_Ending_2 - LH.mid\n",
      "Loading Music File: train_music/PianoAnime/Last Words - LH.mid\n",
      "Loading Music File: train_music/PianoAnime/JJK - RH.mid\n",
      "Loading Music File: train_music/PianoAnime/Attack_On_TitanVogel_im_Kfig_Sawano_Hiroyuki - LH.mid\n",
      "Loading Music File: train_music/PianoAnime/Itomori_High_School_-_Your_Name_Kimi_No_Na_Wa_Radwimps_Transcribed_by_Onakaru.mid\n",
      "Loading Music File: train_music/PianoAnime/Shinzou_wo_Sasageyo - LH.mid\n",
      "Loading Music File: train_music/PianoAnime/FairyTale - LH.mid\n",
      "Loading Music File: train_music/PianoAnime/AOT - RH.mid\n",
      "Loading Music File: train_music/PianoAnime/Yumetourou_-_Kimi_no_Na_wa - Copy (2).mid\n",
      "Loading Music File: train_music/PianoAnime/Red Swan - RH.mid\n",
      "Loading Music File: train_music/PianoAnime/Lapis_Philosophorum_Piano_Solo-_Fullmetal_Alchemist_Brotherhood - LH.mid\n",
      "Loading Music File: train_music/PianoAnime/Death Note - RH.mid\n",
      "Loading Music File: train_music/PianoAnime/Attack_On_TitanVogel_im_Kfig_Sawano_Hiroyuki.mid\n",
      "Loading Music File: train_music/PianoAnime/FairyTale - RH.mid\n",
      "Loading Music File: train_music/PianoAnime/AOT - LH.mid\n",
      "Loading Music File: train_music/PianoAnime/Red Swan - LH.mid\n",
      "Loading Music File: train_music/PianoAnime/Death Note - LH.mid\n",
      "Loading Music File: train_music/PianoAnime/AOT - RH - Copy.mid\n",
      "Loading Music File: train_music/PianoAnime/Last Words - RH.mid\n",
      "Loading Music File: train_music/PianoAnime/Otouto_Mitai_na_Sonzai__Piano_Solo.mid\n",
      "Loading Music File: train_music/PianoAnime/A_Friends_Reminiscence - LH.mid\n",
      "Loading Music File: train_music/PianoAnime/haru_wa_yuku - LH.mid\n",
      "Loading Music File: train_music/PianoAnime/JJK - LH.mid\n",
      "Loading Music File: train_music/PianoAnime/haru_wa_yuku.mid\n",
      "Loading Music File: train_music/PianoAnime/Shinzou_wo_Sasageyo - RH.mid\n",
      "Loading Music File: train_music/PianoAnime/Blue_Bird - LH.mid\n",
      "Loading Music File: train_music/PianoAnime/Gentle Hands (could not stop crying first time) - RH - Copy.mid\n",
      "Loading Music File: train_music/PianoAnime/VIVID_VICE - RH.mid\n",
      "Loading Music File: train_music/PianoAnime/Date - RH.mid\n",
      "Loading Music File: train_music/PianoAnime/JJK - RH - Copy.mid\n",
      "Loading Music File: train_music/PianoAnime/First_View_of_Tokyo_Your_Name - RH.mid\n",
      "Loading Music File: train_music/PianoAnime/Zankyousanka - RH.mid\n",
      "Loading Music File: train_music/PianoAnime/Trishas_Lullaby_Fullmetal_Alchemist_Brotherhood.mid\n",
      "Loading Music File: train_music/PianoAnime/Autumn_Festival__Your_Name_Kimi_no_Na_wa - LH.mid\n",
      "Loading Music File: train_music/PianoAnime/Trishas_Lullaby_Fullmetal_Alchemist_Brotherhood - LH.mid\n",
      "Loading Music File: train_music/PianoAnime/__0___King_Gnu - LH.mid\n",
      "Loading Music File: train_music/PianoAnime/Homura - RH.mid\n",
      "Loading Music File: train_music/PianoAnime/Decision_Naruto_Shippuden.mid\n",
      "Loading Music File: train_music/PianoAnime/Unravel_Easy_Full_Version - LH.mid\n",
      "Loading Music File: train_music/PianoAnime/Omake-pfadlib_Attack_on_Titan_OST.mid\n",
      "Loading Music File: train_music/PianoAnime/My War - RH.mid\n",
      "Loading Music File: train_music/PianoAnime/score.mid\n",
      "Loading Music File: train_music/PianoAnime/Lapis_Philosophorum_Piano_Solo-_Fullmetal_Alchemist_Brotherhood.mid\n",
      "Loading Music File: train_music/PianoAnime/Grand_Escape - LH.mid\n",
      "Loading Music File: train_music/PianoAnime/Samidare_-_Naruto_Shippuden_OST - Copy.mid\n",
      "Loading Music File: train_music/PianoAnime/__0___King_Gnu.mid\n",
      "Loading Music File: train_music/PianoAnime/Rain_Fullmetal_Alchemist_Brotherhood_Opening_5_-_Piano - LH.mid\n",
      "Loading Music File: train_music/PianoAnime/Obitos_Theme - LH.mid\n",
      "Loading Music File: train_music/PianoAnime/Gentle Hands (could not stop crying first time) - LH.mid\n",
      "Loading Music File: train_music/PianoAnime/Zenzenzense - RH.mid\n",
      "Loading Music File: train_music/PianoAnime/Decision_Naruto_Shippuden - LH.mid\n",
      "Loading Music File: train_music/PianoAnime/Mountain Haze - RH.mid\n",
      "Loading Music File: train_music/PianoAnime/Yumetourou_-_Kimi_no_Na_wa.mid\n",
      "Loading Music File: train_music/PianoAnime/Katawaredoki (LITERALLY MY FAV) - LH.mid\n",
      "Loading Music File: train_music/PianoAnime/Yumetourou_-_Kimi_no_Na_wa - Copy.mid\n",
      "Loading Music File: train_music/PianoAnime/Mountain Haze - LH.mid\n",
      "Loading Music File: train_music/PianoAnime/Katawaredoki (LITERALLY MY FAV) - RH.mid\n",
      "Loading Music File: train_music/PianoAnime/Zenzenzense - LH.mid\n",
      "Loading Music File: train_music/PianoAnime/Obitos_Theme - RH.mid\n",
      "Loading Music File: train_music/PianoAnime/Gentle Hands (could not stop crying first time) - RH.mid\n",
      "Loading Music File: train_music/PianoAnime/Samidare_-_Naruto_Shippuden_OST.mid\n",
      "Loading Music File: train_music/PianoAnime/Gentle Hands (could not stop crying first time) - LH - Copy.mid\n",
      "Loading Music File: train_music/PianoAnime/Fullmetal_Alchemist_OP_-_period.mid\n",
      "Loading Music File: train_music/PianoAnime/C_Shu_Nie_-_Give_It_Back_JUJUTSU_KAISEN_Ending_2.mid\n",
      "Loading Music File: train_music/PianoAnime/JJK - LH - Copy.mid\n",
      "Loading Music File: train_music/PianoAnime/Grand_Escape - RH.mid\n",
      "Loading Music File: train_music/PianoAnime/Yumetourou_-_Kimi_no_Na_wa - LH.mid\n",
      "Loading Music File: train_music/PianoAnime/Homura - LH.mid\n",
      "Loading Music File: train_music/PianoAnime/Rain_Fullmetal_Alchemist_Brotherhood_Opening_5_-_Piano.mid\n",
      "Loading Music File: train_music/PianoAnime/My War - LH.mid\n",
      "Loading Music File: train_music/PianoAnime/Fullmetal_Alchemist_Brotherhood_-_Uso_Lie_Piano.mid\n",
      "Loading Music File: train_music/PianoAnime/AOT - LH - Copy.mid\n"
     ]
    }
   ],
   "source": [
    "#read all the filenames\n",
    "files=[i for i in os.listdir(path) if i.endswith(\".mid\")]\n",
    "\n",
    "#reading each midi file\n",
    "print(\"Loading notes...\")\n",
    "notes_array = [read_midi(path+i, inst) for i in files]"
   ]
  },
  {
   "cell_type": "markdown",
   "id": "de457c14",
   "metadata": {},
   "source": [
    "#### Sample Train Music\n",
    "**** you do not have to run this part for training"
   ]
  },
  {
   "cell_type": "code",
   "execution_count": 8,
   "id": "7659ae72",
   "metadata": {},
   "outputs": [],
   "source": [
    "sampleIndex = 0\n",
    "notes_list = []\n",
    "offset = 0\n",
    "for note_tuple in notes_array[sampleIndex]:\n",
    "    if ('.' in note_tuple[0]) or note_tuple[0].isdigit(): #chord\n",
    "        notes_in_chord = note_tuple[0].split('.')\n",
    "        notes = []\n",
    "        for current_note in notes_in_chord: \n",
    "            cn=int(current_note)\n",
    "            new_note = note.Note(cn)\n",
    "            new_note.quarterLength = note_tuple[1]\n",
    "            notes.append(new_note)\n",
    "            \n",
    "        new_chord = chord.Chord(notes)\n",
    "        new_chord.offset = offset\n",
    "        notes_list.append(new_chord)\n",
    "    elif 'rest' in note_tuple[0]: #rest\n",
    "        new_rest = note.Rest(quarterLength=note_tuple[1])\n",
    "        notes_list.append(new_rest)\n",
    "    else:\n",
    "        new_note = note.Note(note_tuple[0])\n",
    "        new_note.quarterLength = note_tuple[1]\n",
    "        notes_list.append(new_note)\n",
    "\n",
    "s = stream.Score()\n",
    "s.insert(0, metadata.Metadata())\n",
    "s.metadata.title = \"Sample Train Music\"\n",
    "s.append(notes_list)"
   ]
  },
  {
   "cell_type": "code",
   "execution_count": 9,
   "id": "be691fe2",
   "metadata": {},
   "outputs": [
    {
     "name": "stderr",
     "output_type": "stream",
     "text": [
      "/Users/andrewturangan/miniconda3/lib/python3.11/site-packages/music21/musicxml/m21ToXml.py:531: MusicXMLWarning: <music21.stream.Score 0x30dd31e10> is not well-formed; see isWellFormedNotation()\n",
      "  warnings.warn(f'{sc} is not well-formed; see isWellFormedNotation()',\n"
     ]
    },
    {
     "ename": "SubConverterException",
     "evalue": "Cannot find a path to the 'mscore' file at /Applications/MuseScore 3.app/Contents/MacOS/mscore -- download MuseScore",
     "output_type": "error",
     "traceback": [
      "\u001b[0;31m---------------------------------------------------------------------------\u001b[0m",
      "\u001b[0;31mSubConverterException\u001b[0m                     Traceback (most recent call last)",
      "Cell \u001b[0;32mIn[9], line 1\u001b[0m\n\u001b[0;32m----> 1\u001b[0m \u001b[43ms\u001b[49m\u001b[38;5;241;43m.\u001b[39;49m\u001b[43mshow\u001b[49m\u001b[43m(\u001b[49m\u001b[43m)\u001b[49m\n",
      "File \u001b[0;32m~/miniconda3/lib/python3.11/site-packages/music21/stream/base.py:412\u001b[0m, in \u001b[0;36mStream.show\u001b[0;34m(self, fmt, app, **keywords)\u001b[0m\n\u001b[1;32m    410\u001b[0m \u001b[38;5;28;01mif\u001b[39;00m \u001b[38;5;28mself\u001b[39m\u001b[38;5;241m.\u001b[39misSorted \u001b[38;5;129;01mis\u001b[39;00m \u001b[38;5;28;01mFalse\u001b[39;00m \u001b[38;5;129;01mand\u001b[39;00m \u001b[38;5;28mself\u001b[39m\u001b[38;5;241m.\u001b[39mautoSort:\n\u001b[1;32m    411\u001b[0m     \u001b[38;5;28mself\u001b[39m\u001b[38;5;241m.\u001b[39msort()\n\u001b[0;32m--> 412\u001b[0m \u001b[38;5;28;01mreturn\u001b[39;00m \u001b[38;5;28;43msuper\u001b[39;49m\u001b[43m(\u001b[49m\u001b[43m)\u001b[49m\u001b[38;5;241;43m.\u001b[39;49m\u001b[43mshow\u001b[49m\u001b[43m(\u001b[49m\u001b[43mfmt\u001b[49m\u001b[38;5;241;43m=\u001b[39;49m\u001b[43mfmt\u001b[49m\u001b[43m,\u001b[49m\u001b[43m \u001b[49m\u001b[43mapp\u001b[49m\u001b[38;5;241;43m=\u001b[39;49m\u001b[43mapp\u001b[49m\u001b[43m,\u001b[49m\u001b[43m \u001b[49m\u001b[38;5;241;43m*\u001b[39;49m\u001b[38;5;241;43m*\u001b[39;49m\u001b[43mkeywords\u001b[49m\u001b[43m)\u001b[49m\n",
      "File \u001b[0;32m~/miniconda3/lib/python3.11/site-packages/music21/base.py:2960\u001b[0m, in \u001b[0;36mMusic21Object.show\u001b[0;34m(self, fmt, app, **keywords)\u001b[0m\n\u001b[1;32m   2958\u001b[0m scClass \u001b[38;5;241m=\u001b[39m common\u001b[38;5;241m.\u001b[39mfindSubConverterForFormat(regularizedConverterFormat)\n\u001b[1;32m   2959\u001b[0m formatWriter \u001b[38;5;241m=\u001b[39m scClass()\n\u001b[0;32m-> 2960\u001b[0m \u001b[38;5;28;01mreturn\u001b[39;00m \u001b[43mformatWriter\u001b[49m\u001b[38;5;241;43m.\u001b[39;49m\u001b[43mshow\u001b[49m\u001b[43m(\u001b[49m\u001b[38;5;28;43mself\u001b[39;49m\u001b[43m,\u001b[49m\n\u001b[1;32m   2961\u001b[0m \u001b[43m                         \u001b[49m\u001b[43mregularizedConverterFormat\u001b[49m\u001b[43m,\u001b[49m\n\u001b[1;32m   2962\u001b[0m \u001b[43m                         \u001b[49m\u001b[43mapp\u001b[49m\u001b[38;5;241;43m=\u001b[39;49m\u001b[43mapp\u001b[49m\u001b[43m,\u001b[49m\n\u001b[1;32m   2963\u001b[0m \u001b[43m                         \u001b[49m\u001b[43msubformats\u001b[49m\u001b[38;5;241;43m=\u001b[39;49m\u001b[43msubformats\u001b[49m\u001b[43m,\u001b[49m\n\u001b[1;32m   2964\u001b[0m \u001b[43m                         \u001b[49m\u001b[38;5;241;43m*\u001b[39;49m\u001b[38;5;241;43m*\u001b[39;49m\u001b[43mkeywords\u001b[49m\u001b[43m)\u001b[49m\n",
      "File \u001b[0;32m~/miniconda3/lib/python3.11/site-packages/music21/converter/subConverters.py:383\u001b[0m, in \u001b[0;36mConverterIPython.show\u001b[0;34m(self, obj, fmt, app, subformats, **keywords)\u001b[0m\n\u001b[1;32m    380\u001b[0m helperSubConverter \u001b[38;5;241m=\u001b[39m Converter\u001b[38;5;241m.\u001b[39mgetSubConverterFromFormat(helperFormat)\n\u001b[1;32m    382\u001b[0m \u001b[38;5;28;01mif\u001b[39;00m helperFormat \u001b[38;5;129;01min\u001b[39;00m (\u001b[38;5;124m'\u001b[39m\u001b[38;5;124mmusicxml\u001b[39m\u001b[38;5;124m'\u001b[39m, \u001b[38;5;124m'\u001b[39m\u001b[38;5;124mxml\u001b[39m\u001b[38;5;124m'\u001b[39m, \u001b[38;5;124m'\u001b[39m\u001b[38;5;124mlilypond\u001b[39m\u001b[38;5;124m'\u001b[39m, \u001b[38;5;124m'\u001b[39m\u001b[38;5;124mlily\u001b[39m\u001b[38;5;124m'\u001b[39m):\n\u001b[0;32m--> 383\u001b[0m     \u001b[43mip21_converters\u001b[49m\u001b[38;5;241;43m.\u001b[39;49m\u001b[43mshowImageThroughMuseScore\u001b[49m\u001b[43m(\u001b[49m\n\u001b[1;32m    384\u001b[0m \u001b[43m        \u001b[49m\u001b[43mobj\u001b[49m\u001b[43m,\u001b[49m\n\u001b[1;32m    385\u001b[0m \u001b[43m        \u001b[49m\u001b[43msubConverter\u001b[49m\u001b[38;5;241;43m=\u001b[39;49m\u001b[43mhelperSubConverter\u001b[49m\u001b[43m,\u001b[49m\n\u001b[1;32m    386\u001b[0m \u001b[43m        \u001b[49m\u001b[43mfmt\u001b[49m\u001b[38;5;241;43m=\u001b[39;49m\u001b[43mhelperFormat\u001b[49m\u001b[43m,\u001b[49m\n\u001b[1;32m    387\u001b[0m \u001b[43m        \u001b[49m\u001b[43msubformats\u001b[49m\u001b[38;5;241;43m=\u001b[39;49m\u001b[43mhelperSubformats\u001b[49m\u001b[43m,\u001b[49m\n\u001b[1;32m    388\u001b[0m \u001b[43m        \u001b[49m\u001b[38;5;241;43m*\u001b[39;49m\u001b[38;5;241;43m*\u001b[39;49m\u001b[43mkeywords\u001b[49m\u001b[43m,\u001b[49m\n\u001b[1;32m    389\u001b[0m \u001b[43m    \u001b[49m\u001b[43m)\u001b[49m\n\u001b[1;32m    390\u001b[0m \u001b[38;5;28;01melif\u001b[39;00m helperFormat \u001b[38;5;241m==\u001b[39m \u001b[38;5;124m'\u001b[39m\u001b[38;5;124mmidi\u001b[39m\u001b[38;5;124m'\u001b[39m:\n\u001b[1;32m    391\u001b[0m     \u001b[38;5;28;01mif\u001b[39;00m t\u001b[38;5;241m.\u001b[39mTYPE_CHECKING:\n",
      "File \u001b[0;32m~/miniconda3/lib/python3.11/site-packages/music21/ipython21/converters.py:80\u001b[0m, in \u001b[0;36mshowImageThroughMuseScore\u001b[0;34m(obj, subConverter, fmt, subformats, multipageWidget, **keywords)\u001b[0m\n\u001b[1;32m     70\u001b[0m         showImageThroughMuseScore(\n\u001b[1;32m     71\u001b[0m             s,\n\u001b[1;32m     72\u001b[0m             subConverter\u001b[38;5;241m=\u001b[39msubConverter,\n\u001b[0;32m   (...)\u001b[0m\n\u001b[1;32m     76\u001b[0m             \u001b[38;5;241m*\u001b[39m\u001b[38;5;241m*\u001b[39mkeywords,\n\u001b[1;32m     77\u001b[0m         )\n\u001b[1;32m     78\u001b[0m     \u001b[38;5;28;01mreturn\u001b[39;00m\n\u001b[0;32m---> 80\u001b[0m fp \u001b[38;5;241m=\u001b[39m \u001b[43msubConverter\u001b[49m\u001b[38;5;241;43m.\u001b[39;49m\u001b[43mwrite\u001b[49m\u001b[43m(\u001b[49m\n\u001b[1;32m     81\u001b[0m \u001b[43m    \u001b[49m\u001b[43mobj\u001b[49m\u001b[43m,\u001b[49m\n\u001b[1;32m     82\u001b[0m \u001b[43m    \u001b[49m\u001b[43mfmt\u001b[49m\u001b[43m,\u001b[49m\n\u001b[1;32m     83\u001b[0m \u001b[43m    \u001b[49m\u001b[43msubformats\u001b[49m\u001b[38;5;241;43m=\u001b[39;49m\u001b[43msubformats\u001b[49m\u001b[43m,\u001b[49m\n\u001b[1;32m     84\u001b[0m \u001b[43m    \u001b[49m\u001b[43mtrimEdges\u001b[49m\u001b[38;5;241;43m=\u001b[39;49m\u001b[38;5;129;43;01mnot\u001b[39;49;00m\u001b[43m \u001b[49m\u001b[43mmultipageWidget\u001b[49m\u001b[43m,\u001b[49m\n\u001b[1;32m     85\u001b[0m \u001b[43m    \u001b[49m\u001b[38;5;241;43m*\u001b[39;49m\u001b[38;5;241;43m*\u001b[39;49m\u001b[43mkeywords\u001b[49m\u001b[43m,\u001b[49m\n\u001b[1;32m     86\u001b[0m \u001b[43m\u001b[49m\u001b[43m)\u001b[49m\n\u001b[1;32m     88\u001b[0m \u001b[38;5;28;01mif\u001b[39;00m subformats[\u001b[38;5;241m0\u001b[39m] \u001b[38;5;241m!=\u001b[39m \u001b[38;5;124m'\u001b[39m\u001b[38;5;124mpng\u001b[39m\u001b[38;5;124m'\u001b[39m:\n\u001b[1;32m     89\u001b[0m     \u001b[38;5;28;01mreturn\u001b[39;00m\n",
      "File \u001b[0;32m~/miniconda3/lib/python3.11/site-packages/music21/converter/subConverters.py:991\u001b[0m, in \u001b[0;36mConverterMusicXML.write\u001b[0;34m(self, obj, fmt, fp, subformats, makeNotation, compress, **keywords)\u001b[0m\n\u001b[1;32m    988\u001b[0m \u001b[38;5;28;01mif\u001b[39;00m ((\u001b[38;5;124m'\u001b[39m\u001b[38;5;124mpng\u001b[39m\u001b[38;5;124m'\u001b[39m \u001b[38;5;129;01min\u001b[39;00m subformats \u001b[38;5;129;01mor\u001b[39;00m \u001b[38;5;124m'\u001b[39m\u001b[38;5;124mpdf\u001b[39m\u001b[38;5;124m'\u001b[39m \u001b[38;5;129;01min\u001b[39;00m subformats)\n\u001b[1;32m    989\u001b[0m         \u001b[38;5;129;01mand\u001b[39;00m \u001b[38;5;129;01mnot\u001b[39;00m \u001b[38;5;28mstr\u001b[39m(environLocal[\u001b[38;5;124m'\u001b[39m\u001b[38;5;124mmusescoreDirectPNGPath\u001b[39m\u001b[38;5;124m'\u001b[39m])\u001b[38;5;241m.\u001b[39mstartswith(\u001b[38;5;124m'\u001b[39m\u001b[38;5;124m/skip\u001b[39m\u001b[38;5;124m'\u001b[39m)):\n\u001b[1;32m    990\u001b[0m     \u001b[38;5;28;01mfrom\u001b[39;00m \u001b[38;5;21;01mmusic21\u001b[39;00m\u001b[38;5;21;01m.\u001b[39;00m\u001b[38;5;21;01mconverter\u001b[39;00m\u001b[38;5;21;01m.\u001b[39;00m\u001b[38;5;21;01mmuseScore\u001b[39;00m \u001b[38;5;28;01mimport\u001b[39;00m runThroughMuseScore\n\u001b[0;32m--> 991\u001b[0m     outFp \u001b[38;5;241m=\u001b[39m \u001b[43mrunThroughMuseScore\u001b[49m\u001b[43m(\u001b[49m\u001b[43mxmlFp\u001b[49m\u001b[43m,\u001b[49m\u001b[43m \u001b[49m\u001b[43msubformats\u001b[49m\u001b[43m,\u001b[49m\u001b[43m \u001b[49m\u001b[38;5;241;43m*\u001b[39;49m\u001b[38;5;241;43m*\u001b[39;49m\u001b[43mkeywords\u001b[49m\u001b[43m)\u001b[49m\n\u001b[1;32m    992\u001b[0m \u001b[38;5;28;01melif\u001b[39;00m compress:\n\u001b[1;32m    993\u001b[0m     archiveTools\u001b[38;5;241m.\u001b[39mcompressXML(xmlFp,\n\u001b[1;32m    994\u001b[0m                              deleteOriginal\u001b[38;5;241m=\u001b[39m\u001b[38;5;28;01mTrue\u001b[39;00m,\n\u001b[1;32m    995\u001b[0m                              silent\u001b[38;5;241m=\u001b[39m\u001b[38;5;28;01mTrue\u001b[39;00m,\n\u001b[1;32m    996\u001b[0m                              strictMxlCheck\u001b[38;5;241m=\u001b[39m\u001b[38;5;28;01mFalse\u001b[39;00m)\n",
      "File \u001b[0;32m~/miniconda3/lib/python3.11/site-packages/music21/converter/museScore.py:55\u001b[0m, in \u001b[0;36mrunThroughMuseScore\u001b[0;34m(fp, subformats, dpi, trimEdges, leaveMargin, **keywords)\u001b[0m\n\u001b[1;32m     51\u001b[0m     \u001b[38;5;28;01mraise\u001b[39;00m SubConverterException(\n\u001b[1;32m     52\u001b[0m         \u001b[38;5;124m'\u001b[39m\u001b[38;5;124mTo create PNG files directly from MusicXML you need to download MuseScore and \u001b[39m\u001b[38;5;124m'\u001b[39m\n\u001b[1;32m     53\u001b[0m         \u001b[38;5;241m+\u001b[39m \u001b[38;5;124m'\u001b[39m\u001b[38;5;124mput a link to it in your .music21rc via Environment.\u001b[39m\u001b[38;5;124m'\u001b[39m)\n\u001b[1;32m     54\u001b[0m \u001b[38;5;28;01mif\u001b[39;00m \u001b[38;5;129;01mnot\u001b[39;00m museScorePath\u001b[38;5;241m.\u001b[39mexists():\n\u001b[0;32m---> 55\u001b[0m     \u001b[38;5;28;01mraise\u001b[39;00m SubConverterException(\n\u001b[1;32m     56\u001b[0m         \u001b[38;5;124m\"\u001b[39m\u001b[38;5;124mCannot find a path to the \u001b[39m\u001b[38;5;124m'\u001b[39m\u001b[38;5;124mmscore\u001b[39m\u001b[38;5;124m'\u001b[39m\u001b[38;5;124m file at \u001b[39m\u001b[38;5;124m\"\u001b[39m\n\u001b[1;32m     57\u001b[0m         \u001b[38;5;241m+\u001b[39m \u001b[38;5;124mf\u001b[39m\u001b[38;5;124m'\u001b[39m\u001b[38;5;132;01m{\u001b[39;00mmuseScorePath\u001b[38;5;132;01m}\u001b[39;00m\u001b[38;5;124m -- download MuseScore\u001b[39m\u001b[38;5;124m'\u001b[39m)\n\u001b[1;32m     59\u001b[0m \u001b[38;5;28;01mif\u001b[39;00m \u001b[38;5;129;01mnot\u001b[39;00m subformats:\n\u001b[1;32m     60\u001b[0m     subformatExtension \u001b[38;5;241m=\u001b[39m \u001b[38;5;124m'\u001b[39m\u001b[38;5;124mpng\u001b[39m\u001b[38;5;124m'\u001b[39m\n",
      "\u001b[0;31mSubConverterException\u001b[0m: Cannot find a path to the 'mscore' file at /Applications/MuseScore 3.app/Contents/MacOS/mscore -- download MuseScore"
     ]
    }
   ],
   "source": [
    "s.show()"
   ]
  },
  {
   "cell_type": "code",
   "execution_count": 10,
   "id": "1f448710",
   "metadata": {},
   "outputs": [
    {
     "data": {
      "text/html": [
       "\n",
       "        <div id=\"midiPlayerDiv296052\"></div>\n",
       "        <link rel=\"stylesheet\" href=\"https://cuthbertLab.github.io/music21j/css/m21.css\">\n",
       "        \n",
       "        <script\n",
       "        src=\"https://cdnjs.cloudflare.com/ajax/libs/require.js/2.3.6/require.min.js\"\n",
       "        ></script>\n",
       "    \n",
       "        <script>\n",
       "        function midiPlayerDiv296052_play() {\n",
       "            const rq = require.config({\n",
       "                paths: {\n",
       "                    'music21': 'https://cuthbertLab.github.io/music21j/releases/music21.debug',\n",
       "                }\n",
       "            });\n",
       "            rq(['music21'], function(music21) {\n",
       "                mp = new music21.miditools.MidiPlayer();\n",
       "                mp.addPlayer(\"#midiPlayerDiv296052\");\n",
       "                mp.base64Load(\"data:audio/midi;base64,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\");\n",
       "            });\n",
       "        }\n",
       "        if (typeof require === 'undefined') {\n",
       "            setTimeout(midiPlayerDiv296052_play, 2000);\n",
       "        } else {\n",
       "            midiPlayerDiv296052_play();\n",
       "        }\n",
       "        </script>"
      ],
      "text/plain": [
       "<IPython.core.display.HTML object>"
      ]
     },
     "metadata": {},
     "output_type": "display_data"
    }
   ],
   "source": [
    "s.show('midi')"
   ]
  },
  {
   "cell_type": "markdown",
   "id": "62a17be7",
   "metadata": {},
   "source": [
    "### Data Preparation"
   ]
  },
  {
   "cell_type": "code",
   "execution_count": 11,
   "id": "c161548c",
   "metadata": {},
   "outputs": [],
   "source": [
    "# every note in a 1d array\n",
    "notes_ = [element for note_ in notes_array for element in note_]"
   ]
  },
  {
   "cell_type": "code",
   "execution_count": 12,
   "id": "7a1b2327",
   "metadata": {},
   "outputs": [],
   "source": [
    "# frequency of each note\n",
    "freq = dict(Counter(notes_))"
   ]
  },
  {
   "cell_type": "code",
   "execution_count": 13,
   "id": "509395bc",
   "metadata": {},
   "outputs": [
    {
     "name": "stdout",
     "output_type": "stream",
     "text": [
      "# of frequent notes: 490\n"
     ]
    }
   ],
   "source": [
    "# list of frequent notes, adjustable by count\n",
    "frequent_notes = [note_ for note_, count in freq.items() if count>=frequentNoteMin]\n",
    "print(\"# of frequent notes:\", len(frequent_notes))"
   ]
  },
  {
   "cell_type": "code",
   "execution_count": 14,
   "id": "4d95edba",
   "metadata": {},
   "outputs": [],
   "source": [
    "# new_music = notes - nonfrequent notes\n",
    "new_music=[]\n",
    "\n",
    "for notes in notes_array:\n",
    "    temp=[]\n",
    "    for note_ in notes:\n",
    "        if note_ in frequent_notes:\n",
    "            temp.append(note_)            \n",
    "    new_music.append(temp)"
   ]
  },
  {
   "cell_type": "code",
   "execution_count": 15,
   "id": "e0c7a5d4",
   "metadata": {},
   "outputs": [
    {
     "name": "stdout",
     "output_type": "stream",
     "text": [
      "input shape:\t (30117, 32, 2)\n",
      "output shape:\t (30117, 2)\n"
     ]
    }
   ],
   "source": [
    "# prepare input and output sequences\n",
    "x = []\n",
    "y = []\n",
    "\n",
    "for note_ in new_music:\n",
    "    for i in range(0, len(note_) - no_of_timesteps, 1):\n",
    "        \n",
    "        #preparing input and output sequences\n",
    "        input_ = note_[i:i + no_of_timesteps]\n",
    "        output_ = note_[i + no_of_timesteps]\n",
    "        \n",
    "        x.append(input_)\n",
    "        y.append(output_)\n",
    "        \n",
    "\n",
    "print(\"input shape:\\t\", np.asarray(x).shape)\n",
    "print(\"output shape:\\t\", np.asarray(y).shape)"
   ]
  },
  {
   "cell_type": "code",
   "execution_count": 16,
   "id": "ae77a3c8",
   "metadata": {},
   "outputs": [],
   "source": [
    "# unique note --> integer\n",
    "unique_x=[]\n",
    "for i in range(len(x)):\n",
    "    for j in range(len(x[i])):\n",
    "        unique_x.append(x[i][j])\n",
    "unique_x = list(set(unique_x))\n",
    "x_note_to_int = dict((note_, number) for number, note_ in enumerate(unique_x))\n",
    "\n",
    "with open(unique_x_file, \"w\") as output:\n",
    "    for element in unique_x:\n",
    "        output.write(str(element)+'\\n')"
   ]
  },
  {
   "cell_type": "code",
   "execution_count": 17,
   "id": "e3a725e7",
   "metadata": {},
   "outputs": [
    {
     "data": {
      "text/plain": [
       "490"
      ]
     },
     "execution_count": 17,
     "metadata": {},
     "output_type": "execute_result"
    }
   ],
   "source": [
    "len(unique_x)"
   ]
  },
  {
   "cell_type": "code",
   "execution_count": 18,
   "id": "c1738616",
   "metadata": {},
   "outputs": [],
   "source": [
    "# x_seq <--> model input\n",
    "x_seq=[]\n",
    "for i in x:\n",
    "    temp=[]\n",
    "    for j in i:\n",
    "        #assigning unique integer to every note\n",
    "        temp.append(x_note_to_int[j])\n",
    "    x_seq.append(temp)\n",
    "    \n",
    "x_seq = np.array(x_seq)"
   ]
  },
  {
   "cell_type": "code",
   "execution_count": 19,
   "id": "c34b952b",
   "metadata": {},
   "outputs": [],
   "source": [
    "# same procedure as x_seq but simpler\n",
    "unique_y = list(set(y))\n",
    "y_note_to_int = dict((note_, number) for number, note_ in enumerate(unique_y)) \n",
    "y_seq = np.array([y_note_to_int[i] for i in y])"
   ]
  },
  {
   "cell_type": "code",
   "execution_count": 20,
   "id": "65fe7eac",
   "metadata": {},
   "outputs": [],
   "source": [
    "# train/test partitioning, test_size=0.2 --> 20% of data is test\n",
    "x_tr, x_val, y_tr, y_val = train_test_split(x_seq,y_seq,test_size=0.2,random_state=0)\n",
    "np.savetxt(xval_file, x_val)"
   ]
  },
  {
   "cell_type": "code",
   "execution_count": 21,
   "id": "dae66047",
   "metadata": {},
   "outputs": [
    {
     "name": "stdout",
     "output_type": "stream",
     "text": [
      "Shapes:\n",
      "x_tr: (24093, 32)\n",
      "y_tr: (24093,)\n",
      "x_val: (6024, 32)\n",
      "y_val: (6024,)\n"
     ]
    }
   ],
   "source": [
    "# metadata\n",
    "print(\"Shapes:\")\n",
    "print(\"x_tr:\", x_tr.shape)\n",
    "print(\"y_tr:\", y_tr.shape)\n",
    "print(\"x_val:\", x_val.shape)\n",
    "print(\"y_val:\", y_val.shape)"
   ]
  },
  {
   "cell_type": "markdown",
   "id": "92180e6e",
   "metadata": {},
   "source": [
    "### Neural Network"
   ]
  },
  {
   "cell_type": "code",
   "execution_count": 25,
   "id": "88c04ad0",
   "metadata": {},
   "outputs": [
    {
     "data": {
      "text/html": [
       "<pre style=\"white-space:pre;overflow-x:auto;line-height:normal;font-family:Menlo,'DejaVu Sans Mono',consolas,'Courier New',monospace\"><span style=\"font-weight: bold\">Model: \"sequential\"</span>\n",
       "</pre>\n"
      ],
      "text/plain": [
       "\u001b[1mModel: \"sequential\"\u001b[0m\n"
      ]
     },
     "metadata": {},
     "output_type": "display_data"
    },
    {
     "data": {
      "text/html": [
       "<pre style=\"white-space:pre;overflow-x:auto;line-height:normal;font-family:Menlo,'DejaVu Sans Mono',consolas,'Courier New',monospace\">┏━━━━━━━━━━━━━━━━━━━━━━━━━━━━━━━━━┳━━━━━━━━━━━━━━━━━━━━━━━━┳━━━━━━━━━━━━━━━┓\n",
       "┃<span style=\"font-weight: bold\"> Layer (type)                    </span>┃<span style=\"font-weight: bold\"> Output Shape           </span>┃<span style=\"font-weight: bold\">       Param # </span>┃\n",
       "┡━━━━━━━━━━━━━━━━━━━━━━━━━━━━━━━━━╇━━━━━━━━━━━━━━━━━━━━━━━━╇━━━━━━━━━━━━━━━┩\n",
       "│ embedding (<span style=\"color: #0087ff; text-decoration-color: #0087ff\">Embedding</span>)           │ ?                      │   <span style=\"color: #00af00; text-decoration-color: #00af00\">0</span> (unbuilt) │\n",
       "├─────────────────────────────────┼────────────────────────┼───────────────┤\n",
       "│ lstm (<span style=\"color: #0087ff; text-decoration-color: #0087ff\">LSTM</span>)                     │ ?                      │   <span style=\"color: #00af00; text-decoration-color: #00af00\">0</span> (unbuilt) │\n",
       "├─────────────────────────────────┼────────────────────────┼───────────────┤\n",
       "│ lstm_1 (<span style=\"color: #0087ff; text-decoration-color: #0087ff\">LSTM</span>)                   │ ?                      │   <span style=\"color: #00af00; text-decoration-color: #00af00\">0</span> (unbuilt) │\n",
       "├─────────────────────────────────┼────────────────────────┼───────────────┤\n",
       "│ dense (<span style=\"color: #0087ff; text-decoration-color: #0087ff\">Dense</span>)                   │ ?                      │   <span style=\"color: #00af00; text-decoration-color: #00af00\">0</span> (unbuilt) │\n",
       "├─────────────────────────────────┼────────────────────────┼───────────────┤\n",
       "│ activation (<span style=\"color: #0087ff; text-decoration-color: #0087ff\">Activation</span>)         │ ?                      │   <span style=\"color: #00af00; text-decoration-color: #00af00\">0</span> (unbuilt) │\n",
       "├─────────────────────────────────┼────────────────────────┼───────────────┤\n",
       "│ dense_1 (<span style=\"color: #0087ff; text-decoration-color: #0087ff\">Dense</span>)                 │ ?                      │   <span style=\"color: #00af00; text-decoration-color: #00af00\">0</span> (unbuilt) │\n",
       "├─────────────────────────────────┼────────────────────────┼───────────────┤\n",
       "│ activation_1 (<span style=\"color: #0087ff; text-decoration-color: #0087ff\">Activation</span>)       │ ?                      │   <span style=\"color: #00af00; text-decoration-color: #00af00\">0</span> (unbuilt) │\n",
       "└─────────────────────────────────┴────────────────────────┴───────────────┘\n",
       "</pre>\n"
      ],
      "text/plain": [
       "┏━━━━━━━━━━━━━━━━━━━━━━━━━━━━━━━━━┳━━━━━━━━━━━━━━━━━━━━━━━━┳━━━━━━━━━━━━━━━┓\n",
       "┃\u001b[1m \u001b[0m\u001b[1mLayer (type)                   \u001b[0m\u001b[1m \u001b[0m┃\u001b[1m \u001b[0m\u001b[1mOutput Shape          \u001b[0m\u001b[1m \u001b[0m┃\u001b[1m \u001b[0m\u001b[1m      Param #\u001b[0m\u001b[1m \u001b[0m┃\n",
       "┡━━━━━━━━━━━━━━━━━━━━━━━━━━━━━━━━━╇━━━━━━━━━━━━━━━━━━━━━━━━╇━━━━━━━━━━━━━━━┩\n",
       "│ embedding (\u001b[38;5;33mEmbedding\u001b[0m)           │ ?                      │   \u001b[38;5;34m0\u001b[0m (unbuilt) │\n",
       "├─────────────────────────────────┼────────────────────────┼───────────────┤\n",
       "│ lstm (\u001b[38;5;33mLSTM\u001b[0m)                     │ ?                      │   \u001b[38;5;34m0\u001b[0m (unbuilt) │\n",
       "├─────────────────────────────────┼────────────────────────┼───────────────┤\n",
       "│ lstm_1 (\u001b[38;5;33mLSTM\u001b[0m)                   │ ?                      │   \u001b[38;5;34m0\u001b[0m (unbuilt) │\n",
       "├─────────────────────────────────┼────────────────────────┼───────────────┤\n",
       "│ dense (\u001b[38;5;33mDense\u001b[0m)                   │ ?                      │   \u001b[38;5;34m0\u001b[0m (unbuilt) │\n",
       "├─────────────────────────────────┼────────────────────────┼───────────────┤\n",
       "│ activation (\u001b[38;5;33mActivation\u001b[0m)         │ ?                      │   \u001b[38;5;34m0\u001b[0m (unbuilt) │\n",
       "├─────────────────────────────────┼────────────────────────┼───────────────┤\n",
       "│ dense_1 (\u001b[38;5;33mDense\u001b[0m)                 │ ?                      │   \u001b[38;5;34m0\u001b[0m (unbuilt) │\n",
       "├─────────────────────────────────┼────────────────────────┼───────────────┤\n",
       "│ activation_1 (\u001b[38;5;33mActivation\u001b[0m)       │ ?                      │   \u001b[38;5;34m0\u001b[0m (unbuilt) │\n",
       "└─────────────────────────────────┴────────────────────────┴───────────────┘\n"
      ]
     },
     "metadata": {},
     "output_type": "display_data"
    },
    {
     "data": {
      "text/html": [
       "<pre style=\"white-space:pre;overflow-x:auto;line-height:normal;font-family:Menlo,'DejaVu Sans Mono',consolas,'Courier New',monospace\"><span style=\"font-weight: bold\"> Total params: </span><span style=\"color: #00af00; text-decoration-color: #00af00\">0</span> (0.00 B)\n",
       "</pre>\n"
      ],
      "text/plain": [
       "\u001b[1m Total params: \u001b[0m\u001b[38;5;34m0\u001b[0m (0.00 B)\n"
      ]
     },
     "metadata": {},
     "output_type": "display_data"
    },
    {
     "data": {
      "text/html": [
       "<pre style=\"white-space:pre;overflow-x:auto;line-height:normal;font-family:Menlo,'DejaVu Sans Mono',consolas,'Courier New',monospace\"><span style=\"font-weight: bold\"> Trainable params: </span><span style=\"color: #00af00; text-decoration-color: #00af00\">0</span> (0.00 B)\n",
       "</pre>\n"
      ],
      "text/plain": [
       "\u001b[1m Trainable params: \u001b[0m\u001b[38;5;34m0\u001b[0m (0.00 B)\n"
      ]
     },
     "metadata": {},
     "output_type": "display_data"
    },
    {
     "data": {
      "text/html": [
       "<pre style=\"white-space:pre;overflow-x:auto;line-height:normal;font-family:Menlo,'DejaVu Sans Mono',consolas,'Courier New',monospace\"><span style=\"font-weight: bold\"> Non-trainable params: </span><span style=\"color: #00af00; text-decoration-color: #00af00\">0</span> (0.00 B)\n",
       "</pre>\n"
      ],
      "text/plain": [
       "\u001b[1m Non-trainable params: \u001b[0m\u001b[38;5;34m0\u001b[0m (0.00 B)\n"
      ]
     },
     "metadata": {},
     "output_type": "display_data"
    }
   ],
   "source": [
    "def lstm(input_shape, output_shape):\n",
    "    K.clear_session()\n",
    "    model = Sequential()\n",
    "    \n",
    "    #embedding layer\n",
    "    model.add(Embedding(input_shape, 100, input_length=32,trainable=True))\n",
    "    \n",
    "    model.add(LSTM(128,return_sequences=True))\n",
    "    model.add(LSTM(128))\n",
    "    model.add(Dense(256))\n",
    "    model.add(Activation('relu'))\n",
    "    model.add(Dense(output_shape))\n",
    "    model.add(Activation('softmax'))\n",
    "    model.compile(loss='sparse_categorical_crossentropy', optimizer='adam')\n",
    "    return model\n",
    "\n",
    "model = lstm(len(unique_x), len(unique_y))\n",
    "model.summary()"
   ]
  },
  {
   "cell_type": "code",
   "execution_count": 26,
   "id": "0c6d0be7",
   "metadata": {},
   "outputs": [],
   "source": [
    "logdir=\"logs/fit/\" + datetime.now().strftime(\"%Y%m%d-%H%M%S\")\n",
    "tensorboard_callback = tf.keras.callbacks.TensorBoard(log_dir=logdir)"
   ]
  },
  {
   "cell_type": "code",
   "execution_count": 29,
   "id": "f3dfc7d7",
   "metadata": {},
   "outputs": [
    {
     "name": "stdout",
     "output_type": "stream",
     "text": [
      "Epoch 1/100\n",
      "\u001b[1m235/236\u001b[0m \u001b[32m━━━━━━━━━━━━━━━━━━━\u001b[0m\u001b[37m━\u001b[0m \u001b[1m0s\u001b[0m 73ms/step - loss: 5.5162\n",
      "Epoch 1: saving model to PianoAnime.keras\n",
      "\u001b[1m236/236\u001b[0m \u001b[32m━━━━━━━━━━━━━━━━━━━━\u001b[0m\u001b[37m\u001b[0m \u001b[1m18s\u001b[0m 73ms/step - loss: 5.5130\n",
      "Epoch 2/100\n",
      "\u001b[1m235/236\u001b[0m \u001b[32m━━━━━━━━━━━━━━━━━━━\u001b[0m\u001b[37m━\u001b[0m \u001b[1m0s\u001b[0m 76ms/step - loss: 4.3264\n",
      "Epoch 2: saving model to PianoAnime.keras\n",
      "\u001b[1m236/236\u001b[0m \u001b[32m━━━━━━━━━━━━━━━━━━━━\u001b[0m\u001b[37m\u001b[0m \u001b[1m18s\u001b[0m 76ms/step - loss: 4.3251\n",
      "Epoch 3/100\n",
      "\u001b[1m235/236\u001b[0m \u001b[32m━━━━━━━━━━━━━━━━━━━\u001b[0m\u001b[37m━\u001b[0m \u001b[1m0s\u001b[0m 76ms/step - loss: 3.7679\n",
      "Epoch 3: saving model to PianoAnime.keras\n",
      "\u001b[1m236/236\u001b[0m \u001b[32m━━━━━━━━━━━━━━━━━━━━\u001b[0m\u001b[37m\u001b[0m \u001b[1m18s\u001b[0m 76ms/step - loss: 3.7674\n",
      "Epoch 4/100\n",
      "\u001b[1m235/236\u001b[0m \u001b[32m━━━━━━━━━━━━━━━━━━━\u001b[0m\u001b[37m━\u001b[0m \u001b[1m0s\u001b[0m 76ms/step - loss: 3.4011\n",
      "Epoch 4: saving model to PianoAnime.keras\n",
      "\u001b[1m236/236\u001b[0m \u001b[32m━━━━━━━━━━━━━━━━━━━━\u001b[0m\u001b[37m\u001b[0m \u001b[1m18s\u001b[0m 76ms/step - loss: 3.4009\n",
      "Epoch 5/100\n",
      "\u001b[1m235/236\u001b[0m \u001b[32m━━━━━━━━━━━━━━━━━━━\u001b[0m\u001b[37m━\u001b[0m \u001b[1m0s\u001b[0m 76ms/step - loss: 3.1194\n",
      "Epoch 5: saving model to PianoAnime.keras\n",
      "\u001b[1m236/236\u001b[0m \u001b[32m━━━━━━━━━━━━━━━━━━━━\u001b[0m\u001b[37m\u001b[0m \u001b[1m18s\u001b[0m 76ms/step - loss: 3.1191\n",
      "Epoch 6/100\n",
      "\u001b[1m235/236\u001b[0m \u001b[32m━━━━━━━━━━━━━━━━━━━\u001b[0m\u001b[37m━\u001b[0m \u001b[1m0s\u001b[0m 76ms/step - loss: 2.8794\n",
      "Epoch 6: saving model to PianoAnime.keras\n",
      "\u001b[1m236/236\u001b[0m \u001b[32m━━━━━━━━━━━━━━━━━━━━\u001b[0m\u001b[37m\u001b[0m \u001b[1m18s\u001b[0m 76ms/step - loss: 2.8791\n",
      "Epoch 7/100\n",
      "\u001b[1m235/236\u001b[0m \u001b[32m━━━━━━━━━━━━━━━━━━━\u001b[0m\u001b[37m━\u001b[0m \u001b[1m0s\u001b[0m 76ms/step - loss: 2.6352\n",
      "Epoch 7: saving model to PianoAnime.keras\n",
      "\u001b[1m236/236\u001b[0m \u001b[32m━━━━━━━━━━━━━━━━━━━━\u001b[0m\u001b[37m\u001b[0m \u001b[1m18s\u001b[0m 76ms/step - loss: 2.6351\n",
      "Epoch 8/100\n",
      "\u001b[1m235/236\u001b[0m \u001b[32m━━━━━━━━━━━━━━━━━━━\u001b[0m\u001b[37m━\u001b[0m \u001b[1m0s\u001b[0m 76ms/step - loss: 2.4390\n",
      "Epoch 8: saving model to PianoAnime.keras\n",
      "\u001b[1m236/236\u001b[0m \u001b[32m━━━━━━━━━━━━━━━━━━━━\u001b[0m\u001b[37m\u001b[0m \u001b[1m18s\u001b[0m 76ms/step - loss: 2.4389\n",
      "Epoch 9/100\n",
      "\u001b[1m235/236\u001b[0m \u001b[32m━━━━━━━━━━━━━━━━━━━\u001b[0m\u001b[37m━\u001b[0m \u001b[1m0s\u001b[0m 77ms/step - loss: 2.2362\n",
      "Epoch 9: saving model to PianoAnime.keras\n",
      "\u001b[1m236/236\u001b[0m \u001b[32m━━━━━━━━━━━━━━━━━━━━\u001b[0m\u001b[37m\u001b[0m \u001b[1m18s\u001b[0m 77ms/step - loss: 2.2363\n",
      "Epoch 10/100\n",
      "\u001b[1m235/236\u001b[0m \u001b[32m━━━━━━━━━━━━━━━━━━━\u001b[0m\u001b[37m━\u001b[0m \u001b[1m0s\u001b[0m 76ms/step - loss: 2.0667\n",
      "Epoch 10: saving model to PianoAnime.keras\n",
      "\u001b[1m236/236\u001b[0m \u001b[32m━━━━━━━━━━━━━━━━━━━━\u001b[0m\u001b[37m\u001b[0m \u001b[1m18s\u001b[0m 76ms/step - loss: 2.0668\n",
      "Epoch 11/100\n",
      "\u001b[1m235/236\u001b[0m \u001b[32m━━━━━━━━━━━━━━━━━━━\u001b[0m\u001b[37m━\u001b[0m \u001b[1m0s\u001b[0m 76ms/step - loss: 1.9165\n",
      "Epoch 11: saving model to PianoAnime.keras\n",
      "\u001b[1m236/236\u001b[0m \u001b[32m━━━━━━━━━━━━━━━━━━━━\u001b[0m\u001b[37m\u001b[0m \u001b[1m18s\u001b[0m 76ms/step - loss: 1.9167\n",
      "Epoch 12/100\n",
      "\u001b[1m235/236\u001b[0m \u001b[32m━━━━━━━━━━━━━━━━━━━\u001b[0m\u001b[37m━\u001b[0m \u001b[1m0s\u001b[0m 76ms/step - loss: 1.7568\n",
      "Epoch 12: saving model to PianoAnime.keras\n",
      "\u001b[1m236/236\u001b[0m \u001b[32m━━━━━━━━━━━━━━━━━━━━\u001b[0m\u001b[37m\u001b[0m \u001b[1m18s\u001b[0m 76ms/step - loss: 1.7570\n",
      "Epoch 13/100\n",
      "\u001b[1m235/236\u001b[0m \u001b[32m━━━━━━━━━━━━━━━━━━━\u001b[0m\u001b[37m━\u001b[0m \u001b[1m0s\u001b[0m 75ms/step - loss: 1.6463\n",
      "Epoch 13: saving model to PianoAnime.keras\n",
      "\u001b[1m236/236\u001b[0m \u001b[32m━━━━━━━━━━━━━━━━━━━━\u001b[0m\u001b[37m\u001b[0m \u001b[1m18s\u001b[0m 75ms/step - loss: 1.6464\n",
      "Epoch 14/100\n",
      "\u001b[1m235/236\u001b[0m \u001b[32m━━━━━━━━━━━━━━━━━━━\u001b[0m\u001b[37m━\u001b[0m \u001b[1m0s\u001b[0m 75ms/step - loss: 1.5233\n",
      "Epoch 14: saving model to PianoAnime.keras\n",
      "\u001b[1m236/236\u001b[0m \u001b[32m━━━━━━━━━━━━━━━━━━━━\u001b[0m\u001b[37m\u001b[0m \u001b[1m18s\u001b[0m 74ms/step - loss: 1.5234\n",
      "Epoch 15/100\n",
      "\u001b[1m235/236\u001b[0m \u001b[32m━━━━━━━━━━━━━━━━━━━\u001b[0m\u001b[37m━\u001b[0m \u001b[1m0s\u001b[0m 73ms/step - loss: 1.4062\n",
      "Epoch 15: saving model to PianoAnime.keras\n",
      "\u001b[1m236/236\u001b[0m \u001b[32m━━━━━━━━━━━━━━━━━━━━\u001b[0m\u001b[37m\u001b[0m \u001b[1m17s\u001b[0m 73ms/step - loss: 1.4065\n",
      "Epoch 16/100\n",
      "\u001b[1m236/236\u001b[0m \u001b[32m━━━━━━━━━━━━━━━━━━━━\u001b[0m\u001b[37m\u001b[0m \u001b[1m0s\u001b[0m 73ms/step - loss: 1.2972\n",
      "Epoch 16: saving model to PianoAnime.keras\n",
      "\u001b[1m236/236\u001b[0m \u001b[32m━━━━━━━━━━━━━━━━━━━━\u001b[0m\u001b[37m\u001b[0m \u001b[1m17s\u001b[0m 73ms/step - loss: 1.2973\n",
      "Epoch 17/100\n",
      "\u001b[1m235/236\u001b[0m \u001b[32m━━━━━━━━━━━━━━━━━━━\u001b[0m\u001b[37m━\u001b[0m \u001b[1m0s\u001b[0m 74ms/step - loss: 1.1869\n",
      "Epoch 17: saving model to PianoAnime.keras\n",
      "\u001b[1m236/236\u001b[0m \u001b[32m━━━━━━━━━━━━━━━━━━━━\u001b[0m\u001b[37m\u001b[0m \u001b[1m17s\u001b[0m 74ms/step - loss: 1.1872\n",
      "Epoch 18/100\n",
      "\u001b[1m235/236\u001b[0m \u001b[32m━━━━━━━━━━━━━━━━━━━\u001b[0m\u001b[37m━\u001b[0m \u001b[1m0s\u001b[0m 74ms/step - loss: 1.1114\n",
      "Epoch 18: saving model to PianoAnime.keras\n",
      "\u001b[1m236/236\u001b[0m \u001b[32m━━━━━━━━━━━━━━━━━━━━\u001b[0m\u001b[37m\u001b[0m \u001b[1m17s\u001b[0m 74ms/step - loss: 1.1116\n",
      "Epoch 19/100\n",
      "\u001b[1m235/236\u001b[0m \u001b[32m━━━━━━━━━━━━━━━━━━━\u001b[0m\u001b[37m━\u001b[0m \u001b[1m0s\u001b[0m 74ms/step - loss: 1.0335\n",
      "Epoch 19: saving model to PianoAnime.keras\n",
      "\u001b[1m236/236\u001b[0m \u001b[32m━━━━━━━━━━━━━━━━━━━━\u001b[0m\u001b[37m\u001b[0m \u001b[1m17s\u001b[0m 74ms/step - loss: 1.0336\n",
      "Epoch 20/100\n",
      "\u001b[1m235/236\u001b[0m \u001b[32m━━━━━━━━━━━━━━━━━━━\u001b[0m\u001b[37m━\u001b[0m \u001b[1m0s\u001b[0m 74ms/step - loss: 0.9156\n",
      "Epoch 20: saving model to PianoAnime.keras\n",
      "\u001b[1m236/236\u001b[0m \u001b[32m━━━━━━━━━━━━━━━━━━━━\u001b[0m\u001b[37m\u001b[0m \u001b[1m17s\u001b[0m 74ms/step - loss: 0.9160\n",
      "Epoch 21/100\n",
      "\u001b[1m235/236\u001b[0m \u001b[32m━━━━━━━━━━━━━━━━━━━\u001b[0m\u001b[37m━\u001b[0m \u001b[1m0s\u001b[0m 74ms/step - loss: 0.8429\n",
      "Epoch 21: saving model to PianoAnime.keras\n",
      "\u001b[1m236/236\u001b[0m \u001b[32m━━━━━━━━━━━━━━━━━━━━\u001b[0m\u001b[37m\u001b[0m \u001b[1m18s\u001b[0m 74ms/step - loss: 0.8433\n",
      "Epoch 22/100\n",
      "\u001b[1m235/236\u001b[0m \u001b[32m━━━━━━━━━━━━━━━━━━━\u001b[0m\u001b[37m━\u001b[0m \u001b[1m0s\u001b[0m 74ms/step - loss: 0.7939\n",
      "Epoch 22: saving model to PianoAnime.keras\n",
      "\u001b[1m236/236\u001b[0m \u001b[32m━━━━━━━━━━━━━━━━━━━━\u001b[0m\u001b[37m\u001b[0m \u001b[1m18s\u001b[0m 74ms/step - loss: 0.7941\n",
      "Epoch 23/100\n",
      "\u001b[1m235/236\u001b[0m \u001b[32m━━━━━━━━━━━━━━━━━━━\u001b[0m\u001b[37m━\u001b[0m \u001b[1m0s\u001b[0m 75ms/step - loss: 0.7038\n",
      "Epoch 23: saving model to PianoAnime.keras\n",
      "\u001b[1m236/236\u001b[0m \u001b[32m━━━━━━━━━━━━━━━━━━━━\u001b[0m\u001b[37m\u001b[0m \u001b[1m18s\u001b[0m 74ms/step - loss: 0.7042\n",
      "Epoch 24/100\n",
      "\u001b[1m235/236\u001b[0m \u001b[32m━━━━━━━━━━━━━━━━━━━\u001b[0m\u001b[37m━\u001b[0m \u001b[1m0s\u001b[0m 75ms/step - loss: 0.6480\n",
      "Epoch 24: saving model to PianoAnime.keras\n",
      "\u001b[1m236/236\u001b[0m \u001b[32m━━━━━━━━━━━━━━━━━━━━\u001b[0m\u001b[37m\u001b[0m \u001b[1m18s\u001b[0m 75ms/step - loss: 0.6483\n",
      "Epoch 25/100\n",
      "\u001b[1m235/236\u001b[0m \u001b[32m━━━━━━━━━━━━━━━━━━━\u001b[0m\u001b[37m━\u001b[0m \u001b[1m0s\u001b[0m 75ms/step - loss: 0.5882\n",
      "Epoch 25: saving model to PianoAnime.keras\n",
      "\u001b[1m236/236\u001b[0m \u001b[32m━━━━━━━━━━━━━━━━━━━━\u001b[0m\u001b[37m\u001b[0m \u001b[1m18s\u001b[0m 75ms/step - loss: 0.5885\n",
      "Epoch 26/100\n",
      "\u001b[1m235/236\u001b[0m \u001b[32m━━━━━━━━━━━━━━━━━━━\u001b[0m\u001b[37m━\u001b[0m \u001b[1m0s\u001b[0m 75ms/step - loss: 0.5329\n",
      "Epoch 26: saving model to PianoAnime.keras\n",
      "\u001b[1m236/236\u001b[0m \u001b[32m━━━━━━━━━━━━━━━━━━━━\u001b[0m\u001b[37m\u001b[0m \u001b[1m18s\u001b[0m 75ms/step - loss: 0.5332\n",
      "Epoch 27/100\n",
      "\u001b[1m235/236\u001b[0m \u001b[32m━━━━━━━━━━━━━━━━━━━\u001b[0m\u001b[37m━\u001b[0m \u001b[1m0s\u001b[0m 75ms/step - loss: 0.4832\n",
      "Epoch 27: saving model to PianoAnime.keras\n",
      "\u001b[1m236/236\u001b[0m \u001b[32m━━━━━━━━━━━━━━━━━━━━\u001b[0m\u001b[37m\u001b[0m \u001b[1m18s\u001b[0m 75ms/step - loss: 0.4835\n",
      "Epoch 28/100\n",
      "\u001b[1m235/236\u001b[0m \u001b[32m━━━━━━━━━━━━━━━━━━━\u001b[0m\u001b[37m━\u001b[0m \u001b[1m0s\u001b[0m 75ms/step - loss: 0.4432\n",
      "Epoch 28: saving model to PianoAnime.keras\n",
      "\u001b[1m236/236\u001b[0m \u001b[32m━━━━━━━━━━━━━━━━━━━━\u001b[0m\u001b[37m\u001b[0m \u001b[1m18s\u001b[0m 75ms/step - loss: 0.4434\n",
      "Epoch 29/100\n",
      "\u001b[1m235/236\u001b[0m \u001b[32m━━━━━━━━━━━━━━━━━━━\u001b[0m\u001b[37m━\u001b[0m \u001b[1m0s\u001b[0m 76ms/step - loss: 0.3970\n",
      "Epoch 29: saving model to PianoAnime.keras\n",
      "\u001b[1m236/236\u001b[0m \u001b[32m━━━━━━━━━━━━━━━━━━━━\u001b[0m\u001b[37m\u001b[0m \u001b[1m18s\u001b[0m 76ms/step - loss: 0.3972\n",
      "Epoch 30/100\n",
      "\u001b[1m235/236\u001b[0m \u001b[32m━━━━━━━━━━━━━━━━━━━\u001b[0m\u001b[37m━\u001b[0m \u001b[1m0s\u001b[0m 76ms/step - loss: 0.3640\n",
      "Epoch 30: saving model to PianoAnime.keras\n",
      "\u001b[1m236/236\u001b[0m \u001b[32m━━━━━━━━━━━━━━━━━━━━\u001b[0m\u001b[37m\u001b[0m \u001b[1m18s\u001b[0m 76ms/step - loss: 0.3642\n",
      "Epoch 31/100\n",
      "\u001b[1m235/236\u001b[0m \u001b[32m━━━━━━━━━━━━━━━━━━━\u001b[0m\u001b[37m━\u001b[0m \u001b[1m0s\u001b[0m 76ms/step - loss: 0.3363\n",
      "Epoch 31: saving model to PianoAnime.keras\n",
      "\u001b[1m236/236\u001b[0m \u001b[32m━━━━━━━━━━━━━━━━━━━━\u001b[0m\u001b[37m\u001b[0m \u001b[1m18s\u001b[0m 76ms/step - loss: 0.3363\n",
      "Epoch 32/100\n",
      "\u001b[1m235/236\u001b[0m \u001b[32m━━━━━━━━━━━━━━━━━━━\u001b[0m\u001b[37m━\u001b[0m \u001b[1m0s\u001b[0m 76ms/step - loss: 0.2878\n",
      "Epoch 32: saving model to PianoAnime.keras\n",
      "\u001b[1m236/236\u001b[0m \u001b[32m━━━━━━━━━━━━━━━━━━━━\u001b[0m\u001b[37m\u001b[0m \u001b[1m18s\u001b[0m 76ms/step - loss: 0.2880\n",
      "Epoch 33/100\n",
      "\u001b[1m235/236\u001b[0m \u001b[32m━━━━━━━━━━━━━━━━━━━\u001b[0m\u001b[37m━\u001b[0m \u001b[1m0s\u001b[0m 76ms/step - loss: 0.2638\n",
      "Epoch 33: saving model to PianoAnime.keras\n",
      "\u001b[1m236/236\u001b[0m \u001b[32m━━━━━━━━━━━━━━━━━━━━\u001b[0m\u001b[37m\u001b[0m \u001b[1m18s\u001b[0m 76ms/step - loss: 0.2639\n",
      "Epoch 34/100\n",
      "\u001b[1m235/236\u001b[0m \u001b[32m━━━━━━━━━━━━━━━━━━━\u001b[0m\u001b[37m━\u001b[0m \u001b[1m0s\u001b[0m 76ms/step - loss: 0.2351\n",
      "Epoch 34: saving model to PianoAnime.keras\n",
      "\u001b[1m236/236\u001b[0m \u001b[32m━━━━━━━━━━━━━━━━━━━━\u001b[0m\u001b[37m\u001b[0m \u001b[1m18s\u001b[0m 76ms/step - loss: 0.2353\n",
      "Epoch 35/100\n",
      "\u001b[1m235/236\u001b[0m \u001b[32m━━━━━━━━━━━━━━━━━━━\u001b[0m\u001b[37m━\u001b[0m \u001b[1m0s\u001b[0m 76ms/step - loss: 0.2246\n",
      "Epoch 35: saving model to PianoAnime.keras\n",
      "\u001b[1m236/236\u001b[0m \u001b[32m━━━━━━━━━━━━━━━━━━━━\u001b[0m\u001b[37m\u001b[0m \u001b[1m18s\u001b[0m 76ms/step - loss: 0.2248\n",
      "Epoch 36/100\n",
      "\u001b[1m235/236\u001b[0m \u001b[32m━━━━━━━━━━━━━━━━━━━\u001b[0m\u001b[37m━\u001b[0m \u001b[1m0s\u001b[0m 76ms/step - loss: 0.2020\n",
      "Epoch 36: saving model to PianoAnime.keras\n",
      "\u001b[1m236/236\u001b[0m \u001b[32m━━━━━━━━━━━━━━━━━━━━\u001b[0m\u001b[37m\u001b[0m \u001b[1m18s\u001b[0m 76ms/step - loss: 0.2022\n",
      "Epoch 37/100\n",
      "\u001b[1m235/236\u001b[0m \u001b[32m━━━━━━━━━━━━━━━━━━━\u001b[0m\u001b[37m━\u001b[0m \u001b[1m0s\u001b[0m 77ms/step - loss: 0.1927\n",
      "Epoch 37: saving model to PianoAnime.keras\n",
      "\u001b[1m236/236\u001b[0m \u001b[32m━━━━━━━━━━━━━━━━━━━━\u001b[0m\u001b[37m\u001b[0m \u001b[1m18s\u001b[0m 77ms/step - loss: 0.1929\n",
      "Epoch 38/100\n",
      "\u001b[1m235/236\u001b[0m \u001b[32m━━━━━━━━━━━━━━━━━━━\u001b[0m\u001b[37m━\u001b[0m \u001b[1m0s\u001b[0m 76ms/step - loss: 0.1908\n",
      "Epoch 38: saving model to PianoAnime.keras\n",
      "\u001b[1m236/236\u001b[0m \u001b[32m━━━━━━━━━━━━━━━━━━━━\u001b[0m\u001b[37m\u001b[0m \u001b[1m18s\u001b[0m 76ms/step - loss: 0.1908\n",
      "Epoch 39/100\n",
      "\u001b[1m235/236\u001b[0m \u001b[32m━━━━━━━━━━━━━━━━━━━\u001b[0m\u001b[37m━\u001b[0m \u001b[1m0s\u001b[0m 77ms/step - loss: 0.1754\n",
      "Epoch 39: saving model to PianoAnime.keras\n",
      "\u001b[1m236/236\u001b[0m \u001b[32m━━━━━━━━━━━━━━━━━━━━\u001b[0m\u001b[37m\u001b[0m \u001b[1m18s\u001b[0m 77ms/step - loss: 0.1755\n",
      "Epoch 40/100\n",
      "\u001b[1m235/236\u001b[0m \u001b[32m━━━━━━━━━━━━━━━━━━━\u001b[0m\u001b[37m━\u001b[0m \u001b[1m0s\u001b[0m 77ms/step - loss: 0.1765\n",
      "Epoch 40: saving model to PianoAnime.keras\n",
      "\u001b[1m236/236\u001b[0m \u001b[32m━━━━━━━━━━━━━━━━━━━━\u001b[0m\u001b[37m\u001b[0m \u001b[1m18s\u001b[0m 77ms/step - loss: 0.1766\n",
      "Epoch 41/100\n",
      "\u001b[1m236/236\u001b[0m \u001b[32m━━━━━━━━━━━━━━━━━━━━\u001b[0m\u001b[37m\u001b[0m \u001b[1m0s\u001b[0m 77ms/step - loss: 0.1602\n",
      "Epoch 41: saving model to PianoAnime.keras\n",
      "\u001b[1m236/236\u001b[0m \u001b[32m━━━━━━━━━━━━━━━━━━━━\u001b[0m\u001b[37m\u001b[0m \u001b[1m18s\u001b[0m 77ms/step - loss: 0.1603\n",
      "Epoch 42/100\n",
      "\u001b[1m236/236\u001b[0m \u001b[32m━━━━━━━━━━━━━━━━━━━━\u001b[0m\u001b[37m\u001b[0m \u001b[1m0s\u001b[0m 77ms/step - loss: 0.1269\n",
      "Epoch 42: saving model to PianoAnime.keras\n",
      "\u001b[1m236/236\u001b[0m \u001b[32m━━━━━━━━━━━━━━━━━━━━\u001b[0m\u001b[37m\u001b[0m \u001b[1m18s\u001b[0m 77ms/step - loss: 0.1269\n",
      "Epoch 43/100\n",
      "\u001b[1m235/236\u001b[0m \u001b[32m━━━━━━━━━━━━━━━━━━━\u001b[0m\u001b[37m━\u001b[0m \u001b[1m0s\u001b[0m 77ms/step - loss: 0.1203\n",
      "Epoch 43: saving model to PianoAnime.keras\n",
      "\u001b[1m236/236\u001b[0m \u001b[32m━━━━━━━━━━━━━━━━━━━━\u001b[0m\u001b[37m\u001b[0m \u001b[1m18s\u001b[0m 77ms/step - loss: 0.1204\n",
      "Epoch 44/100\n",
      "\u001b[1m235/236\u001b[0m \u001b[32m━━━━━━━━━━━━━━━━━━━\u001b[0m\u001b[37m━\u001b[0m \u001b[1m0s\u001b[0m 77ms/step - loss: 0.1312\n",
      "Epoch 44: saving model to PianoAnime.keras\n",
      "\u001b[1m236/236\u001b[0m \u001b[32m━━━━━━━━━━━━━━━━━━━━\u001b[0m\u001b[37m\u001b[0m \u001b[1m18s\u001b[0m 77ms/step - loss: 0.1313\n",
      "Epoch 45/100\n",
      "\u001b[1m235/236\u001b[0m \u001b[32m━━━━━━━━━━━━━━━━━━━\u001b[0m\u001b[37m━\u001b[0m \u001b[1m0s\u001b[0m 78ms/step - loss: 0.1130\n",
      "Epoch 45: saving model to PianoAnime.keras\n",
      "\u001b[1m236/236\u001b[0m \u001b[32m━━━━━━━━━━━━━━━━━━━━\u001b[0m\u001b[37m\u001b[0m \u001b[1m18s\u001b[0m 77ms/step - loss: 0.1132\n",
      "Epoch 46/100\n",
      "\u001b[1m235/236\u001b[0m \u001b[32m━━━━━━━━━━━━━━━━━━━\u001b[0m\u001b[37m━\u001b[0m \u001b[1m0s\u001b[0m 77ms/step - loss: 0.1441\n",
      "Epoch 46: saving model to PianoAnime.keras\n",
      "\u001b[1m236/236\u001b[0m \u001b[32m━━━━━━━━━━━━━━━━━━━━\u001b[0m\u001b[37m\u001b[0m \u001b[1m18s\u001b[0m 77ms/step - loss: 0.1442\n",
      "Epoch 47/100\n",
      "\u001b[1m235/236\u001b[0m \u001b[32m━━━━━━━━━━━━━━━━━━━\u001b[0m\u001b[37m━\u001b[0m \u001b[1m0s\u001b[0m 77ms/step - loss: 0.1274\n",
      "Epoch 47: saving model to PianoAnime.keras\n",
      "\u001b[1m236/236\u001b[0m \u001b[32m━━━━━━━━━━━━━━━━━━━━\u001b[0m\u001b[37m\u001b[0m \u001b[1m18s\u001b[0m 77ms/step - loss: 0.1274\n",
      "Epoch 48/100\n",
      "\u001b[1m235/236\u001b[0m \u001b[32m━━━━━━━━━━━━━━━━━━━\u001b[0m\u001b[37m━\u001b[0m \u001b[1m0s\u001b[0m 77ms/step - loss: 0.0913\n",
      "Epoch 48: saving model to PianoAnime.keras\n",
      "\u001b[1m236/236\u001b[0m \u001b[32m━━━━━━━━━━━━━━━━━━━━\u001b[0m\u001b[37m\u001b[0m \u001b[1m18s\u001b[0m 77ms/step - loss: 0.0914\n",
      "Epoch 49/100\n",
      "\u001b[1m235/236\u001b[0m \u001b[32m━━━━━━━━━━━━━━━━━━━\u001b[0m\u001b[37m━\u001b[0m \u001b[1m0s\u001b[0m 78ms/step - loss: 0.1101\n",
      "Epoch 49: saving model to PianoAnime.keras\n",
      "\u001b[1m236/236\u001b[0m \u001b[32m━━━━━━━━━━━━━━━━━━━━\u001b[0m\u001b[37m\u001b[0m \u001b[1m18s\u001b[0m 78ms/step - loss: 0.1102\n",
      "Epoch 50/100\n",
      "\u001b[1m235/236\u001b[0m \u001b[32m━━━━━━━━━━━━━━━━━━━\u001b[0m\u001b[37m━\u001b[0m \u001b[1m0s\u001b[0m 77ms/step - loss: 0.0945\n",
      "Epoch 50: saving model to PianoAnime.keras\n",
      "\u001b[1m236/236\u001b[0m \u001b[32m━━━━━━━━━━━━━━━━━━━━\u001b[0m\u001b[37m\u001b[0m \u001b[1m18s\u001b[0m 77ms/step - loss: 0.0946\n",
      "Epoch 51/100\n",
      "\u001b[1m235/236\u001b[0m \u001b[32m━━━━━━━━━━━━━━━━━━━\u001b[0m\u001b[37m━\u001b[0m \u001b[1m0s\u001b[0m 78ms/step - loss: 0.0828\n",
      "Epoch 51: saving model to PianoAnime.keras\n",
      "\u001b[1m236/236\u001b[0m \u001b[32m━━━━━━━━━━━━━━━━━━━━\u001b[0m\u001b[37m\u001b[0m \u001b[1m18s\u001b[0m 78ms/step - loss: 0.0829\n",
      "Epoch 52/100\n",
      "\u001b[1m235/236\u001b[0m \u001b[32m━━━━━━━━━━━━━━━━━━━\u001b[0m\u001b[37m━\u001b[0m \u001b[1m0s\u001b[0m 78ms/step - loss: 0.0799\n",
      "Epoch 52: saving model to PianoAnime.keras\n",
      "\u001b[1m236/236\u001b[0m \u001b[32m━━━━━━━━━━━━━━━━━━━━\u001b[0m\u001b[37m\u001b[0m \u001b[1m18s\u001b[0m 78ms/step - loss: 0.0800\n",
      "Epoch 53/100\n",
      "\u001b[1m235/236\u001b[0m \u001b[32m━━━━━━━━━━━━━━━━━━━\u001b[0m\u001b[37m━\u001b[0m \u001b[1m0s\u001b[0m 83ms/step - loss: 0.1138\n",
      "Epoch 53: saving model to PianoAnime.keras\n",
      "\u001b[1m236/236\u001b[0m \u001b[32m━━━━━━━━━━━━━━━━━━━━\u001b[0m\u001b[37m\u001b[0m \u001b[1m20s\u001b[0m 83ms/step - loss: 0.1140\n",
      "Epoch 54/100\n",
      "\u001b[1m235/236\u001b[0m \u001b[32m━━━━━━━━━━━━━━━━━━━\u001b[0m\u001b[37m━\u001b[0m \u001b[1m0s\u001b[0m 79ms/step - loss: 0.1840\n",
      "Epoch 54: saving model to PianoAnime.keras\n",
      "\u001b[1m236/236\u001b[0m \u001b[32m━━━━━━━━━━━━━━━━━━━━\u001b[0m\u001b[37m\u001b[0m \u001b[1m19s\u001b[0m 79ms/step - loss: 0.1841\n",
      "Epoch 55/100\n",
      "\u001b[1m235/236\u001b[0m \u001b[32m━━━━━━━━━━━━━━━━━━━\u001b[0m\u001b[37m━\u001b[0m \u001b[1m0s\u001b[0m 79ms/step - loss: 0.1496\n",
      "Epoch 55: saving model to PianoAnime.keras\n",
      "\u001b[1m236/236\u001b[0m \u001b[32m━━━━━━━━━━━━━━━━━━━━\u001b[0m\u001b[37m\u001b[0m \u001b[1m19s\u001b[0m 79ms/step - loss: 0.1495\n",
      "Epoch 56/100\n",
      "\u001b[1m235/236\u001b[0m \u001b[32m━━━━━━━━━━━━━━━━━━━\u001b[0m\u001b[37m━\u001b[0m \u001b[1m0s\u001b[0m 78ms/step - loss: 0.0814\n",
      "Epoch 56: saving model to PianoAnime.keras\n",
      "\u001b[1m236/236\u001b[0m \u001b[32m━━━━━━━━━━━━━━━━━━━━\u001b[0m\u001b[37m\u001b[0m \u001b[1m19s\u001b[0m 78ms/step - loss: 0.0814\n",
      "Epoch 57/100\n",
      "\u001b[1m235/236\u001b[0m \u001b[32m━━━━━━━━━━━━━━━━━━━\u001b[0m\u001b[37m━\u001b[0m \u001b[1m0s\u001b[0m 82ms/step - loss: 0.0622\n",
      "Epoch 57: saving model to PianoAnime.keras\n",
      "\u001b[1m236/236\u001b[0m \u001b[32m━━━━━━━━━━━━━━━━━━━━\u001b[0m\u001b[37m\u001b[0m \u001b[1m19s\u001b[0m 82ms/step - loss: 0.0623\n",
      "Epoch 58/100\n",
      "\u001b[1m235/236\u001b[0m \u001b[32m━━━━━━━━━━━━━━━━━━━\u001b[0m\u001b[37m━\u001b[0m \u001b[1m0s\u001b[0m 80ms/step - loss: 0.0563\n",
      "Epoch 58: saving model to PianoAnime.keras\n",
      "\u001b[1m236/236\u001b[0m \u001b[32m━━━━━━━━━━━━━━━━━━━━\u001b[0m\u001b[37m\u001b[0m \u001b[1m19s\u001b[0m 79ms/step - loss: 0.0564\n",
      "Epoch 59/100\n",
      "\u001b[1m235/236\u001b[0m \u001b[32m━━━━━━━━━━━━━━━━━━━\u001b[0m\u001b[37m━\u001b[0m \u001b[1m0s\u001b[0m 78ms/step - loss: 0.0496\n",
      "Epoch 59: saving model to PianoAnime.keras\n",
      "\u001b[1m236/236\u001b[0m \u001b[32m━━━━━━━━━━━━━━━━━━━━\u001b[0m\u001b[37m\u001b[0m \u001b[1m18s\u001b[0m 78ms/step - loss: 0.0497\n",
      "Epoch 60/100\n",
      "\u001b[1m235/236\u001b[0m \u001b[32m━━━━━━━━━━━━━━━━━━━\u001b[0m\u001b[37m━\u001b[0m \u001b[1m0s\u001b[0m 78ms/step - loss: 0.0533\n",
      "Epoch 60: saving model to PianoAnime.keras\n",
      "\u001b[1m236/236\u001b[0m \u001b[32m━━━━━━━━━━━━━━━━━━━━\u001b[0m\u001b[37m\u001b[0m \u001b[1m18s\u001b[0m 78ms/step - loss: 0.0534\n",
      "Epoch 61/100\n",
      "\u001b[1m235/236\u001b[0m \u001b[32m━━━━━━━━━━━━━━━━━━━\u001b[0m\u001b[37m━\u001b[0m \u001b[1m0s\u001b[0m 78ms/step - loss: 0.0863\n",
      "Epoch 61: saving model to PianoAnime.keras\n",
      "\u001b[1m236/236\u001b[0m \u001b[32m━━━━━━━━━━━━━━━━━━━━\u001b[0m\u001b[37m\u001b[0m \u001b[1m18s\u001b[0m 78ms/step - loss: 0.0867\n",
      "Epoch 62/100\n",
      "\u001b[1m235/236\u001b[0m \u001b[32m━━━━━━━━━━━━━━━━━━━\u001b[0m\u001b[37m━\u001b[0m \u001b[1m0s\u001b[0m 78ms/step - loss: 0.2271\n",
      "Epoch 62: saving model to PianoAnime.keras\n",
      "\u001b[1m236/236\u001b[0m \u001b[32m━━━━━━━━━━━━━━━━━━━━\u001b[0m\u001b[37m\u001b[0m \u001b[1m18s\u001b[0m 78ms/step - loss: 0.2271\n",
      "Epoch 63/100\n",
      "\u001b[1m235/236\u001b[0m \u001b[32m━━━━━━━━━━━━━━━━━━━\u001b[0m\u001b[37m━\u001b[0m \u001b[1m0s\u001b[0m 80ms/step - loss: 0.1467\n",
      "Epoch 63: saving model to PianoAnime.keras\n",
      "\u001b[1m236/236\u001b[0m \u001b[32m━━━━━━━━━━━━━━━━━━━━\u001b[0m\u001b[37m\u001b[0m \u001b[1m19s\u001b[0m 80ms/step - loss: 0.1466\n",
      "Epoch 64/100\n",
      "\u001b[1m235/236\u001b[0m \u001b[32m━━━━━━━━━━━━━━━━━━━\u001b[0m\u001b[37m━\u001b[0m \u001b[1m0s\u001b[0m 80ms/step - loss: 0.0849\n",
      "Epoch 64: saving model to PianoAnime.keras\n",
      "\u001b[1m236/236\u001b[0m \u001b[32m━━━━━━━━━━━━━━━━━━━━\u001b[0m\u001b[37m\u001b[0m \u001b[1m19s\u001b[0m 80ms/step - loss: 0.0849\n",
      "Epoch 65/100\n",
      "\u001b[1m235/236\u001b[0m \u001b[32m━━━━━━━━━━━━━━━━━━━\u001b[0m\u001b[37m━\u001b[0m \u001b[1m0s\u001b[0m 81ms/step - loss: 0.0543\n",
      "Epoch 65: saving model to PianoAnime.keras\n",
      "\u001b[1m236/236\u001b[0m \u001b[32m━━━━━━━━━━━━━━━━━━━━\u001b[0m\u001b[37m\u001b[0m \u001b[1m19s\u001b[0m 81ms/step - loss: 0.0544\n",
      "Epoch 66/100\n",
      "\u001b[1m235/236\u001b[0m \u001b[32m━━━━━━━━━━━━━━━━━━━\u001b[0m\u001b[37m━\u001b[0m \u001b[1m0s\u001b[0m 82ms/step - loss: 0.0451\n",
      "Epoch 66: saving model to PianoAnime.keras\n",
      "\u001b[1m236/236\u001b[0m \u001b[32m━━━━━━━━━━━━━━━━━━━━\u001b[0m\u001b[37m\u001b[0m \u001b[1m19s\u001b[0m 82ms/step - loss: 0.0451\n",
      "Epoch 67/100\n",
      "\u001b[1m235/236\u001b[0m \u001b[32m━━━━━━━━━━━━━━━━━━━\u001b[0m\u001b[37m━\u001b[0m \u001b[1m0s\u001b[0m 84ms/step - loss: 0.0396\n",
      "Epoch 67: saving model to PianoAnime.keras\n",
      "\u001b[1m236/236\u001b[0m \u001b[32m━━━━━━━━━━━━━━━━━━━━\u001b[0m\u001b[37m\u001b[0m \u001b[1m20s\u001b[0m 83ms/step - loss: 0.0396\n",
      "Epoch 68/100\n",
      "\u001b[1m235/236\u001b[0m \u001b[32m━━━━━━━━━━━━━━━━━━━\u001b[0m\u001b[37m━\u001b[0m \u001b[1m0s\u001b[0m 84ms/step - loss: 0.0460\n",
      "Epoch 68: saving model to PianoAnime.keras\n",
      "\u001b[1m236/236\u001b[0m \u001b[32m━━━━━━━━━━━━━━━━━━━━\u001b[0m\u001b[37m\u001b[0m \u001b[1m20s\u001b[0m 84ms/step - loss: 0.0460\n",
      "Epoch 69/100\n",
      "\u001b[1m235/236\u001b[0m \u001b[32m━━━━━━━━━━━━━━━━━━━\u001b[0m\u001b[37m━\u001b[0m \u001b[1m0s\u001b[0m 85ms/step - loss: 0.0663\n",
      "Epoch 69: saving model to PianoAnime.keras\n",
      "\u001b[1m236/236\u001b[0m \u001b[32m━━━━━━━━━━━━━━━━━━━━\u001b[0m\u001b[37m\u001b[0m \u001b[1m20s\u001b[0m 85ms/step - loss: 0.0665\n",
      "Epoch 70/100\n",
      "\u001b[1m235/236\u001b[0m \u001b[32m━━━━━━━━━━━━━━━━━━━\u001b[0m\u001b[37m━\u001b[0m \u001b[1m0s\u001b[0m 86ms/step - loss: 0.1441\n",
      "Epoch 70: saving model to PianoAnime.keras\n",
      "\u001b[1m236/236\u001b[0m \u001b[32m━━━━━━━━━━━━━━━━━━━━\u001b[0m\u001b[37m\u001b[0m \u001b[1m20s\u001b[0m 86ms/step - loss: 0.1444\n",
      "Epoch 71/100\n",
      "\u001b[1m235/236\u001b[0m \u001b[32m━━━━━━━━━━━━━━━━━━━\u001b[0m\u001b[37m━\u001b[0m \u001b[1m0s\u001b[0m 86ms/step - loss: 0.1906\n",
      "Epoch 71: saving model to PianoAnime.keras\n",
      "\u001b[1m236/236\u001b[0m \u001b[32m━━━━━━━━━━━━━━━━━━━━\u001b[0m\u001b[37m\u001b[0m \u001b[1m20s\u001b[0m 86ms/step - loss: 0.1904\n",
      "Epoch 72/100\n",
      "\u001b[1m235/236\u001b[0m \u001b[32m━━━━━━━━━━━━━━━━━━━\u001b[0m\u001b[37m━\u001b[0m \u001b[1m0s\u001b[0m 87ms/step - loss: 0.0783\n",
      "Epoch 72: saving model to PianoAnime.keras\n",
      "\u001b[1m236/236\u001b[0m \u001b[32m━━━━━━━━━━━━━━━━━━━━\u001b[0m\u001b[37m\u001b[0m \u001b[1m20s\u001b[0m 86ms/step - loss: 0.0782\n",
      "Epoch 73/100\n",
      "\u001b[1m235/236\u001b[0m \u001b[32m━━━━━━━━━━━━━━━━━━━\u001b[0m\u001b[37m━\u001b[0m \u001b[1m0s\u001b[0m 88ms/step - loss: 0.0445\n",
      "Epoch 73: saving model to PianoAnime.keras\n",
      "\u001b[1m236/236\u001b[0m \u001b[32m━━━━━━━━━━━━━━━━━━━━\u001b[0m\u001b[37m\u001b[0m \u001b[1m21s\u001b[0m 87ms/step - loss: 0.0445\n",
      "Epoch 74/100\n",
      "\u001b[1m235/236\u001b[0m \u001b[32m━━━━━━━━━━━━━━━━━━━\u001b[0m\u001b[37m━\u001b[0m \u001b[1m0s\u001b[0m 87ms/step - loss: 0.0415\n",
      "Epoch 74: saving model to PianoAnime.keras\n",
      "\u001b[1m236/236\u001b[0m \u001b[32m━━━━━━━━━━━━━━━━━━━━\u001b[0m\u001b[37m\u001b[0m \u001b[1m21s\u001b[0m 87ms/step - loss: 0.0415\n",
      "Epoch 75/100\n",
      "\u001b[1m 72/236\u001b[0m \u001b[32m━━━━━━\u001b[0m\u001b[37m━━━━━━━━━━━━━━\u001b[0m \u001b[1m14s\u001b[0m 88ms/step - loss: 0.0482"
     ]
    },
    {
     "ename": "KeyboardInterrupt",
     "evalue": "",
     "output_type": "error",
     "traceback": [
      "\u001b[0;31m---------------------------------------------------------------------------\u001b[0m",
      "\u001b[0;31mKeyboardInterrupt\u001b[0m                         Traceback (most recent call last)",
      "Cell \u001b[0;32mIn[29], line 7\u001b[0m\n\u001b[1;32m      5\u001b[0m \u001b[38;5;28;01melse\u001b[39;00m:\n\u001b[1;32m      6\u001b[0m     mc \u001b[38;5;241m=\u001b[39m ModelCheckpoint(model_name, mode\u001b[38;5;241m=\u001b[39m\u001b[38;5;124m'\u001b[39m\u001b[38;5;124mmin\u001b[39m\u001b[38;5;124m'\u001b[39m, verbose\u001b[38;5;241m=\u001b[39m\u001b[38;5;241m1\u001b[39m)\n\u001b[0;32m----> 7\u001b[0m     history \u001b[38;5;241m=\u001b[39m \u001b[43mmodel\u001b[49m\u001b[38;5;241;43m.\u001b[39;49m\u001b[43mfit\u001b[49m\u001b[43m(\u001b[49m\u001b[43mnp\u001b[49m\u001b[38;5;241;43m.\u001b[39;49m\u001b[43marray\u001b[49m\u001b[43m(\u001b[49m\u001b[43mx_seq\u001b[49m\u001b[43m)\u001b[49m\u001b[43m,\u001b[49m\u001b[43mnp\u001b[49m\u001b[38;5;241;43m.\u001b[39;49m\u001b[43marray\u001b[49m\u001b[43m(\u001b[49m\u001b[43my_seq\u001b[49m\u001b[43m)\u001b[49m\u001b[43m,\u001b[49m\u001b[43mbatch_size\u001b[49m\u001b[38;5;241;43m=\u001b[39;49m\u001b[38;5;241;43m128\u001b[39;49m\u001b[43m,\u001b[49m\u001b[43mepochs\u001b[49m\u001b[38;5;241;43m=\u001b[39;49m\u001b[43mepochs\u001b[49m\u001b[43m,\u001b[49m\u001b[43m \u001b[49m\u001b[43mverbose\u001b[49m\u001b[38;5;241;43m=\u001b[39;49m\u001b[38;5;241;43m1\u001b[39;49m\u001b[43m,\u001b[49m\u001b[43m \u001b[49m\u001b[43mcallbacks\u001b[49m\u001b[38;5;241;43m=\u001b[39;49m\u001b[43m[\u001b[49m\u001b[43mmc\u001b[49m\u001b[43m,\u001b[49m\u001b[43m \u001b[49m\u001b[43mtensorboard_callback\u001b[49m\u001b[43m]\u001b[49m\u001b[43m)\u001b[49m\n\u001b[1;32m      9\u001b[0m \u001b[38;5;66;03m# can stop kernel if loss does not consistently decrease (converges)\u001b[39;00m\n",
      "File \u001b[0;32m~/miniconda3/lib/python3.11/site-packages/keras/src/utils/traceback_utils.py:117\u001b[0m, in \u001b[0;36mfilter_traceback.<locals>.error_handler\u001b[0;34m(*args, **kwargs)\u001b[0m\n\u001b[1;32m    115\u001b[0m filtered_tb \u001b[38;5;241m=\u001b[39m \u001b[38;5;28;01mNone\u001b[39;00m\n\u001b[1;32m    116\u001b[0m \u001b[38;5;28;01mtry\u001b[39;00m:\n\u001b[0;32m--> 117\u001b[0m     \u001b[38;5;28;01mreturn\u001b[39;00m \u001b[43mfn\u001b[49m\u001b[43m(\u001b[49m\u001b[38;5;241;43m*\u001b[39;49m\u001b[43margs\u001b[49m\u001b[43m,\u001b[49m\u001b[43m \u001b[49m\u001b[38;5;241;43m*\u001b[39;49m\u001b[38;5;241;43m*\u001b[39;49m\u001b[43mkwargs\u001b[49m\u001b[43m)\u001b[49m\n\u001b[1;32m    118\u001b[0m \u001b[38;5;28;01mexcept\u001b[39;00m \u001b[38;5;167;01mException\u001b[39;00m \u001b[38;5;28;01mas\u001b[39;00m e:\n\u001b[1;32m    119\u001b[0m     filtered_tb \u001b[38;5;241m=\u001b[39m _process_traceback_frames(e\u001b[38;5;241m.\u001b[39m__traceback__)\n",
      "File \u001b[0;32m~/miniconda3/lib/python3.11/site-packages/keras/src/backend/tensorflow/trainer.py:318\u001b[0m, in \u001b[0;36mTensorFlowTrainer.fit\u001b[0;34m(self, x, y, batch_size, epochs, verbose, callbacks, validation_split, validation_data, shuffle, class_weight, sample_weight, initial_epoch, steps_per_epoch, validation_steps, validation_batch_size, validation_freq)\u001b[0m\n\u001b[1;32m    316\u001b[0m \u001b[38;5;28;01mfor\u001b[39;00m step, iterator \u001b[38;5;129;01min\u001b[39;00m epoch_iterator\u001b[38;5;241m.\u001b[39menumerate_epoch():\n\u001b[1;32m    317\u001b[0m     callbacks\u001b[38;5;241m.\u001b[39mon_train_batch_begin(step)\n\u001b[0;32m--> 318\u001b[0m     logs \u001b[38;5;241m=\u001b[39m \u001b[38;5;28;43mself\u001b[39;49m\u001b[38;5;241;43m.\u001b[39;49m\u001b[43mtrain_function\u001b[49m\u001b[43m(\u001b[49m\u001b[43miterator\u001b[49m\u001b[43m)\u001b[49m\n\u001b[1;32m    319\u001b[0m     logs \u001b[38;5;241m=\u001b[39m \u001b[38;5;28mself\u001b[39m\u001b[38;5;241m.\u001b[39m_pythonify_logs(logs)\n\u001b[1;32m    320\u001b[0m     callbacks\u001b[38;5;241m.\u001b[39mon_train_batch_end(step, logs)\n",
      "File \u001b[0;32m~/miniconda3/lib/python3.11/site-packages/tensorflow/python/util/traceback_utils.py:150\u001b[0m, in \u001b[0;36mfilter_traceback.<locals>.error_handler\u001b[0;34m(*args, **kwargs)\u001b[0m\n\u001b[1;32m    148\u001b[0m filtered_tb \u001b[38;5;241m=\u001b[39m \u001b[38;5;28;01mNone\u001b[39;00m\n\u001b[1;32m    149\u001b[0m \u001b[38;5;28;01mtry\u001b[39;00m:\n\u001b[0;32m--> 150\u001b[0m   \u001b[38;5;28;01mreturn\u001b[39;00m \u001b[43mfn\u001b[49m\u001b[43m(\u001b[49m\u001b[38;5;241;43m*\u001b[39;49m\u001b[43margs\u001b[49m\u001b[43m,\u001b[49m\u001b[43m \u001b[49m\u001b[38;5;241;43m*\u001b[39;49m\u001b[38;5;241;43m*\u001b[39;49m\u001b[43mkwargs\u001b[49m\u001b[43m)\u001b[49m\n\u001b[1;32m    151\u001b[0m \u001b[38;5;28;01mexcept\u001b[39;00m \u001b[38;5;167;01mException\u001b[39;00m \u001b[38;5;28;01mas\u001b[39;00m e:\n\u001b[1;32m    152\u001b[0m   filtered_tb \u001b[38;5;241m=\u001b[39m _process_traceback_frames(e\u001b[38;5;241m.\u001b[39m__traceback__)\n",
      "File \u001b[0;32m~/miniconda3/lib/python3.11/site-packages/tensorflow/python/eager/polymorphic_function/polymorphic_function.py:833\u001b[0m, in \u001b[0;36mFunction.__call__\u001b[0;34m(self, *args, **kwds)\u001b[0m\n\u001b[1;32m    830\u001b[0m compiler \u001b[38;5;241m=\u001b[39m \u001b[38;5;124m\"\u001b[39m\u001b[38;5;124mxla\u001b[39m\u001b[38;5;124m\"\u001b[39m \u001b[38;5;28;01mif\u001b[39;00m \u001b[38;5;28mself\u001b[39m\u001b[38;5;241m.\u001b[39m_jit_compile \u001b[38;5;28;01melse\u001b[39;00m \u001b[38;5;124m\"\u001b[39m\u001b[38;5;124mnonXla\u001b[39m\u001b[38;5;124m\"\u001b[39m\n\u001b[1;32m    832\u001b[0m \u001b[38;5;28;01mwith\u001b[39;00m OptionalXlaContext(\u001b[38;5;28mself\u001b[39m\u001b[38;5;241m.\u001b[39m_jit_compile):\n\u001b[0;32m--> 833\u001b[0m   result \u001b[38;5;241m=\u001b[39m \u001b[38;5;28;43mself\u001b[39;49m\u001b[38;5;241;43m.\u001b[39;49m\u001b[43m_call\u001b[49m\u001b[43m(\u001b[49m\u001b[38;5;241;43m*\u001b[39;49m\u001b[43margs\u001b[49m\u001b[43m,\u001b[49m\u001b[43m \u001b[49m\u001b[38;5;241;43m*\u001b[39;49m\u001b[38;5;241;43m*\u001b[39;49m\u001b[43mkwds\u001b[49m\u001b[43m)\u001b[49m\n\u001b[1;32m    835\u001b[0m new_tracing_count \u001b[38;5;241m=\u001b[39m \u001b[38;5;28mself\u001b[39m\u001b[38;5;241m.\u001b[39mexperimental_get_tracing_count()\n\u001b[1;32m    836\u001b[0m without_tracing \u001b[38;5;241m=\u001b[39m (tracing_count \u001b[38;5;241m==\u001b[39m new_tracing_count)\n",
      "File \u001b[0;32m~/miniconda3/lib/python3.11/site-packages/tensorflow/python/eager/polymorphic_function/polymorphic_function.py:878\u001b[0m, in \u001b[0;36mFunction._call\u001b[0;34m(self, *args, **kwds)\u001b[0m\n\u001b[1;32m    875\u001b[0m \u001b[38;5;28mself\u001b[39m\u001b[38;5;241m.\u001b[39m_lock\u001b[38;5;241m.\u001b[39mrelease()\n\u001b[1;32m    876\u001b[0m \u001b[38;5;66;03m# In this case we have not created variables on the first call. So we can\u001b[39;00m\n\u001b[1;32m    877\u001b[0m \u001b[38;5;66;03m# run the first trace but we should fail if variables are created.\u001b[39;00m\n\u001b[0;32m--> 878\u001b[0m results \u001b[38;5;241m=\u001b[39m \u001b[43mtracing_compilation\u001b[49m\u001b[38;5;241;43m.\u001b[39;49m\u001b[43mcall_function\u001b[49m\u001b[43m(\u001b[49m\n\u001b[1;32m    879\u001b[0m \u001b[43m    \u001b[49m\u001b[43margs\u001b[49m\u001b[43m,\u001b[49m\u001b[43m \u001b[49m\u001b[43mkwds\u001b[49m\u001b[43m,\u001b[49m\u001b[43m \u001b[49m\u001b[38;5;28;43mself\u001b[39;49m\u001b[38;5;241;43m.\u001b[39;49m\u001b[43m_variable_creation_config\u001b[49m\n\u001b[1;32m    880\u001b[0m \u001b[43m\u001b[49m\u001b[43m)\u001b[49m\n\u001b[1;32m    881\u001b[0m \u001b[38;5;28;01mif\u001b[39;00m \u001b[38;5;28mself\u001b[39m\u001b[38;5;241m.\u001b[39m_created_variables:\n\u001b[1;32m    882\u001b[0m   \u001b[38;5;28;01mraise\u001b[39;00m \u001b[38;5;167;01mValueError\u001b[39;00m(\u001b[38;5;124m\"\u001b[39m\u001b[38;5;124mCreating variables on a non-first call to a function\u001b[39m\u001b[38;5;124m\"\u001b[39m\n\u001b[1;32m    883\u001b[0m                    \u001b[38;5;124m\"\u001b[39m\u001b[38;5;124m decorated with tf.function.\u001b[39m\u001b[38;5;124m\"\u001b[39m)\n",
      "File \u001b[0;32m~/miniconda3/lib/python3.11/site-packages/tensorflow/python/eager/polymorphic_function/tracing_compilation.py:139\u001b[0m, in \u001b[0;36mcall_function\u001b[0;34m(args, kwargs, tracing_options)\u001b[0m\n\u001b[1;32m    137\u001b[0m bound_args \u001b[38;5;241m=\u001b[39m function\u001b[38;5;241m.\u001b[39mfunction_type\u001b[38;5;241m.\u001b[39mbind(\u001b[38;5;241m*\u001b[39margs, \u001b[38;5;241m*\u001b[39m\u001b[38;5;241m*\u001b[39mkwargs)\n\u001b[1;32m    138\u001b[0m flat_inputs \u001b[38;5;241m=\u001b[39m function\u001b[38;5;241m.\u001b[39mfunction_type\u001b[38;5;241m.\u001b[39munpack_inputs(bound_args)\n\u001b[0;32m--> 139\u001b[0m \u001b[38;5;28;01mreturn\u001b[39;00m \u001b[43mfunction\u001b[49m\u001b[38;5;241;43m.\u001b[39;49m\u001b[43m_call_flat\u001b[49m\u001b[43m(\u001b[49m\u001b[43m  \u001b[49m\u001b[38;5;66;43;03m# pylint: disable=protected-access\u001b[39;49;00m\n\u001b[1;32m    140\u001b[0m \u001b[43m    \u001b[49m\u001b[43mflat_inputs\u001b[49m\u001b[43m,\u001b[49m\u001b[43m \u001b[49m\u001b[43mcaptured_inputs\u001b[49m\u001b[38;5;241;43m=\u001b[39;49m\u001b[43mfunction\u001b[49m\u001b[38;5;241;43m.\u001b[39;49m\u001b[43mcaptured_inputs\u001b[49m\n\u001b[1;32m    141\u001b[0m \u001b[43m\u001b[49m\u001b[43m)\u001b[49m\n",
      "File \u001b[0;32m~/miniconda3/lib/python3.11/site-packages/tensorflow/python/eager/polymorphic_function/concrete_function.py:1322\u001b[0m, in \u001b[0;36mConcreteFunction._call_flat\u001b[0;34m(self, tensor_inputs, captured_inputs)\u001b[0m\n\u001b[1;32m   1318\u001b[0m possible_gradient_type \u001b[38;5;241m=\u001b[39m gradients_util\u001b[38;5;241m.\u001b[39mPossibleTapeGradientTypes(args)\n\u001b[1;32m   1319\u001b[0m \u001b[38;5;28;01mif\u001b[39;00m (possible_gradient_type \u001b[38;5;241m==\u001b[39m gradients_util\u001b[38;5;241m.\u001b[39mPOSSIBLE_GRADIENT_TYPES_NONE\n\u001b[1;32m   1320\u001b[0m     \u001b[38;5;129;01mand\u001b[39;00m executing_eagerly):\n\u001b[1;32m   1321\u001b[0m   \u001b[38;5;66;03m# No tape is watching; skip to running the function.\u001b[39;00m\n\u001b[0;32m-> 1322\u001b[0m   \u001b[38;5;28;01mreturn\u001b[39;00m \u001b[38;5;28;43mself\u001b[39;49m\u001b[38;5;241;43m.\u001b[39;49m\u001b[43m_inference_function\u001b[49m\u001b[38;5;241;43m.\u001b[39;49m\u001b[43mcall_preflattened\u001b[49m\u001b[43m(\u001b[49m\u001b[43margs\u001b[49m\u001b[43m)\u001b[49m\n\u001b[1;32m   1323\u001b[0m forward_backward \u001b[38;5;241m=\u001b[39m \u001b[38;5;28mself\u001b[39m\u001b[38;5;241m.\u001b[39m_select_forward_and_backward_functions(\n\u001b[1;32m   1324\u001b[0m     args,\n\u001b[1;32m   1325\u001b[0m     possible_gradient_type,\n\u001b[1;32m   1326\u001b[0m     executing_eagerly)\n\u001b[1;32m   1327\u001b[0m forward_function, args_with_tangents \u001b[38;5;241m=\u001b[39m forward_backward\u001b[38;5;241m.\u001b[39mforward()\n",
      "File \u001b[0;32m~/miniconda3/lib/python3.11/site-packages/tensorflow/python/eager/polymorphic_function/atomic_function.py:216\u001b[0m, in \u001b[0;36mAtomicFunction.call_preflattened\u001b[0;34m(self, args)\u001b[0m\n\u001b[1;32m    214\u001b[0m \u001b[38;5;28;01mdef\u001b[39;00m \u001b[38;5;21mcall_preflattened\u001b[39m(\u001b[38;5;28mself\u001b[39m, args: Sequence[core\u001b[38;5;241m.\u001b[39mTensor]) \u001b[38;5;241m-\u001b[39m\u001b[38;5;241m>\u001b[39m Any:\n\u001b[1;32m    215\u001b[0m \u001b[38;5;250m  \u001b[39m\u001b[38;5;124;03m\"\"\"Calls with flattened tensor inputs and returns the structured output.\"\"\"\u001b[39;00m\n\u001b[0;32m--> 216\u001b[0m   flat_outputs \u001b[38;5;241m=\u001b[39m \u001b[38;5;28;43mself\u001b[39;49m\u001b[38;5;241;43m.\u001b[39;49m\u001b[43mcall_flat\u001b[49m\u001b[43m(\u001b[49m\u001b[38;5;241;43m*\u001b[39;49m\u001b[43margs\u001b[49m\u001b[43m)\u001b[49m\n\u001b[1;32m    217\u001b[0m   \u001b[38;5;28;01mreturn\u001b[39;00m \u001b[38;5;28mself\u001b[39m\u001b[38;5;241m.\u001b[39mfunction_type\u001b[38;5;241m.\u001b[39mpack_output(flat_outputs)\n",
      "File \u001b[0;32m~/miniconda3/lib/python3.11/site-packages/tensorflow/python/eager/polymorphic_function/atomic_function.py:251\u001b[0m, in \u001b[0;36mAtomicFunction.call_flat\u001b[0;34m(self, *args)\u001b[0m\n\u001b[1;32m    249\u001b[0m \u001b[38;5;28;01mwith\u001b[39;00m record\u001b[38;5;241m.\u001b[39mstop_recording():\n\u001b[1;32m    250\u001b[0m   \u001b[38;5;28;01mif\u001b[39;00m \u001b[38;5;28mself\u001b[39m\u001b[38;5;241m.\u001b[39m_bound_context\u001b[38;5;241m.\u001b[39mexecuting_eagerly():\n\u001b[0;32m--> 251\u001b[0m     outputs \u001b[38;5;241m=\u001b[39m \u001b[38;5;28;43mself\u001b[39;49m\u001b[38;5;241;43m.\u001b[39;49m\u001b[43m_bound_context\u001b[49m\u001b[38;5;241;43m.\u001b[39;49m\u001b[43mcall_function\u001b[49m\u001b[43m(\u001b[49m\n\u001b[1;32m    252\u001b[0m \u001b[43m        \u001b[49m\u001b[38;5;28;43mself\u001b[39;49m\u001b[38;5;241;43m.\u001b[39;49m\u001b[43mname\u001b[49m\u001b[43m,\u001b[49m\n\u001b[1;32m    253\u001b[0m \u001b[43m        \u001b[49m\u001b[38;5;28;43mlist\u001b[39;49m\u001b[43m(\u001b[49m\u001b[43margs\u001b[49m\u001b[43m)\u001b[49m\u001b[43m,\u001b[49m\n\u001b[1;32m    254\u001b[0m \u001b[43m        \u001b[49m\u001b[38;5;28;43mlen\u001b[39;49m\u001b[43m(\u001b[49m\u001b[38;5;28;43mself\u001b[39;49m\u001b[38;5;241;43m.\u001b[39;49m\u001b[43mfunction_type\u001b[49m\u001b[38;5;241;43m.\u001b[39;49m\u001b[43mflat_outputs\u001b[49m\u001b[43m)\u001b[49m\u001b[43m,\u001b[49m\n\u001b[1;32m    255\u001b[0m \u001b[43m    \u001b[49m\u001b[43m)\u001b[49m\n\u001b[1;32m    256\u001b[0m   \u001b[38;5;28;01melse\u001b[39;00m:\n\u001b[1;32m    257\u001b[0m     outputs \u001b[38;5;241m=\u001b[39m make_call_op_in_graph(\n\u001b[1;32m    258\u001b[0m         \u001b[38;5;28mself\u001b[39m,\n\u001b[1;32m    259\u001b[0m         \u001b[38;5;28mlist\u001b[39m(args),\n\u001b[1;32m    260\u001b[0m         \u001b[38;5;28mself\u001b[39m\u001b[38;5;241m.\u001b[39m_bound_context\u001b[38;5;241m.\u001b[39mfunction_call_options\u001b[38;5;241m.\u001b[39mas_attrs(),\n\u001b[1;32m    261\u001b[0m     )\n",
      "File \u001b[0;32m~/miniconda3/lib/python3.11/site-packages/tensorflow/python/eager/context.py:1552\u001b[0m, in \u001b[0;36mContext.call_function\u001b[0;34m(self, name, tensor_inputs, num_outputs)\u001b[0m\n\u001b[1;32m   1550\u001b[0m cancellation_context \u001b[38;5;241m=\u001b[39m cancellation\u001b[38;5;241m.\u001b[39mcontext()\n\u001b[1;32m   1551\u001b[0m \u001b[38;5;28;01mif\u001b[39;00m cancellation_context \u001b[38;5;129;01mis\u001b[39;00m \u001b[38;5;28;01mNone\u001b[39;00m:\n\u001b[0;32m-> 1552\u001b[0m   outputs \u001b[38;5;241m=\u001b[39m \u001b[43mexecute\u001b[49m\u001b[38;5;241;43m.\u001b[39;49m\u001b[43mexecute\u001b[49m\u001b[43m(\u001b[49m\n\u001b[1;32m   1553\u001b[0m \u001b[43m      \u001b[49m\u001b[43mname\u001b[49m\u001b[38;5;241;43m.\u001b[39;49m\u001b[43mdecode\u001b[49m\u001b[43m(\u001b[49m\u001b[38;5;124;43m\"\u001b[39;49m\u001b[38;5;124;43mutf-8\u001b[39;49m\u001b[38;5;124;43m\"\u001b[39;49m\u001b[43m)\u001b[49m\u001b[43m,\u001b[49m\n\u001b[1;32m   1554\u001b[0m \u001b[43m      \u001b[49m\u001b[43mnum_outputs\u001b[49m\u001b[38;5;241;43m=\u001b[39;49m\u001b[43mnum_outputs\u001b[49m\u001b[43m,\u001b[49m\n\u001b[1;32m   1555\u001b[0m \u001b[43m      \u001b[49m\u001b[43minputs\u001b[49m\u001b[38;5;241;43m=\u001b[39;49m\u001b[43mtensor_inputs\u001b[49m\u001b[43m,\u001b[49m\n\u001b[1;32m   1556\u001b[0m \u001b[43m      \u001b[49m\u001b[43mattrs\u001b[49m\u001b[38;5;241;43m=\u001b[39;49m\u001b[43mattrs\u001b[49m\u001b[43m,\u001b[49m\n\u001b[1;32m   1557\u001b[0m \u001b[43m      \u001b[49m\u001b[43mctx\u001b[49m\u001b[38;5;241;43m=\u001b[39;49m\u001b[38;5;28;43mself\u001b[39;49m\u001b[43m,\u001b[49m\n\u001b[1;32m   1558\u001b[0m \u001b[43m  \u001b[49m\u001b[43m)\u001b[49m\n\u001b[1;32m   1559\u001b[0m \u001b[38;5;28;01melse\u001b[39;00m:\n\u001b[1;32m   1560\u001b[0m   outputs \u001b[38;5;241m=\u001b[39m execute\u001b[38;5;241m.\u001b[39mexecute_with_cancellation(\n\u001b[1;32m   1561\u001b[0m       name\u001b[38;5;241m.\u001b[39mdecode(\u001b[38;5;124m\"\u001b[39m\u001b[38;5;124mutf-8\u001b[39m\u001b[38;5;124m\"\u001b[39m),\n\u001b[1;32m   1562\u001b[0m       num_outputs\u001b[38;5;241m=\u001b[39mnum_outputs,\n\u001b[0;32m   (...)\u001b[0m\n\u001b[1;32m   1566\u001b[0m       cancellation_manager\u001b[38;5;241m=\u001b[39mcancellation_context,\n\u001b[1;32m   1567\u001b[0m   )\n",
      "File \u001b[0;32m~/miniconda3/lib/python3.11/site-packages/tensorflow/python/eager/execute.py:53\u001b[0m, in \u001b[0;36mquick_execute\u001b[0;34m(op_name, num_outputs, inputs, attrs, ctx, name)\u001b[0m\n\u001b[1;32m     51\u001b[0m \u001b[38;5;28;01mtry\u001b[39;00m:\n\u001b[1;32m     52\u001b[0m   ctx\u001b[38;5;241m.\u001b[39mensure_initialized()\n\u001b[0;32m---> 53\u001b[0m   tensors \u001b[38;5;241m=\u001b[39m \u001b[43mpywrap_tfe\u001b[49m\u001b[38;5;241;43m.\u001b[39;49m\u001b[43mTFE_Py_Execute\u001b[49m\u001b[43m(\u001b[49m\u001b[43mctx\u001b[49m\u001b[38;5;241;43m.\u001b[39;49m\u001b[43m_handle\u001b[49m\u001b[43m,\u001b[49m\u001b[43m \u001b[49m\u001b[43mdevice_name\u001b[49m\u001b[43m,\u001b[49m\u001b[43m \u001b[49m\u001b[43mop_name\u001b[49m\u001b[43m,\u001b[49m\n\u001b[1;32m     54\u001b[0m \u001b[43m                                      \u001b[49m\u001b[43minputs\u001b[49m\u001b[43m,\u001b[49m\u001b[43m \u001b[49m\u001b[43mattrs\u001b[49m\u001b[43m,\u001b[49m\u001b[43m \u001b[49m\u001b[43mnum_outputs\u001b[49m\u001b[43m)\u001b[49m\n\u001b[1;32m     55\u001b[0m \u001b[38;5;28;01mexcept\u001b[39;00m core\u001b[38;5;241m.\u001b[39m_NotOkStatusException \u001b[38;5;28;01mas\u001b[39;00m e:\n\u001b[1;32m     56\u001b[0m   \u001b[38;5;28;01mif\u001b[39;00m name \u001b[38;5;129;01mis\u001b[39;00m \u001b[38;5;129;01mnot\u001b[39;00m \u001b[38;5;28;01mNone\u001b[39;00m:\n",
      "\u001b[0;31mKeyboardInterrupt\u001b[0m: "
     ]
    }
   ],
   "source": [
    "# training\n",
    "if validation:\n",
    "    mc = ModelCheckpoint(model_name, mode='min', verbose=1, save_best_only=True)\n",
    "    history = model.fit(np.array(x_tr),np.array(y_tr),batch_size=128,epochs=epochs, validation_data=(np.array(x_val),np.array(y_val)),verbose=1, callbacks=[mc])\n",
    "else:\n",
    "    mc = ModelCheckpoint(model_name, mode='min', verbose=1)\n",
    "    history = model.fit(np.array(x_seq),np.array(y_seq),batch_size=128,epochs=epochs, verbose=1, callbacks=[mc, tensorboard_callback])\n",
    "    \n",
    "# can stop kernel if loss does not consistently decrease (converges)"
   ]
  },
  {
   "cell_type": "code",
   "execution_count": 30,
   "id": "1bfea518",
   "metadata": {},
   "outputs": [
    {
     "data": {
      "text/html": [
       "\n",
       "      <iframe id=\"tensorboard-frame-86f490bc41239a27\" width=\"100%\" height=\"800\" frameborder=\"0\">\n",
       "      </iframe>\n",
       "      <script>\n",
       "        (function() {\n",
       "          const frame = document.getElementById(\"tensorboard-frame-86f490bc41239a27\");\n",
       "          const url = new URL(\"/\", window.location);\n",
       "          const port = 6006;\n",
       "          if (port) {\n",
       "            url.port = port;\n",
       "          }\n",
       "          frame.src = url;\n",
       "        })();\n",
       "      </script>\n",
       "    "
      ],
      "text/plain": [
       "<IPython.core.display.HTML object>"
      ]
     },
     "metadata": {},
     "output_type": "display_data"
    }
   ],
   "source": [
    "%tensorboard --logdir logs"
   ]
  }
 ],
 "metadata": {
  "kernelspec": {
   "display_name": "Python 3 (ipykernel)",
   "language": "python",
   "name": "python3"
  },
  "language_info": {
   "codemirror_mode": {
    "name": "ipython",
    "version": 3
   },
   "file_extension": ".py",
   "mimetype": "text/x-python",
   "name": "python",
   "nbconvert_exporter": "python",
   "pygments_lexer": "ipython3",
   "version": "3.11.4"
  },
  "vscode": {
   "interpreter": {
    "hash": "b0fa6594d8f4cbf19f97940f81e996739fb7646882a419484c72d19e05852a7e"
   }
  }
 },
 "nbformat": 4,
 "nbformat_minor": 5
}
