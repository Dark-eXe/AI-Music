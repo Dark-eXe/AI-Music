{
 "cells": [
  {
   "cell_type": "markdown",
   "id": "5ab146f5",
   "metadata": {},
   "source": [
    "# Training"
   ]
  },
  {
   "cell_type": "code",
   "execution_count": 1,
   "id": "f1fedc24",
   "metadata": {},
   "outputs": [],
   "source": [
    "from music21 import *\n",
    "import numpy as np\n",
    "import os\n",
    "from collections import Counter\n",
    "from fractions import Fraction\n",
    "\n",
    "from keras.layers import *\n",
    "from keras.models import *\n",
    "from keras.callbacks import *\n",
    "import keras.backend as K\n",
    "import tensorboard\n",
    "import tensorflow as tf\n",
    "from datetime import datetime\n",
    "\n",
    "from sklearn.model_selection import train_test_split"
   ]
  },
  {
   "cell_type": "code",
   "execution_count": 2,
   "id": "1cfbb3b7",
   "metadata": {},
   "outputs": [],
   "source": [
    "%load_ext tensorboard"
   ]
  },
  {
   "cell_type": "code",
   "execution_count": 3,
   "id": "24926757",
   "metadata": {},
   "outputs": [],
   "source": [
    "inst = 'Flute'\n",
    "artist = 'Wagner'"
   ]
  },
  {
   "cell_type": "markdown",
   "id": "c312431c",
   "metadata": {},
   "source": [
    "$ instrument \\in \\{Piano, Violin, Flutel\\} $ <br><br>\n",
    "$ instrument = Piano \\rightarrow artist \\in \\{Bach, Chopin, Debussy, Ellington, Corea, Anime\\}$<br>\n",
    "$ instrument = Violin \\rightarrow artist \\in \\{Mozart, Paganini, Vivaldi\\}$ <br>\n",
    "$ instrument = Flute \\rightarrow artist \\in \\{Brahms, Wagner\\}$ <br>"
   ]
  },
  {
   "cell_type": "code",
   "execution_count": 4,
   "id": "3944134f",
   "metadata": {},
   "outputs": [],
   "source": [
    "# file references\n",
    "path = \"train_music/\" + inst + artist + \"/\"\n",
    "model_name = inst + artist + \".keras\"\n",
    "\n",
    "unique_x_file = inst + artist + \"_unique.txt\"\n",
    "xval_file = inst + artist + \"_x.txt\""
   ]
  },
  {
   "cell_type": "code",
   "execution_count": 5,
   "id": "03649e94",
   "metadata": {},
   "outputs": [],
   "source": [
    "# hyperparameters\n",
    "epochs = 100 # number of times model runs through train data during training\n",
    "frequentNoteMin = 10 # model only counts \"frequent\" notes, specify number times a note/rhythm must appear in train music to be counted\n",
    "validation = False # include val loss as metric for training - only set to True if overfitting is a clear issue\n",
    "no_of_timesteps = 32 # SENSITIVE - DO NOT MODIFY, HERE FOR EXPERIMENTAL REASONS, length of sequence to determine next note/rhythm in sequence"
   ]
  },
  {
   "cell_type": "code",
   "execution_count": 6,
   "id": "3be387ab",
   "metadata": {},
   "outputs": [],
   "source": [
    "def read_midi(file, inst):\n",
    "    \n",
    "    print(\"Loading Music File:\",file)\n",
    "    \n",
    "    notes=[]\n",
    "    notes_to_parse = None\n",
    "    \n",
    "    #parsing a midi file\n",
    "    midi = converter.parse(file)\n",
    "    #midi.show()\n",
    "  \n",
    "    #grouping based on different instruments\n",
    "    s2 = instrument.partitionByInstrument(midi)\n",
    "\n",
    "    #Looping over all the instruments\n",
    "    for part in s2.parts:\n",
    "    \n",
    "        #select elements of only the selected instrument\n",
    "        if inst in str(part): \n",
    "        \n",
    "            notes_to_parse = part.recurse() \n",
    "      \n",
    "            #finding whether a particular element is note or a chord\n",
    "            for element in notes_to_parse:\n",
    "                \n",
    "                #note\n",
    "                if isinstance(element, note.Note):\n",
    "                    notes.append((str(element.pitch), element.quarterLength))\n",
    "                \n",
    "                #chord\n",
    "                elif isinstance(element, chord.Chord):\n",
    "                    notes.append(('.'.join(str(n) for n in element.normalOrder), element.quarterLength))\n",
    "                    \n",
    "                #rest\n",
    "                elif isinstance(element, note.Rest):\n",
    "                    notes.append(('rest', element.quarterLength))\n",
    "\n",
    "    return notes"
   ]
  },
  {
   "cell_type": "markdown",
   "id": "cee298d4",
   "metadata": {},
   "source": [
    "### Extract Note Sequences"
   ]
  },
  {
   "cell_type": "code",
   "execution_count": 7,
   "id": "1a447c30",
   "metadata": {},
   "outputs": [
    {
     "name": "stdout",
     "output_type": "stream",
     "text": [
      "Loading notes...\n",
      "Loading Music File: train_music/FluteWagner/wagner_wedding_march.mid\n",
      "Loading Music File: train_music/FluteWagner/lohengrin_overture_FL.mid\n",
      "Loading Music File: train_music/FluteWagner/liebestod_FL.mid\n",
      "Loading Music File: train_music/FluteWagner/siegfrieds_funeral_music_rl9.mid\n",
      "Loading Music File: train_music/FluteWagner/wagner_parsifalFL.mid\n",
      "Loading Music File: train_music/FluteWagner/tannhauser_overture_bz2-bz3.mid\n",
      "Loading Music File: train_music/FluteWagner/wesendonck1_der_engelFL.mid\n",
      "Loading Music File: train_music/FluteWagner/siegfried_idyll_FL.mid\n",
      "Loading Music File: train_music/FluteWagner/tristaxg.mid\n",
      "Loading Music File: train_music/FluteWagner/tristan.mid\n",
      "Loading Music File: train_music/FluteWagner/lohengrin_act3introFL.mid\n"
     ]
    }
   ],
   "source": [
    "#read all the filenames\n",
    "files = [i for i in os.listdir(path) if i.endswith(\".mid\")]\n",
    "\n",
    "#reading each midi file\n",
    "print(\"Loading notes...\")\n",
    "notes_array = [read_midi(path+i, inst) for i in files]"
   ]
  },
  {
   "cell_type": "markdown",
   "id": "de457c14",
   "metadata": {},
   "source": [
    "#### Sample Train Music\n",
    "**** you do not have to run this part for training"
   ]
  },
  {
   "cell_type": "code",
   "execution_count": 8,
   "id": "7659ae72",
   "metadata": {},
   "outputs": [],
   "source": [
    "sampleIndex = 0\n",
    "notes_list = []\n",
    "offset = 0\n",
    "for note_tuple in notes_array[sampleIndex]:\n",
    "    if ('.' in note_tuple[0]) or note_tuple[0].isdigit(): #chord\n",
    "        notes_in_chord = note_tuple[0].split('.')\n",
    "        notes = []\n",
    "        for current_note in notes_in_chord: \n",
    "            cn=int(current_note)\n",
    "            new_note = note.Note(cn)\n",
    "            new_note.quarterLength = note_tuple[1]\n",
    "            notes.append(new_note)\n",
    "            \n",
    "        new_chord = chord.Chord(notes)\n",
    "        new_chord.offset = offset\n",
    "        notes_list.append(new_chord)\n",
    "    elif 'rest' in note_tuple[0]: #rest\n",
    "        new_rest = note.Rest(quarterLength=note_tuple[1])\n",
    "        notes_list.append(new_rest)\n",
    "    else:\n",
    "        new_note = note.Note(note_tuple[0])\n",
    "        new_note.quarterLength = note_tuple[1]\n",
    "        notes_list.append(new_note)\n",
    "\n",
    "s = stream.Score()\n",
    "s.insert(0, metadata.Metadata())\n",
    "s.metadata.title = \"Sample Train Music\"\n",
    "s.append(notes_list)"
   ]
  },
  {
   "cell_type": "code",
   "execution_count": 9,
   "id": "be691fe2",
   "metadata": {},
   "outputs": [
    {
     "name": "stdout",
     "output_type": "stream",
     "text": [
      "musescore integration not yet completed\n"
     ]
    },
    {
     "name": "stderr",
     "output_type": "stream",
     "text": [
      "/Users/andrewturangan/miniconda3/lib/python3.11/site-packages/music21/musicxml/m21ToXml.py:531: MusicXMLWarning: <music21.stream.Score 0x17ce8a2d0> is not well-formed; see isWellFormedNotation()\n",
      "  warnings.warn(f'{sc} is not well-formed; see isWellFormedNotation()',\n"
     ]
    }
   ],
   "source": [
    "try:\n",
    "    s.show()\n",
    "except:\n",
    "    print(\"musescore integration not yet completed\")"
   ]
  },
  {
   "cell_type": "code",
   "execution_count": 10,
   "id": "1f448710",
   "metadata": {},
   "outputs": [
    {
     "data": {
      "text/html": [
       "\n",
       "        <div id=\"midiPlayerDiv624876\"></div>\n",
       "        <link rel=\"stylesheet\" href=\"https://cuthbertLab.github.io/music21j/css/m21.css\">\n",
       "        \n",
       "        <script\n",
       "        src=\"https://cdnjs.cloudflare.com/ajax/libs/require.js/2.3.6/require.min.js\"\n",
       "        ></script>\n",
       "    \n",
       "        <script>\n",
       "        function midiPlayerDiv624876_play() {\n",
       "            const rq = require.config({\n",
       "                paths: {\n",
       "                    'music21': 'https://cuthbertLab.github.io/music21j/releases/music21.debug',\n",
       "                }\n",
       "            });\n",
       "            rq(['music21'], function(music21) {\n",
       "                mp = new music21.miditools.MidiPlayer();\n",
       "                mp.addPlayer(\"#midiPlayerDiv624876\");\n",
       "                mp.base64Load(\"data:audio/midi;base64,TVRoZAAAAAYAAQACJ2BNVHJrAAAAFAD/UQMHoSAA/1gEBAIYCM5g/y8ATVRyawAABRcA/wMAAOAAQM5gkEhazmCASAAAkEhauwiASAAAkEhak1iASAAAkEhazmCASAAAkEhazmCASAAAkEhagZ1AgEgAAJBIWoGdQIBIAACQSFrOYIBIAACQTVq7CIBNAACQTVqTWIBNAACQTVqBnUCATQAAkEhazmCASAAAkE9auwiATwAAkExak1iATAAAkE1agZ1AgE0AAJBIWs5ggEgAAJBNWrsIgE0AAJBSWpNYgFIAAJBSWs5ggFIAAJBRWrsIgFEAAJBPWpNYgE8AAJBNWs5ggE0AAJBMWrsIgEwAAJBNWpNYgE0AAJBPWoGdQIBPAACQSFrOYIBIAACQTVq7CIBNAACQTVqTWIBNAACQTVqBnUCATQAAkEhazmCASAAAkE9auwiATwAAkExak1iATAAAkE1agZ1AgE0AAJBIWs5ggEgAAJBNWrsIgE0AAJBRWpNYgFEAAJBUWs5ggFQAAJBRWrsIgFEAAJBNWpNYgE0AAJBKWs5ggEoAAJBPWrsIgE8AAJBRWpNYgFEAAJBNWoGdQIBNAACQUlrOYIBSAACQUVqnMIBRAACQT1qnMIBPAACQSlrOYIBKAACQSlrOYIBKAACQTFrOYIBMAACQTVq7CIBNAACQT1qTWIBPAACQT1qBnUCATwAAkFJazmCAUgAAkFFapzCAUQAAkE9apzCATwAAkEpazmCASgAAkEpazmCASgAAkEpazmCASgAAkExauwiATAAAkE5ak1iATgAAkE5agZ1AgE4AAJBRWs5ggFEAAJBTWqcwgFMAAJBRWqcwgFEAAJBPWs5ggE8AAJBKWs5ggEoAAJBRWqcwgFEAAJBQWqcwgFAAAJBPWqcwgE8AAJBOWqcwgE4AAJBOWs5ggE4AAJBMWs5ggEwAAJBRWs5ggFEAAJBTWqcwgFMAAJBVWqcwgFUAAJBWWs5ggFYAAJBOWs5ggE4AAJBOWs5ggE4AAJBMWrsIgEwAAJBKWpNYgEoAAJBTWs5ggFMAAJBRWs5ggFEAAJBRWvYQgFEAAJBSWqcwgFIAAJBUWvYQgFQAAJBRWqcwgFEAAJBUWqcwgFQAAJBTWqcwgFMAAJBSWqcwgFIAAJBPWqcwgE8AAJBRWoGdQIBRAACQUVr2EIBRAACQU1qnMIBTAACQVFr2EIBUAACQUlqnMIBSAACQUVriOIBRAACQUFqTWIBQAACQTlqTWIBOAACQUFqTWIBQAACQUVqBnUCAUQAAkEhazmCASAAAkE1auwiATQAAkE1ak1iATQAAkE1agZ1AgE0AAJBIWs5ggEgAAJBPWrsIgE8AAJBMWpNYgEwAAJBNWoGdQIBNAACQSFrOYIBIAACQTVq7CIBNAACQUlqTWIBSAACQUlrOYIBSAACQUVq7CIBRAACQT1qTWIBPAACQTVrOYIBNAACQTFq7CIBMAACQTVqTWIBNAACQT1qBnUCATwAAkEhazmCASAAAkE1auwiATQAAkE1ak1iATQAAkE1agZ1AgE0AAJBIWs5ggEgAAJBPWrsIgE8AAJBMWpNYgEwAAJBNWoGdQIBNAACQSFrOYIBIAACQTVq7CIBNAACQUVqTWIBRAACQVFrOYIBUAACQUVq7CIBRAACQTVqTWIBNAACQVlqBnUCAVgAAkFRapzCAVAAAkFJapzCAUgAAkFFauwiAUQAAkE9ak1iATwAAkE1agZ1AgE0AAJBSWvYQgFIAAJBRWqcwgFEAAJBUWoK7AIBUAM5g/y8A\");\n",
       "            });\n",
       "        }\n",
       "        if (typeof require === 'undefined') {\n",
       "            setTimeout(midiPlayerDiv624876_play, 2000);\n",
       "        } else {\n",
       "            midiPlayerDiv624876_play();\n",
       "        }\n",
       "        </script>"
      ],
      "text/plain": [
       "<IPython.core.display.HTML object>"
      ]
     },
     "metadata": {},
     "output_type": "display_data"
    }
   ],
   "source": [
    "s.show('midi')"
   ]
  },
  {
   "cell_type": "markdown",
   "id": "62a17be7",
   "metadata": {},
   "source": [
    "### Data Preparation"
   ]
  },
  {
   "cell_type": "code",
   "execution_count": 11,
   "id": "c161548c",
   "metadata": {},
   "outputs": [],
   "source": [
    "# every note in a 1d array\n",
    "notes_ = [element for note_ in notes_array for element in note_]"
   ]
  },
  {
   "cell_type": "code",
   "execution_count": 12,
   "id": "7a1b2327",
   "metadata": {},
   "outputs": [],
   "source": [
    "# frequency of each note\n",
    "freq = dict(Counter(notes_))"
   ]
  },
  {
   "cell_type": "code",
   "execution_count": 13,
   "id": "509395bc",
   "metadata": {},
   "outputs": [
    {
     "name": "stdout",
     "output_type": "stream",
     "text": [
      "# of frequent notes: 64\n"
     ]
    }
   ],
   "source": [
    "# list of frequent notes, adjustable by count\n",
    "frequent_notes = [note_ for note_, count in freq.items() if count>=frequentNoteMin]\n",
    "print(\"# of frequent notes:\", len(frequent_notes))"
   ]
  },
  {
   "cell_type": "code",
   "execution_count": 14,
   "id": "4d95edba",
   "metadata": {},
   "outputs": [],
   "source": [
    "# new_music = notes - nonfrequent notes\n",
    "new_music=[]\n",
    "\n",
    "for notes in notes_array:\n",
    "    temp=[]\n",
    "    for note_ in notes:\n",
    "        if note_ in frequent_notes:\n",
    "            temp.append(note_)            \n",
    "    new_music.append(temp)"
   ]
  },
  {
   "cell_type": "code",
   "execution_count": 15,
   "id": "e0c7a5d4",
   "metadata": {},
   "outputs": [
    {
     "name": "stdout",
     "output_type": "stream",
     "text": [
      "input shape:\t (1026, 32, 2)\n",
      "output shape:\t (1026, 2)\n"
     ]
    }
   ],
   "source": [
    "# prepare input and output sequences\n",
    "x = []\n",
    "y = []\n",
    "\n",
    "for note_ in new_music:\n",
    "    for i in range(0, len(note_) - no_of_timesteps, 1):\n",
    "        \n",
    "        #preparing input and output sequences\n",
    "        input_ = note_[i:i + no_of_timesteps]\n",
    "        output_ = note_[i + no_of_timesteps]\n",
    "        \n",
    "        x.append(input_)\n",
    "        y.append(output_)\n",
    "        \n",
    "\n",
    "print(\"input shape:\\t\", np.asarray(x).shape)\n",
    "print(\"output shape:\\t\", np.asarray(y).shape)"
   ]
  },
  {
   "cell_type": "code",
   "execution_count": 16,
   "id": "ae77a3c8",
   "metadata": {},
   "outputs": [],
   "source": [
    "# unique note --> integer\n",
    "unique_x=[]\n",
    "for i in range(len(x)):\n",
    "    for j in range(len(x[i])):\n",
    "        unique_x.append(x[i][j])\n",
    "unique_x = list(set(unique_x))\n",
    "x_note_to_int = dict((note_, number) for number, note_ in enumerate(unique_x))\n",
    "\n",
    "with open(unique_x_file, \"w\") as output:\n",
    "    for element in unique_x:\n",
    "        output.write(str(element)+'\\n')"
   ]
  },
  {
   "cell_type": "code",
   "execution_count": 17,
   "id": "e3a725e7",
   "metadata": {},
   "outputs": [
    {
     "data": {
      "text/plain": [
       "64"
      ]
     },
     "execution_count": 17,
     "metadata": {},
     "output_type": "execute_result"
    }
   ],
   "source": [
    "len(unique_x)"
   ]
  },
  {
   "cell_type": "code",
   "execution_count": 18,
   "id": "c1738616",
   "metadata": {},
   "outputs": [],
   "source": [
    "# x_seq <--> model input\n",
    "x_seq=[]\n",
    "for i in x:\n",
    "    temp=[]\n",
    "    for j in i:\n",
    "        #assigning unique integer to every note\n",
    "        temp.append(x_note_to_int[j])\n",
    "    x_seq.append(temp)\n",
    "    \n",
    "x_seq = np.array(x_seq)"
   ]
  },
  {
   "cell_type": "code",
   "execution_count": 19,
   "id": "c34b952b",
   "metadata": {},
   "outputs": [],
   "source": [
    "# same procedure as x_seq but simpler\n",
    "unique_y = list(set(y))\n",
    "y_note_to_int = dict((note_, number) for number, note_ in enumerate(unique_y)) \n",
    "y_seq = np.array([y_note_to_int[i] for i in y])"
   ]
  },
  {
   "cell_type": "code",
   "execution_count": 20,
   "id": "65fe7eac",
   "metadata": {},
   "outputs": [],
   "source": [
    "# train/test partitioning, test_size=0.2 --> 20% of data is test\n",
    "x_tr, x_val, y_tr, y_val = train_test_split(x_seq,y_seq,test_size=0.2,random_state=0)\n",
    "np.savetxt(xval_file, x_val)"
   ]
  },
  {
   "cell_type": "code",
   "execution_count": 21,
   "id": "dae66047",
   "metadata": {},
   "outputs": [
    {
     "name": "stdout",
     "output_type": "stream",
     "text": [
      "Shapes:\n",
      "x_tr: (820, 32)\n",
      "y_tr: (820,)\n",
      "x_val: (206, 32)\n",
      "y_val: (206,)\n"
     ]
    }
   ],
   "source": [
    "# metadata\n",
    "print(\"Shapes:\")\n",
    "print(\"x_tr:\", x_tr.shape)\n",
    "print(\"y_tr:\", y_tr.shape)\n",
    "print(\"x_val:\", x_val.shape)\n",
    "print(\"y_val:\", y_val.shape)"
   ]
  },
  {
   "cell_type": "markdown",
   "id": "92180e6e",
   "metadata": {},
   "source": [
    "### Neural Network"
   ]
  },
  {
   "cell_type": "code",
   "execution_count": 22,
   "id": "88c04ad0",
   "metadata": {},
   "outputs": [
    {
     "name": "stderr",
     "output_type": "stream",
     "text": [
      "/Users/andrewturangan/miniconda3/lib/python3.11/site-packages/keras/src/layers/core/embedding.py:90: UserWarning: Argument `input_length` is deprecated. Just remove it.\n",
      "  warnings.warn(\n"
     ]
    },
    {
     "data": {
      "text/html": [
       "<pre style=\"white-space:pre;overflow-x:auto;line-height:normal;font-family:Menlo,'DejaVu Sans Mono',consolas,'Courier New',monospace\"><span style=\"font-weight: bold\">Model: \"sequential\"</span>\n",
       "</pre>\n"
      ],
      "text/plain": [
       "\u001b[1mModel: \"sequential\"\u001b[0m\n"
      ]
     },
     "metadata": {},
     "output_type": "display_data"
    },
    {
     "data": {
      "text/html": [
       "<pre style=\"white-space:pre;overflow-x:auto;line-height:normal;font-family:Menlo,'DejaVu Sans Mono',consolas,'Courier New',monospace\">┏━━━━━━━━━━━━━━━━━━━━━━━━━━━━━━━━━┳━━━━━━━━━━━━━━━━━━━━━━━━┳━━━━━━━━━━━━━━━┓\n",
       "┃<span style=\"font-weight: bold\"> Layer (type)                    </span>┃<span style=\"font-weight: bold\"> Output Shape           </span>┃<span style=\"font-weight: bold\">       Param # </span>┃\n",
       "┡━━━━━━━━━━━━━━━━━━━━━━━━━━━━━━━━━╇━━━━━━━━━━━━━━━━━━━━━━━━╇━━━━━━━━━━━━━━━┩\n",
       "│ embedding (<span style=\"color: #0087ff; text-decoration-color: #0087ff\">Embedding</span>)           │ ?                      │   <span style=\"color: #00af00; text-decoration-color: #00af00\">0</span> (unbuilt) │\n",
       "├─────────────────────────────────┼────────────────────────┼───────────────┤\n",
       "│ lstm (<span style=\"color: #0087ff; text-decoration-color: #0087ff\">LSTM</span>)                     │ ?                      │   <span style=\"color: #00af00; text-decoration-color: #00af00\">0</span> (unbuilt) │\n",
       "├─────────────────────────────────┼────────────────────────┼───────────────┤\n",
       "│ lstm_1 (<span style=\"color: #0087ff; text-decoration-color: #0087ff\">LSTM</span>)                   │ ?                      │   <span style=\"color: #00af00; text-decoration-color: #00af00\">0</span> (unbuilt) │\n",
       "├─────────────────────────────────┼────────────────────────┼───────────────┤\n",
       "│ dense (<span style=\"color: #0087ff; text-decoration-color: #0087ff\">Dense</span>)                   │ ?                      │   <span style=\"color: #00af00; text-decoration-color: #00af00\">0</span> (unbuilt) │\n",
       "├─────────────────────────────────┼────────────────────────┼───────────────┤\n",
       "│ activation (<span style=\"color: #0087ff; text-decoration-color: #0087ff\">Activation</span>)         │ ?                      │             <span style=\"color: #00af00; text-decoration-color: #00af00\">0</span> │\n",
       "├─────────────────────────────────┼────────────────────────┼───────────────┤\n",
       "│ dense_1 (<span style=\"color: #0087ff; text-decoration-color: #0087ff\">Dense</span>)                 │ ?                      │   <span style=\"color: #00af00; text-decoration-color: #00af00\">0</span> (unbuilt) │\n",
       "├─────────────────────────────────┼────────────────────────┼───────────────┤\n",
       "│ activation_1 (<span style=\"color: #0087ff; text-decoration-color: #0087ff\">Activation</span>)       │ ?                      │             <span style=\"color: #00af00; text-decoration-color: #00af00\">0</span> │\n",
       "└─────────────────────────────────┴────────────────────────┴───────────────┘\n",
       "</pre>\n"
      ],
      "text/plain": [
       "┏━━━━━━━━━━━━━━━━━━━━━━━━━━━━━━━━━┳━━━━━━━━━━━━━━━━━━━━━━━━┳━━━━━━━━━━━━━━━┓\n",
       "┃\u001b[1m \u001b[0m\u001b[1mLayer (type)                   \u001b[0m\u001b[1m \u001b[0m┃\u001b[1m \u001b[0m\u001b[1mOutput Shape          \u001b[0m\u001b[1m \u001b[0m┃\u001b[1m \u001b[0m\u001b[1m      Param #\u001b[0m\u001b[1m \u001b[0m┃\n",
       "┡━━━━━━━━━━━━━━━━━━━━━━━━━━━━━━━━━╇━━━━━━━━━━━━━━━━━━━━━━━━╇━━━━━━━━━━━━━━━┩\n",
       "│ embedding (\u001b[38;5;33mEmbedding\u001b[0m)           │ ?                      │   \u001b[38;5;34m0\u001b[0m (unbuilt) │\n",
       "├─────────────────────────────────┼────────────────────────┼───────────────┤\n",
       "│ lstm (\u001b[38;5;33mLSTM\u001b[0m)                     │ ?                      │   \u001b[38;5;34m0\u001b[0m (unbuilt) │\n",
       "├─────────────────────────────────┼────────────────────────┼───────────────┤\n",
       "│ lstm_1 (\u001b[38;5;33mLSTM\u001b[0m)                   │ ?                      │   \u001b[38;5;34m0\u001b[0m (unbuilt) │\n",
       "├─────────────────────────────────┼────────────────────────┼───────────────┤\n",
       "│ dense (\u001b[38;5;33mDense\u001b[0m)                   │ ?                      │   \u001b[38;5;34m0\u001b[0m (unbuilt) │\n",
       "├─────────────────────────────────┼────────────────────────┼───────────────┤\n",
       "│ activation (\u001b[38;5;33mActivation\u001b[0m)         │ ?                      │             \u001b[38;5;34m0\u001b[0m │\n",
       "├─────────────────────────────────┼────────────────────────┼───────────────┤\n",
       "│ dense_1 (\u001b[38;5;33mDense\u001b[0m)                 │ ?                      │   \u001b[38;5;34m0\u001b[0m (unbuilt) │\n",
       "├─────────────────────────────────┼────────────────────────┼───────────────┤\n",
       "│ activation_1 (\u001b[38;5;33mActivation\u001b[0m)       │ ?                      │             \u001b[38;5;34m0\u001b[0m │\n",
       "└─────────────────────────────────┴────────────────────────┴───────────────┘\n"
      ]
     },
     "metadata": {},
     "output_type": "display_data"
    },
    {
     "data": {
      "text/html": [
       "<pre style=\"white-space:pre;overflow-x:auto;line-height:normal;font-family:Menlo,'DejaVu Sans Mono',consolas,'Courier New',monospace\"><span style=\"font-weight: bold\"> Total params: </span><span style=\"color: #00af00; text-decoration-color: #00af00\">0</span> (0.00 B)\n",
       "</pre>\n"
      ],
      "text/plain": [
       "\u001b[1m Total params: \u001b[0m\u001b[38;5;34m0\u001b[0m (0.00 B)\n"
      ]
     },
     "metadata": {},
     "output_type": "display_data"
    },
    {
     "data": {
      "text/html": [
       "<pre style=\"white-space:pre;overflow-x:auto;line-height:normal;font-family:Menlo,'DejaVu Sans Mono',consolas,'Courier New',monospace\"><span style=\"font-weight: bold\"> Trainable params: </span><span style=\"color: #00af00; text-decoration-color: #00af00\">0</span> (0.00 B)\n",
       "</pre>\n"
      ],
      "text/plain": [
       "\u001b[1m Trainable params: \u001b[0m\u001b[38;5;34m0\u001b[0m (0.00 B)\n"
      ]
     },
     "metadata": {},
     "output_type": "display_data"
    },
    {
     "data": {
      "text/html": [
       "<pre style=\"white-space:pre;overflow-x:auto;line-height:normal;font-family:Menlo,'DejaVu Sans Mono',consolas,'Courier New',monospace\"><span style=\"font-weight: bold\"> Non-trainable params: </span><span style=\"color: #00af00; text-decoration-color: #00af00\">0</span> (0.00 B)\n",
       "</pre>\n"
      ],
      "text/plain": [
       "\u001b[1m Non-trainable params: \u001b[0m\u001b[38;5;34m0\u001b[0m (0.00 B)\n"
      ]
     },
     "metadata": {},
     "output_type": "display_data"
    }
   ],
   "source": [
    "def lstm(input_shape, output_shape):\n",
    "    K.clear_session()\n",
    "    model = Sequential()\n",
    "    \n",
    "    #embedding layer\n",
    "    model.add(Embedding(input_shape, 100, input_length=32,trainable=True))\n",
    "    \n",
    "    model.add(LSTM(128,return_sequences=True))\n",
    "    model.add(LSTM(128))\n",
    "    model.add(Dense(256))\n",
    "    model.add(Activation('relu'))\n",
    "    model.add(Dense(output_shape))\n",
    "    model.add(Activation('softmax'))\n",
    "    model.compile(loss='sparse_categorical_crossentropy', optimizer='adam')\n",
    "    return model\n",
    "\n",
    "model = lstm(len(unique_x), len(unique_y))\n",
    "model.summary()"
   ]
  },
  {
   "cell_type": "code",
   "execution_count": 23,
   "id": "0c6d0be7",
   "metadata": {},
   "outputs": [],
   "source": [
    "logdir=\"logs/fit/\" + datetime.now().strftime(\"%Y%m%d-%H%M%S\")\n",
    "tensorboard_callback = tf.keras.callbacks.TensorBoard(log_dir=logdir)"
   ]
  },
  {
   "cell_type": "code",
   "execution_count": 24,
   "id": "f3dfc7d7",
   "metadata": {},
   "outputs": [
    {
     "name": "stdout",
     "output_type": "stream",
     "text": [
      "Epoch 1/100\n",
      "\u001b[1m8/9\u001b[0m \u001b[32m━━━━━━━━━━━━━━━━━\u001b[0m\u001b[37m━━━\u001b[0m \u001b[1m0s\u001b[0m 60ms/step - loss: 4.1567\n",
      "Epoch 1: saving model to FluteWagner.keras\n",
      "\u001b[1m9/9\u001b[0m \u001b[32m━━━━━━━━━━━━━━━━━━━━\u001b[0m\u001b[37m\u001b[0m \u001b[1m2s\u001b[0m 57ms/step - loss: 4.1560\n",
      "Epoch 2/100\n",
      "\u001b[1m8/9\u001b[0m \u001b[32m━━━━━━━━━━━━━━━━━\u001b[0m\u001b[37m━━━\u001b[0m \u001b[1m0s\u001b[0m 71ms/step - loss: 4.1070\n",
      "Epoch 2: saving model to FluteWagner.keras\n",
      "\u001b[1m9/9\u001b[0m \u001b[32m━━━━━━━━━━━━━━━━━━━━\u001b[0m\u001b[37m\u001b[0m \u001b[1m1s\u001b[0m 66ms/step - loss: 4.1057\n",
      "Epoch 3/100\n",
      "\u001b[1m8/9\u001b[0m \u001b[32m━━━━━━━━━━━━━━━━━\u001b[0m\u001b[37m━━━\u001b[0m \u001b[1m0s\u001b[0m 69ms/step - loss: 4.0413\n",
      "Epoch 3: saving model to FluteWagner.keras\n",
      "\u001b[1m9/9\u001b[0m \u001b[32m━━━━━━━━━━━━━━━━━━━━\u001b[0m\u001b[37m\u001b[0m \u001b[1m1s\u001b[0m 64ms/step - loss: 4.0360\n",
      "Epoch 4/100\n",
      "\u001b[1m8/9\u001b[0m \u001b[32m━━━━━━━━━━━━━━━━━\u001b[0m\u001b[37m━━━\u001b[0m \u001b[1m0s\u001b[0m 70ms/step - loss: 3.9109\n",
      "Epoch 4: saving model to FluteWagner.keras\n",
      "\u001b[1m9/9\u001b[0m \u001b[32m━━━━━━━━━━━━━━━━━━━━\u001b[0m\u001b[37m\u001b[0m \u001b[1m1s\u001b[0m 65ms/step - loss: 3.9108\n",
      "Epoch 5/100\n",
      "\u001b[1m8/9\u001b[0m \u001b[32m━━━━━━━━━━━━━━━━━\u001b[0m\u001b[37m━━━\u001b[0m \u001b[1m0s\u001b[0m 69ms/step - loss: 3.8314\n",
      "Epoch 5: saving model to FluteWagner.keras\n",
      "\u001b[1m9/9\u001b[0m \u001b[32m━━━━━━━━━━━━━━━━━━━━\u001b[0m\u001b[37m\u001b[0m \u001b[1m1s\u001b[0m 64ms/step - loss: 3.8282\n",
      "Epoch 6/100\n",
      "\u001b[1m8/9\u001b[0m \u001b[32m━━━━━━━━━━━━━━━━━\u001b[0m\u001b[37m━━━\u001b[0m \u001b[1m0s\u001b[0m 73ms/step - loss: 3.7687\n",
      "Epoch 6: saving model to FluteWagner.keras\n",
      "\u001b[1m9/9\u001b[0m \u001b[32m━━━━━━━━━━━━━━━━━━━━\u001b[0m\u001b[37m\u001b[0m \u001b[1m1s\u001b[0m 68ms/step - loss: 3.7705\n",
      "Epoch 7/100\n",
      "\u001b[1m8/9\u001b[0m \u001b[32m━━━━━━━━━━━━━━━━━\u001b[0m\u001b[37m━━━\u001b[0m \u001b[1m0s\u001b[0m 71ms/step - loss: 3.6945\n",
      "Epoch 7: saving model to FluteWagner.keras\n",
      "\u001b[1m9/9\u001b[0m \u001b[32m━━━━━━━━━━━━━━━━━━━━\u001b[0m\u001b[37m\u001b[0m \u001b[1m1s\u001b[0m 66ms/step - loss: 3.7012\n",
      "Epoch 8/100\n",
      "\u001b[1m8/9\u001b[0m \u001b[32m━━━━━━━━━━━━━━━━━\u001b[0m\u001b[37m━━━\u001b[0m \u001b[1m0s\u001b[0m 70ms/step - loss: 3.6925\n",
      "Epoch 8: saving model to FluteWagner.keras\n",
      "\u001b[1m9/9\u001b[0m \u001b[32m━━━━━━━━━━━━━━━━━━━━\u001b[0m\u001b[37m\u001b[0m \u001b[1m1s\u001b[0m 65ms/step - loss: 3.6943\n",
      "Epoch 9/100\n",
      "\u001b[1m8/9\u001b[0m \u001b[32m━━━━━━━━━━━━━━━━━\u001b[0m\u001b[37m━━━\u001b[0m \u001b[1m0s\u001b[0m 70ms/step - loss: 3.6762\n",
      "Epoch 9: saving model to FluteWagner.keras\n",
      "\u001b[1m9/9\u001b[0m \u001b[32m━━━━━━━━━━━━━━━━━━━━\u001b[0m\u001b[37m\u001b[0m \u001b[1m1s\u001b[0m 67ms/step - loss: 3.6730\n",
      "Epoch 10/100\n",
      "\u001b[1m8/9\u001b[0m \u001b[32m━━━━━━━━━━━━━━━━━\u001b[0m\u001b[37m━━━\u001b[0m \u001b[1m0s\u001b[0m 72ms/step - loss: 3.6098\n",
      "Epoch 10: saving model to FluteWagner.keras\n",
      "\u001b[1m9/9\u001b[0m \u001b[32m━━━━━━━━━━━━━━━━━━━━\u001b[0m\u001b[37m\u001b[0m \u001b[1m1s\u001b[0m 67ms/step - loss: 3.6050\n",
      "Epoch 11/100\n",
      "\u001b[1m8/9\u001b[0m \u001b[32m━━━━━━━━━━━━━━━━━\u001b[0m\u001b[37m━━━\u001b[0m \u001b[1m0s\u001b[0m 70ms/step - loss: 3.5564\n",
      "Epoch 11: saving model to FluteWagner.keras\n",
      "\u001b[1m9/9\u001b[0m \u001b[32m━━━━━━━━━━━━━━━━━━━━\u001b[0m\u001b[37m\u001b[0m \u001b[1m1s\u001b[0m 65ms/step - loss: 3.5592\n",
      "Epoch 12/100\n",
      "\u001b[1m8/9\u001b[0m \u001b[32m━━━━━━━━━━━━━━━━━\u001b[0m\u001b[37m━━━\u001b[0m \u001b[1m0s\u001b[0m 73ms/step - loss: 3.5492\n",
      "Epoch 12: saving model to FluteWagner.keras\n",
      "\u001b[1m9/9\u001b[0m \u001b[32m━━━━━━━━━━━━━━━━━━━━\u001b[0m\u001b[37m\u001b[0m \u001b[1m1s\u001b[0m 68ms/step - loss: 3.5498\n",
      "Epoch 13/100\n",
      "\u001b[1m8/9\u001b[0m \u001b[32m━━━━━━━━━━━━━━━━━\u001b[0m\u001b[37m━━━\u001b[0m \u001b[1m0s\u001b[0m 73ms/step - loss: 3.5568\n",
      "Epoch 13: saving model to FluteWagner.keras\n",
      "\u001b[1m9/9\u001b[0m \u001b[32m━━━━━━━━━━━━━━━━━━━━\u001b[0m\u001b[37m\u001b[0m \u001b[1m1s\u001b[0m 68ms/step - loss: 3.5543\n",
      "Epoch 14/100\n",
      "\u001b[1m8/9\u001b[0m \u001b[32m━━━━━━━━━━━━━━━━━\u001b[0m\u001b[37m━━━\u001b[0m \u001b[1m0s\u001b[0m 74ms/step - loss: 3.4910\n",
      "Epoch 14: saving model to FluteWagner.keras\n",
      "\u001b[1m9/9\u001b[0m \u001b[32m━━━━━━━━━━━━━━━━━━━━\u001b[0m\u001b[37m\u001b[0m \u001b[1m1s\u001b[0m 69ms/step - loss: 3.4934\n",
      "Epoch 15/100\n",
      "\u001b[1m8/9\u001b[0m \u001b[32m━━━━━━━━━━━━━━━━━\u001b[0m\u001b[37m━━━\u001b[0m \u001b[1m0s\u001b[0m 78ms/step - loss: 3.4775\n",
      "Epoch 15: saving model to FluteWagner.keras\n",
      "\u001b[1m9/9\u001b[0m \u001b[32m━━━━━━━━━━━━━━━━━━━━\u001b[0m\u001b[37m\u001b[0m \u001b[1m1s\u001b[0m 73ms/step - loss: 3.4778\n",
      "Epoch 16/100\n",
      "\u001b[1m8/9\u001b[0m \u001b[32m━━━━━━━━━━━━━━━━━\u001b[0m\u001b[37m━━━\u001b[0m \u001b[1m0s\u001b[0m 76ms/step - loss: 3.4493\n",
      "Epoch 16: saving model to FluteWagner.keras\n",
      "\u001b[1m9/9\u001b[0m \u001b[32m━━━━━━━━━━━━━━━━━━━━\u001b[0m\u001b[37m\u001b[0m \u001b[1m1s\u001b[0m 70ms/step - loss: 3.4509\n",
      "Epoch 17/100\n",
      "\u001b[1m8/9\u001b[0m \u001b[32m━━━━━━━━━━━━━━━━━\u001b[0m\u001b[37m━━━\u001b[0m \u001b[1m0s\u001b[0m 75ms/step - loss: 3.4580\n",
      "Epoch 17: saving model to FluteWagner.keras\n",
      "\u001b[1m9/9\u001b[0m \u001b[32m━━━━━━━━━━━━━━━━━━━━\u001b[0m\u001b[37m\u001b[0m \u001b[1m1s\u001b[0m 70ms/step - loss: 3.4577\n",
      "Epoch 18/100\n",
      "\u001b[1m8/9\u001b[0m \u001b[32m━━━━━━━━━━━━━━━━━\u001b[0m\u001b[37m━━━\u001b[0m \u001b[1m0s\u001b[0m 78ms/step - loss: 3.4449\n",
      "Epoch 18: saving model to FluteWagner.keras\n",
      "\u001b[1m9/9\u001b[0m \u001b[32m━━━━━━━━━━━━━━━━━━━━\u001b[0m\u001b[37m\u001b[0m \u001b[1m1s\u001b[0m 73ms/step - loss: 3.4475\n",
      "Epoch 19/100\n",
      "\u001b[1m8/9\u001b[0m \u001b[32m━━━━━━━━━━━━━━━━━\u001b[0m\u001b[37m━━━\u001b[0m \u001b[1m0s\u001b[0m 75ms/step - loss: 3.4241\n",
      "Epoch 19: saving model to FluteWagner.keras\n",
      "\u001b[1m9/9\u001b[0m \u001b[32m━━━━━━━━━━━━━━━━━━━━\u001b[0m\u001b[37m\u001b[0m \u001b[1m1s\u001b[0m 70ms/step - loss: 3.4218\n",
      "Epoch 20/100\n",
      "\u001b[1m8/9\u001b[0m \u001b[32m━━━━━━━━━━━━━━━━━\u001b[0m\u001b[37m━━━\u001b[0m \u001b[1m0s\u001b[0m 78ms/step - loss: 3.4321\n",
      "Epoch 20: saving model to FluteWagner.keras\n",
      "\u001b[1m9/9\u001b[0m \u001b[32m━━━━━━━━━━━━━━━━━━━━\u001b[0m\u001b[37m\u001b[0m \u001b[1m1s\u001b[0m 77ms/step - loss: 3.4337\n",
      "Epoch 21/100\n",
      "\u001b[1m8/9\u001b[0m \u001b[32m━━━━━━━━━━━━━━━━━\u001b[0m\u001b[37m━━━\u001b[0m \u001b[1m0s\u001b[0m 78ms/step - loss: 3.3741\n",
      "Epoch 21: saving model to FluteWagner.keras\n",
      "\u001b[1m9/9\u001b[0m \u001b[32m━━━━━━━━━━━━━━━━━━━━\u001b[0m\u001b[37m\u001b[0m \u001b[1m1s\u001b[0m 72ms/step - loss: 3.3785\n",
      "Epoch 22/100\n",
      "\u001b[1m8/9\u001b[0m \u001b[32m━━━━━━━━━━━━━━━━━\u001b[0m\u001b[37m━━━\u001b[0m \u001b[1m0s\u001b[0m 75ms/step - loss: 3.3005\n",
      "Epoch 22: saving model to FluteWagner.keras\n",
      "\u001b[1m9/9\u001b[0m \u001b[32m━━━━━━━━━━━━━━━━━━━━\u001b[0m\u001b[37m\u001b[0m \u001b[1m1s\u001b[0m 70ms/step - loss: 3.3085\n",
      "Epoch 23/100\n",
      "\u001b[1m8/9\u001b[0m \u001b[32m━━━━━━━━━━━━━━━━━\u001b[0m\u001b[37m━━━\u001b[0m \u001b[1m0s\u001b[0m 78ms/step - loss: 3.3032\n",
      "Epoch 23: saving model to FluteWagner.keras\n",
      "\u001b[1m9/9\u001b[0m \u001b[32m━━━━━━━━━━━━━━━━━━━━\u001b[0m\u001b[37m\u001b[0m \u001b[1m1s\u001b[0m 73ms/step - loss: 3.3062\n",
      "Epoch 24/100\n",
      "\u001b[1m8/9\u001b[0m \u001b[32m━━━━━━━━━━━━━━━━━\u001b[0m\u001b[37m━━━\u001b[0m \u001b[1m0s\u001b[0m 76ms/step - loss: 3.3575\n",
      "Epoch 24: saving model to FluteWagner.keras\n",
      "\u001b[1m9/9\u001b[0m \u001b[32m━━━━━━━━━━━━━━━━━━━━\u001b[0m\u001b[37m\u001b[0m \u001b[1m1s\u001b[0m 71ms/step - loss: 3.3667\n",
      "Epoch 25/100\n",
      "\u001b[1m8/9\u001b[0m \u001b[32m━━━━━━━━━━━━━━━━━\u001b[0m\u001b[37m━━━\u001b[0m \u001b[1m0s\u001b[0m 78ms/step - loss: 3.3942\n",
      "Epoch 25: saving model to FluteWagner.keras\n",
      "\u001b[1m9/9\u001b[0m \u001b[32m━━━━━━━━━━━━━━━━━━━━\u001b[0m\u001b[37m\u001b[0m \u001b[1m1s\u001b[0m 73ms/step - loss: 3.3865\n",
      "Epoch 26/100\n",
      "\u001b[1m8/9\u001b[0m \u001b[32m━━━━━━━━━━━━━━━━━\u001b[0m\u001b[37m━━━\u001b[0m \u001b[1m0s\u001b[0m 77ms/step - loss: 3.3358\n",
      "Epoch 26: saving model to FluteWagner.keras\n",
      "\u001b[1m9/9\u001b[0m \u001b[32m━━━━━━━━━━━━━━━━━━━━\u001b[0m\u001b[37m\u001b[0m \u001b[1m1s\u001b[0m 71ms/step - loss: 3.3423\n",
      "Epoch 27/100\n",
      "\u001b[1m8/9\u001b[0m \u001b[32m━━━━━━━━━━━━━━━━━\u001b[0m\u001b[37m━━━\u001b[0m \u001b[1m0s\u001b[0m 76ms/step - loss: 3.3545\n",
      "Epoch 27: saving model to FluteWagner.keras\n",
      "\u001b[1m9/9\u001b[0m \u001b[32m━━━━━━━━━━━━━━━━━━━━\u001b[0m\u001b[37m\u001b[0m \u001b[1m1s\u001b[0m 73ms/step - loss: 3.3443\n",
      "Epoch 28/100\n",
      "\u001b[1m8/9\u001b[0m \u001b[32m━━━━━━━━━━━━━━━━━\u001b[0m\u001b[37m━━━\u001b[0m \u001b[1m0s\u001b[0m 77ms/step - loss: 3.2402\n",
      "Epoch 28: saving model to FluteWagner.keras\n",
      "\u001b[1m9/9\u001b[0m \u001b[32m━━━━━━━━━━━━━━━━━━━━\u001b[0m\u001b[37m\u001b[0m \u001b[1m1s\u001b[0m 71ms/step - loss: 3.2452\n",
      "Epoch 29/100\n",
      "\u001b[1m8/9\u001b[0m \u001b[32m━━━━━━━━━━━━━━━━━\u001b[0m\u001b[37m━━━\u001b[0m \u001b[1m0s\u001b[0m 76ms/step - loss: 3.2631\n",
      "Epoch 29: saving model to FluteWagner.keras\n",
      "\u001b[1m9/9\u001b[0m \u001b[32m━━━━━━━━━━━━━━━━━━━━\u001b[0m\u001b[37m\u001b[0m \u001b[1m1s\u001b[0m 71ms/step - loss: 3.2608\n",
      "Epoch 30/100\n",
      "\u001b[1m8/9\u001b[0m \u001b[32m━━━━━━━━━━━━━━━━━\u001b[0m\u001b[37m━━━\u001b[0m \u001b[1m0s\u001b[0m 77ms/step - loss: 3.2160\n",
      "Epoch 30: saving model to FluteWagner.keras\n",
      "\u001b[1m9/9\u001b[0m \u001b[32m━━━━━━━━━━━━━━━━━━━━\u001b[0m\u001b[37m\u001b[0m \u001b[1m1s\u001b[0m 72ms/step - loss: 3.2216\n",
      "Epoch 31/100\n",
      "\u001b[1m8/9\u001b[0m \u001b[32m━━━━━━━━━━━━━━━━━\u001b[0m\u001b[37m━━━\u001b[0m \u001b[1m0s\u001b[0m 75ms/step - loss: 3.2368\n",
      "Epoch 31: saving model to FluteWagner.keras\n",
      "\u001b[1m9/9\u001b[0m \u001b[32m━━━━━━━━━━━━━━━━━━━━\u001b[0m\u001b[37m\u001b[0m \u001b[1m1s\u001b[0m 70ms/step - loss: 3.2453\n",
      "Epoch 32/100\n",
      "\u001b[1m8/9\u001b[0m \u001b[32m━━━━━━━━━━━━━━━━━\u001b[0m\u001b[37m━━━\u001b[0m \u001b[1m0s\u001b[0m 75ms/step - loss: 3.2338\n",
      "Epoch 32: saving model to FluteWagner.keras\n",
      "\u001b[1m9/9\u001b[0m \u001b[32m━━━━━━━━━━━━━━━━━━━━\u001b[0m\u001b[37m\u001b[0m \u001b[1m1s\u001b[0m 70ms/step - loss: 3.2370\n",
      "Epoch 33/100\n",
      "\u001b[1m8/9\u001b[0m \u001b[32m━━━━━━━━━━━━━━━━━\u001b[0m\u001b[37m━━━\u001b[0m \u001b[1m0s\u001b[0m 76ms/step - loss: 3.2673\n",
      "Epoch 33: saving model to FluteWagner.keras\n",
      "\u001b[1m9/9\u001b[0m \u001b[32m━━━━━━━━━━━━━━━━━━━━\u001b[0m\u001b[37m\u001b[0m \u001b[1m1s\u001b[0m 71ms/step - loss: 3.2780\n",
      "Epoch 34/100\n",
      "\u001b[1m8/9\u001b[0m \u001b[32m━━━━━━━━━━━━━━━━━\u001b[0m\u001b[37m━━━\u001b[0m \u001b[1m0s\u001b[0m 76ms/step - loss: 3.2415\n",
      "Epoch 34: saving model to FluteWagner.keras\n",
      "\u001b[1m9/9\u001b[0m \u001b[32m━━━━━━━━━━━━━━━━━━━━\u001b[0m\u001b[37m\u001b[0m \u001b[1m1s\u001b[0m 72ms/step - loss: 3.2431\n",
      "Epoch 35/100\n",
      "\u001b[1m8/9\u001b[0m \u001b[32m━━━━━━━━━━━━━━━━━\u001b[0m\u001b[37m━━━\u001b[0m \u001b[1m0s\u001b[0m 76ms/step - loss: 3.1674\n",
      "Epoch 35: saving model to FluteWagner.keras\n",
      "\u001b[1m9/9\u001b[0m \u001b[32m━━━━━━━━━━━━━━━━━━━━\u001b[0m\u001b[37m\u001b[0m \u001b[1m1s\u001b[0m 70ms/step - loss: 3.1688\n",
      "Epoch 36/100\n",
      "\u001b[1m8/9\u001b[0m \u001b[32m━━━━━━━━━━━━━━━━━\u001b[0m\u001b[37m━━━\u001b[0m \u001b[1m0s\u001b[0m 79ms/step - loss: 3.1288\n",
      "Epoch 36: saving model to FluteWagner.keras\n",
      "\u001b[1m9/9\u001b[0m \u001b[32m━━━━━━━━━━━━━━━━━━━━\u001b[0m\u001b[37m\u001b[0m \u001b[1m1s\u001b[0m 74ms/step - loss: 3.1324\n",
      "Epoch 37/100\n",
      "\u001b[1m8/9\u001b[0m \u001b[32m━━━━━━━━━━━━━━━━━\u001b[0m\u001b[37m━━━\u001b[0m \u001b[1m0s\u001b[0m 76ms/step - loss: 3.1370\n",
      "Epoch 37: saving model to FluteWagner.keras\n",
      "\u001b[1m9/9\u001b[0m \u001b[32m━━━━━━━━━━━━━━━━━━━━\u001b[0m\u001b[37m\u001b[0m \u001b[1m1s\u001b[0m 71ms/step - loss: 3.1381\n",
      "Epoch 38/100\n",
      "\u001b[1m8/9\u001b[0m \u001b[32m━━━━━━━━━━━━━━━━━\u001b[0m\u001b[37m━━━\u001b[0m \u001b[1m0s\u001b[0m 78ms/step - loss: 3.0634\n",
      "Epoch 38: saving model to FluteWagner.keras\n",
      "\u001b[1m9/9\u001b[0m \u001b[32m━━━━━━━━━━━━━━━━━━━━\u001b[0m\u001b[37m\u001b[0m \u001b[1m1s\u001b[0m 73ms/step - loss: 3.0687\n",
      "Epoch 39/100\n",
      "\u001b[1m8/9\u001b[0m \u001b[32m━━━━━━━━━━━━━━━━━\u001b[0m\u001b[37m━━━\u001b[0m \u001b[1m0s\u001b[0m 76ms/step - loss: 3.1121\n",
      "Epoch 39: saving model to FluteWagner.keras\n",
      "\u001b[1m9/9\u001b[0m \u001b[32m━━━━━━━━━━━━━━━━━━━━\u001b[0m\u001b[37m\u001b[0m \u001b[1m1s\u001b[0m 71ms/step - loss: 3.1059\n",
      "Epoch 40/100\n",
      "\u001b[1m8/9\u001b[0m \u001b[32m━━━━━━━━━━━━━━━━━\u001b[0m\u001b[37m━━━\u001b[0m \u001b[1m0s\u001b[0m 76ms/step - loss: 3.0975\n",
      "Epoch 40: saving model to FluteWagner.keras\n",
      "\u001b[1m9/9\u001b[0m \u001b[32m━━━━━━━━━━━━━━━━━━━━\u001b[0m\u001b[37m\u001b[0m \u001b[1m1s\u001b[0m 71ms/step - loss: 3.0991\n",
      "Epoch 41/100\n",
      "\u001b[1m8/9\u001b[0m \u001b[32m━━━━━━━━━━━━━━━━━\u001b[0m\u001b[37m━━━\u001b[0m \u001b[1m0s\u001b[0m 79ms/step - loss: 2.9881\n",
      "Epoch 41: saving model to FluteWagner.keras\n",
      "\u001b[1m9/9\u001b[0m \u001b[32m━━━━━━━━━━━━━━━━━━━━\u001b[0m\u001b[37m\u001b[0m \u001b[1m1s\u001b[0m 73ms/step - loss: 2.9932\n",
      "Epoch 42/100\n",
      "\u001b[1m8/9\u001b[0m \u001b[32m━━━━━━━━━━━━━━━━━\u001b[0m\u001b[37m━━━\u001b[0m \u001b[1m0s\u001b[0m 76ms/step - loss: 2.9952\n",
      "Epoch 42: saving model to FluteWagner.keras\n",
      "\u001b[1m9/9\u001b[0m \u001b[32m━━━━━━━━━━━━━━━━━━━━\u001b[0m\u001b[37m\u001b[0m \u001b[1m1s\u001b[0m 71ms/step - loss: 2.9955\n",
      "Epoch 43/100\n",
      "\u001b[1m8/9\u001b[0m \u001b[32m━━━━━━━━━━━━━━━━━\u001b[0m\u001b[37m━━━\u001b[0m \u001b[1m0s\u001b[0m 76ms/step - loss: 2.9929\n",
      "Epoch 43: saving model to FluteWagner.keras\n",
      "\u001b[1m9/9\u001b[0m \u001b[32m━━━━━━━━━━━━━━━━━━━━\u001b[0m\u001b[37m\u001b[0m \u001b[1m1s\u001b[0m 71ms/step - loss: 2.9881\n",
      "Epoch 44/100\n",
      "\u001b[1m8/9\u001b[0m \u001b[32m━━━━━━━━━━━━━━━━━\u001b[0m\u001b[37m━━━\u001b[0m \u001b[1m0s\u001b[0m 79ms/step - loss: 3.0078\n",
      "Epoch 44: saving model to FluteWagner.keras\n",
      "\u001b[1m9/9\u001b[0m \u001b[32m━━━━━━━━━━━━━━━━━━━━\u001b[0m\u001b[37m\u001b[0m \u001b[1m1s\u001b[0m 73ms/step - loss: 3.0094\n",
      "Epoch 45/100\n",
      "\u001b[1m8/9\u001b[0m \u001b[32m━━━━━━━━━━━━━━━━━\u001b[0m\u001b[37m━━━\u001b[0m \u001b[1m0s\u001b[0m 76ms/step - loss: 2.9361\n",
      "Epoch 45: saving model to FluteWagner.keras\n",
      "\u001b[1m9/9\u001b[0m \u001b[32m━━━━━━━━━━━━━━━━━━━━\u001b[0m\u001b[37m\u001b[0m \u001b[1m1s\u001b[0m 71ms/step - loss: 2.9393\n",
      "Epoch 46/100\n",
      "\u001b[1m8/9\u001b[0m \u001b[32m━━━━━━━━━━━━━━━━━\u001b[0m\u001b[37m━━━\u001b[0m \u001b[1m0s\u001b[0m 76ms/step - loss: 2.9666\n",
      "Epoch 46: saving model to FluteWagner.keras\n",
      "\u001b[1m9/9\u001b[0m \u001b[32m━━━━━━━━━━━━━━━━━━━━\u001b[0m\u001b[37m\u001b[0m \u001b[1m1s\u001b[0m 70ms/step - loss: 2.9763\n",
      "Epoch 47/100\n",
      "\u001b[1m8/9\u001b[0m \u001b[32m━━━━━━━━━━━━━━━━━\u001b[0m\u001b[37m━━━\u001b[0m \u001b[1m0s\u001b[0m 78ms/step - loss: 2.9462\n",
      "Epoch 47: saving model to FluteWagner.keras\n",
      "\u001b[1m9/9\u001b[0m \u001b[32m━━━━━━━━━━━━━━━━━━━━\u001b[0m\u001b[37m\u001b[0m \u001b[1m1s\u001b[0m 72ms/step - loss: 2.9543\n",
      "Epoch 48/100\n",
      "\u001b[1m8/9\u001b[0m \u001b[32m━━━━━━━━━━━━━━━━━\u001b[0m\u001b[37m━━━\u001b[0m \u001b[1m0s\u001b[0m 76ms/step - loss: 2.8983\n",
      "Epoch 48: saving model to FluteWagner.keras\n",
      "\u001b[1m9/9\u001b[0m \u001b[32m━━━━━━━━━━━━━━━━━━━━\u001b[0m\u001b[37m\u001b[0m \u001b[1m1s\u001b[0m 71ms/step - loss: 2.9045\n",
      "Epoch 49/100\n",
      "\u001b[1m8/9\u001b[0m \u001b[32m━━━━━━━━━━━━━━━━━\u001b[0m\u001b[37m━━━\u001b[0m \u001b[1m0s\u001b[0m 76ms/step - loss: 2.8524\n",
      "Epoch 49: saving model to FluteWagner.keras\n",
      "\u001b[1m9/9\u001b[0m \u001b[32m━━━━━━━━━━━━━━━━━━━━\u001b[0m\u001b[37m\u001b[0m \u001b[1m1s\u001b[0m 71ms/step - loss: 2.8542\n",
      "Epoch 50/100\n",
      "\u001b[1m8/9\u001b[0m \u001b[32m━━━━━━━━━━━━━━━━━\u001b[0m\u001b[37m━━━\u001b[0m \u001b[1m0s\u001b[0m 79ms/step - loss: 2.9245\n",
      "Epoch 50: saving model to FluteWagner.keras\n",
      "\u001b[1m9/9\u001b[0m \u001b[32m━━━━━━━━━━━━━━━━━━━━\u001b[0m\u001b[37m\u001b[0m \u001b[1m1s\u001b[0m 73ms/step - loss: 2.9380\n",
      "Epoch 51/100\n",
      "\u001b[1m8/9\u001b[0m \u001b[32m━━━━━━━━━━━━━━━━━\u001b[0m\u001b[37m━━━\u001b[0m \u001b[1m0s\u001b[0m 78ms/step - loss: 2.9212\n",
      "Epoch 51: saving model to FluteWagner.keras\n",
      "\u001b[1m9/9\u001b[0m \u001b[32m━━━━━━━━━━━━━━━━━━━━\u001b[0m\u001b[37m\u001b[0m \u001b[1m1s\u001b[0m 73ms/step - loss: 2.9221\n",
      "Epoch 52/100\n",
      "\u001b[1m8/9\u001b[0m \u001b[32m━━━━━━━━━━━━━━━━━\u001b[0m\u001b[37m━━━\u001b[0m \u001b[1m0s\u001b[0m 76ms/step - loss: 2.9715\n",
      "Epoch 52: saving model to FluteWagner.keras\n",
      "\u001b[1m9/9\u001b[0m \u001b[32m━━━━━━━━━━━━━━━━━━━━\u001b[0m\u001b[37m\u001b[0m \u001b[1m1s\u001b[0m 71ms/step - loss: 2.9781\n",
      "Epoch 53/100\n",
      "\u001b[1m8/9\u001b[0m \u001b[32m━━━━━━━━━━━━━━━━━\u001b[0m\u001b[37m━━━\u001b[0m \u001b[1m0s\u001b[0m 76ms/step - loss: 2.8734\n",
      "Epoch 53: saving model to FluteWagner.keras\n",
      "\u001b[1m9/9\u001b[0m \u001b[32m━━━━━━━━━━━━━━━━━━━━\u001b[0m\u001b[37m\u001b[0m \u001b[1m1s\u001b[0m 71ms/step - loss: 2.8734\n",
      "Epoch 54/100\n",
      "\u001b[1m8/9\u001b[0m \u001b[32m━━━━━━━━━━━━━━━━━\u001b[0m\u001b[37m━━━\u001b[0m \u001b[1m0s\u001b[0m 78ms/step - loss: 2.8679\n",
      "Epoch 54: saving model to FluteWagner.keras\n",
      "\u001b[1m9/9\u001b[0m \u001b[32m━━━━━━━━━━━━━━━━━━━━\u001b[0m\u001b[37m\u001b[0m \u001b[1m1s\u001b[0m 73ms/step - loss: 2.8726\n",
      "Epoch 55/100\n",
      "\u001b[1m8/9\u001b[0m \u001b[32m━━━━━━━━━━━━━━━━━\u001b[0m\u001b[37m━━━\u001b[0m \u001b[1m0s\u001b[0m 78ms/step - loss: 2.8773\n",
      "Epoch 55: saving model to FluteWagner.keras\n",
      "\u001b[1m9/9\u001b[0m \u001b[32m━━━━━━━━━━━━━━━━━━━━\u001b[0m\u001b[37m\u001b[0m \u001b[1m1s\u001b[0m 73ms/step - loss: 2.8695\n",
      "Epoch 56/100\n",
      "\u001b[1m8/9\u001b[0m \u001b[32m━━━━━━━━━━━━━━━━━\u001b[0m\u001b[37m━━━\u001b[0m \u001b[1m0s\u001b[0m 78ms/step - loss: 2.7608\n",
      "Epoch 56: saving model to FluteWagner.keras\n",
      "\u001b[1m9/9\u001b[0m \u001b[32m━━━━━━━━━━━━━━━━━━━━\u001b[0m\u001b[37m\u001b[0m \u001b[1m1s\u001b[0m 73ms/step - loss: 2.7689\n",
      "Epoch 57/100\n",
      "\u001b[1m8/9\u001b[0m \u001b[32m━━━━━━━━━━━━━━━━━\u001b[0m\u001b[37m━━━\u001b[0m \u001b[1m0s\u001b[0m 75ms/step - loss: 2.7493\n",
      "Epoch 57: saving model to FluteWagner.keras\n",
      "\u001b[1m9/9\u001b[0m \u001b[32m━━━━━━━━━━━━━━━━━━━━\u001b[0m\u001b[37m\u001b[0m \u001b[1m1s\u001b[0m 72ms/step - loss: 2.7518\n",
      "Epoch 58/100\n",
      "\u001b[1m8/9\u001b[0m \u001b[32m━━━━━━━━━━━━━━━━━\u001b[0m\u001b[37m━━━\u001b[0m \u001b[1m0s\u001b[0m 76ms/step - loss: 2.6603\n",
      "Epoch 58: saving model to FluteWagner.keras\n",
      "\u001b[1m9/9\u001b[0m \u001b[32m━━━━━━━━━━━━━━━━━━━━\u001b[0m\u001b[37m\u001b[0m \u001b[1m1s\u001b[0m 71ms/step - loss: 2.6688\n",
      "Epoch 59/100\n",
      "\u001b[1m8/9\u001b[0m \u001b[32m━━━━━━━━━━━━━━━━━\u001b[0m\u001b[37m━━━\u001b[0m \u001b[1m0s\u001b[0m 77ms/step - loss: 2.7049\n",
      "Epoch 59: saving model to FluteWagner.keras\n",
      "\u001b[1m9/9\u001b[0m \u001b[32m━━━━━━━━━━━━━━━━━━━━\u001b[0m\u001b[37m\u001b[0m \u001b[1m1s\u001b[0m 71ms/step - loss: 2.7179\n",
      "Epoch 60/100\n",
      "\u001b[1m8/9\u001b[0m \u001b[32m━━━━━━━━━━━━━━━━━\u001b[0m\u001b[37m━━━\u001b[0m \u001b[1m0s\u001b[0m 79ms/step - loss: 2.7486\n",
      "Epoch 60: saving model to FluteWagner.keras\n",
      "\u001b[1m9/9\u001b[0m \u001b[32m━━━━━━━━━━━━━━━━━━━━\u001b[0m\u001b[37m\u001b[0m \u001b[1m1s\u001b[0m 73ms/step - loss: 2.7503\n",
      "Epoch 61/100\n",
      "\u001b[1m8/9\u001b[0m \u001b[32m━━━━━━━━━━━━━━━━━\u001b[0m\u001b[37m━━━\u001b[0m \u001b[1m0s\u001b[0m 79ms/step - loss: 2.6495\n",
      "Epoch 61: saving model to FluteWagner.keras\n",
      "\u001b[1m9/9\u001b[0m \u001b[32m━━━━━━━━━━━━━━━━━━━━\u001b[0m\u001b[37m\u001b[0m \u001b[1m1s\u001b[0m 73ms/step - loss: 2.6577\n",
      "Epoch 62/100\n",
      "\u001b[1m8/9\u001b[0m \u001b[32m━━━━━━━━━━━━━━━━━\u001b[0m\u001b[37m━━━\u001b[0m \u001b[1m0s\u001b[0m 78ms/step - loss: 2.6259\n",
      "Epoch 62: saving model to FluteWagner.keras\n",
      "\u001b[1m9/9\u001b[0m \u001b[32m━━━━━━━━━━━━━━━━━━━━\u001b[0m\u001b[37m\u001b[0m \u001b[1m1s\u001b[0m 73ms/step - loss: 2.6309\n",
      "Epoch 63/100\n",
      "\u001b[1m8/9\u001b[0m \u001b[32m━━━━━━━━━━━━━━━━━\u001b[0m\u001b[37m━━━\u001b[0m \u001b[1m0s\u001b[0m 79ms/step - loss: 2.6552\n",
      "Epoch 63: saving model to FluteWagner.keras\n",
      "\u001b[1m9/9\u001b[0m \u001b[32m━━━━━━━━━━━━━━━━━━━━\u001b[0m\u001b[37m\u001b[0m \u001b[1m1s\u001b[0m 74ms/step - loss: 2.6518\n",
      "Epoch 64/100\n",
      "\u001b[1m8/9\u001b[0m \u001b[32m━━━━━━━━━━━━━━━━━\u001b[0m\u001b[37m━━━\u001b[0m \u001b[1m0s\u001b[0m 78ms/step - loss: 2.6391\n",
      "Epoch 64: saving model to FluteWagner.keras\n",
      "\u001b[1m9/9\u001b[0m \u001b[32m━━━━━━━━━━━━━━━━━━━━\u001b[0m\u001b[37m\u001b[0m \u001b[1m1s\u001b[0m 73ms/step - loss: 2.6446\n",
      "Epoch 65/100\n",
      "\u001b[1m8/9\u001b[0m \u001b[32m━━━━━━━━━━━━━━━━━\u001b[0m\u001b[37m━━━\u001b[0m \u001b[1m0s\u001b[0m 79ms/step - loss: 2.6631\n",
      "Epoch 65: saving model to FluteWagner.keras\n",
      "\u001b[1m9/9\u001b[0m \u001b[32m━━━━━━━━━━━━━━━━━━━━\u001b[0m\u001b[37m\u001b[0m \u001b[1m1s\u001b[0m 73ms/step - loss: 2.6581\n",
      "Epoch 66/100\n",
      "\u001b[1m8/9\u001b[0m \u001b[32m━━━━━━━━━━━━━━━━━\u001b[0m\u001b[37m━━━\u001b[0m \u001b[1m0s\u001b[0m 77ms/step - loss: 2.5905\n",
      "Epoch 66: saving model to FluteWagner.keras\n",
      "\u001b[1m9/9\u001b[0m \u001b[32m━━━━━━━━━━━━━━━━━━━━\u001b[0m\u001b[37m\u001b[0m \u001b[1m1s\u001b[0m 73ms/step - loss: 2.5895\n",
      "Epoch 67/100\n",
      "\u001b[1m8/9\u001b[0m \u001b[32m━━━━━━━━━━━━━━━━━\u001b[0m\u001b[37m━━━\u001b[0m \u001b[1m0s\u001b[0m 76ms/step - loss: 2.5678\n",
      "Epoch 67: saving model to FluteWagner.keras\n",
      "\u001b[1m9/9\u001b[0m \u001b[32m━━━━━━━━━━━━━━━━━━━━\u001b[0m\u001b[37m\u001b[0m \u001b[1m1s\u001b[0m 73ms/step - loss: 2.5662\n",
      "Epoch 68/100\n",
      "\u001b[1m8/9\u001b[0m \u001b[32m━━━━━━━━━━━━━━━━━\u001b[0m\u001b[37m━━━\u001b[0m \u001b[1m0s\u001b[0m 76ms/step - loss: 2.5033\n",
      "Epoch 68: saving model to FluteWagner.keras\n",
      "\u001b[1m9/9\u001b[0m \u001b[32m━━━━━━━━━━━━━━━━━━━━\u001b[0m\u001b[37m\u001b[0m \u001b[1m1s\u001b[0m 72ms/step - loss: 2.5116\n",
      "Epoch 69/100\n",
      "\u001b[1m8/9\u001b[0m \u001b[32m━━━━━━━━━━━━━━━━━\u001b[0m\u001b[37m━━━\u001b[0m \u001b[1m0s\u001b[0m 76ms/step - loss: 2.5438\n",
      "Epoch 69: saving model to FluteWagner.keras\n",
      "\u001b[1m9/9\u001b[0m \u001b[32m━━━━━━━━━━━━━━━━━━━━\u001b[0m\u001b[37m\u001b[0m \u001b[1m1s\u001b[0m 72ms/step - loss: 2.5585\n",
      "Epoch 70/100\n",
      "\u001b[1m8/9\u001b[0m \u001b[32m━━━━━━━━━━━━━━━━━\u001b[0m\u001b[37m━━━\u001b[0m \u001b[1m0s\u001b[0m 77ms/step - loss: 2.5020\n",
      "Epoch 70: saving model to FluteWagner.keras\n",
      "\u001b[1m9/9\u001b[0m \u001b[32m━━━━━━━━━━━━━━━━━━━━\u001b[0m\u001b[37m\u001b[0m \u001b[1m1s\u001b[0m 71ms/step - loss: 2.5150\n",
      "Epoch 71/100\n",
      "\u001b[1m8/9\u001b[0m \u001b[32m━━━━━━━━━━━━━━━━━\u001b[0m\u001b[37m━━━\u001b[0m \u001b[1m0s\u001b[0m 76ms/step - loss: 2.4908\n",
      "Epoch 71: saving model to FluteWagner.keras\n",
      "\u001b[1m9/9\u001b[0m \u001b[32m━━━━━━━━━━━━━━━━━━━━\u001b[0m\u001b[37m\u001b[0m \u001b[1m1s\u001b[0m 71ms/step - loss: 2.4997\n",
      "Epoch 72/100\n",
      "\u001b[1m8/9\u001b[0m \u001b[32m━━━━━━━━━━━━━━━━━\u001b[0m\u001b[37m━━━\u001b[0m \u001b[1m0s\u001b[0m 79ms/step - loss: 2.5460\n",
      "Epoch 72: saving model to FluteWagner.keras\n",
      "\u001b[1m9/9\u001b[0m \u001b[32m━━━━━━━━━━━━━━━━━━━━\u001b[0m\u001b[37m\u001b[0m \u001b[1m1s\u001b[0m 74ms/step - loss: 2.5467\n",
      "Epoch 73/100\n",
      "\u001b[1m8/9\u001b[0m \u001b[32m━━━━━━━━━━━━━━━━━\u001b[0m\u001b[37m━━━\u001b[0m \u001b[1m0s\u001b[0m 79ms/step - loss: 2.5490\n",
      "Epoch 73: saving model to FluteWagner.keras\n",
      "\u001b[1m9/9\u001b[0m \u001b[32m━━━━━━━━━━━━━━━━━━━━\u001b[0m\u001b[37m\u001b[0m \u001b[1m1s\u001b[0m 73ms/step - loss: 2.5504\n",
      "Epoch 74/100\n",
      "\u001b[1m8/9\u001b[0m \u001b[32m━━━━━━━━━━━━━━━━━\u001b[0m\u001b[37m━━━\u001b[0m \u001b[1m0s\u001b[0m 79ms/step - loss: 2.5629\n",
      "Epoch 74: saving model to FluteWagner.keras\n",
      "\u001b[1m9/9\u001b[0m \u001b[32m━━━━━━━━━━━━━━━━━━━━\u001b[0m\u001b[37m\u001b[0m \u001b[1m1s\u001b[0m 73ms/step - loss: 2.5710\n",
      "Epoch 75/100\n",
      "\u001b[1m8/9\u001b[0m \u001b[32m━━━━━━━━━━━━━━━━━\u001b[0m\u001b[37m━━━\u001b[0m \u001b[1m0s\u001b[0m 80ms/step - loss: 2.5072\n",
      "Epoch 75: saving model to FluteWagner.keras\n",
      "\u001b[1m9/9\u001b[0m \u001b[32m━━━━━━━━━━━━━━━━━━━━\u001b[0m\u001b[37m\u001b[0m \u001b[1m1s\u001b[0m 74ms/step - loss: 2.5015\n",
      "Epoch 76/100\n",
      "\u001b[1m8/9\u001b[0m \u001b[32m━━━━━━━━━━━━━━━━━\u001b[0m\u001b[37m━━━\u001b[0m \u001b[1m0s\u001b[0m 77ms/step - loss: 2.4747\n",
      "Epoch 76: saving model to FluteWagner.keras\n",
      "\u001b[1m9/9\u001b[0m \u001b[32m━━━━━━━━━━━━━━━━━━━━\u001b[0m\u001b[37m\u001b[0m \u001b[1m1s\u001b[0m 72ms/step - loss: 2.4830\n",
      "Epoch 77/100\n",
      "\u001b[1m8/9\u001b[0m \u001b[32m━━━━━━━━━━━━━━━━━\u001b[0m\u001b[37m━━━\u001b[0m \u001b[1m0s\u001b[0m 77ms/step - loss: 2.4314\n",
      "Epoch 77: saving model to FluteWagner.keras\n",
      "\u001b[1m9/9\u001b[0m \u001b[32m━━━━━━━━━━━━━━━━━━━━\u001b[0m\u001b[37m\u001b[0m \u001b[1m1s\u001b[0m 71ms/step - loss: 2.4391\n",
      "Epoch 78/100\n",
      "\u001b[1m8/9\u001b[0m \u001b[32m━━━━━━━━━━━━━━━━━\u001b[0m\u001b[37m━━━\u001b[0m \u001b[1m0s\u001b[0m 77ms/step - loss: 2.4210\n",
      "Epoch 78: saving model to FluteWagner.keras\n",
      "\u001b[1m9/9\u001b[0m \u001b[32m━━━━━━━━━━━━━━━━━━━━\u001b[0m\u001b[37m\u001b[0m \u001b[1m1s\u001b[0m 72ms/step - loss: 2.4263\n",
      "Epoch 79/100\n",
      "\u001b[1m8/9\u001b[0m \u001b[32m━━━━━━━━━━━━━━━━━\u001b[0m\u001b[37m━━━\u001b[0m \u001b[1m0s\u001b[0m 76ms/step - loss: 2.4004\n",
      "Epoch 79: saving model to FluteWagner.keras\n",
      "\u001b[1m9/9\u001b[0m \u001b[32m━━━━━━━━━━━━━━━━━━━━\u001b[0m\u001b[37m\u001b[0m \u001b[1m1s\u001b[0m 71ms/step - loss: 2.4079\n",
      "Epoch 80/100\n",
      "\u001b[1m8/9\u001b[0m \u001b[32m━━━━━━━━━━━━━━━━━\u001b[0m\u001b[37m━━━\u001b[0m \u001b[1m0s\u001b[0m 78ms/step - loss: 2.3331\n",
      "Epoch 80: saving model to FluteWagner.keras\n",
      "\u001b[1m9/9\u001b[0m \u001b[32m━━━━━━━━━━━━━━━━━━━━\u001b[0m\u001b[37m\u001b[0m \u001b[1m1s\u001b[0m 72ms/step - loss: 2.3498\n",
      "Epoch 81/100\n",
      "\u001b[1m8/9\u001b[0m \u001b[32m━━━━━━━━━━━━━━━━━\u001b[0m\u001b[37m━━━\u001b[0m \u001b[1m0s\u001b[0m 78ms/step - loss: 2.3950\n",
      "Epoch 81: saving model to FluteWagner.keras\n",
      "\u001b[1m9/9\u001b[0m \u001b[32m━━━━━━━━━━━━━━━━━━━━\u001b[0m\u001b[37m\u001b[0m \u001b[1m1s\u001b[0m 73ms/step - loss: 2.4019\n",
      "Epoch 82/100\n",
      "\u001b[1m8/9\u001b[0m \u001b[32m━━━━━━━━━━━━━━━━━\u001b[0m\u001b[37m━━━\u001b[0m \u001b[1m0s\u001b[0m 77ms/step - loss: 2.3670\n",
      "Epoch 82: saving model to FluteWagner.keras\n",
      "\u001b[1m9/9\u001b[0m \u001b[32m━━━━━━━━━━━━━━━━━━━━\u001b[0m\u001b[37m\u001b[0m \u001b[1m1s\u001b[0m 72ms/step - loss: 2.3750\n",
      "Epoch 83/100\n",
      "\u001b[1m8/9\u001b[0m \u001b[32m━━━━━━━━━━━━━━━━━\u001b[0m\u001b[37m━━━\u001b[0m \u001b[1m0s\u001b[0m 77ms/step - loss: 2.3252\n",
      "Epoch 83: saving model to FluteWagner.keras\n",
      "\u001b[1m9/9\u001b[0m \u001b[32m━━━━━━━━━━━━━━━━━━━━\u001b[0m\u001b[37m\u001b[0m \u001b[1m1s\u001b[0m 71ms/step - loss: 2.3384\n",
      "Epoch 84/100\n",
      "\u001b[1m8/9\u001b[0m \u001b[32m━━━━━━━━━━━━━━━━━\u001b[0m\u001b[37m━━━\u001b[0m \u001b[1m0s\u001b[0m 78ms/step - loss: 2.3601\n",
      "Epoch 84: saving model to FluteWagner.keras\n",
      "\u001b[1m9/9\u001b[0m \u001b[32m━━━━━━━━━━━━━━━━━━━━\u001b[0m\u001b[37m\u001b[0m \u001b[1m1s\u001b[0m 72ms/step - loss: 2.3625\n",
      "Epoch 85/100\n",
      "\u001b[1m8/9\u001b[0m \u001b[32m━━━━━━━━━━━━━━━━━\u001b[0m\u001b[37m━━━\u001b[0m \u001b[1m0s\u001b[0m 76ms/step - loss: 2.3491\n",
      "Epoch 85: saving model to FluteWagner.keras\n",
      "\u001b[1m9/9\u001b[0m \u001b[32m━━━━━━━━━━━━━━━━━━━━\u001b[0m\u001b[37m\u001b[0m \u001b[1m1s\u001b[0m 71ms/step - loss: 2.3493\n",
      "Epoch 86/100\n",
      "\u001b[1m8/9\u001b[0m \u001b[32m━━━━━━━━━━━━━━━━━\u001b[0m\u001b[37m━━━\u001b[0m \u001b[1m0s\u001b[0m 76ms/step - loss: 2.3026\n",
      "Epoch 86: saving model to FluteWagner.keras\n",
      "\u001b[1m9/9\u001b[0m \u001b[32m━━━━━━━━━━━━━━━━━━━━\u001b[0m\u001b[37m\u001b[0m \u001b[1m1s\u001b[0m 71ms/step - loss: 2.3120\n",
      "Epoch 87/100\n",
      "\u001b[1m8/9\u001b[0m \u001b[32m━━━━━━━━━━━━━━━━━\u001b[0m\u001b[37m━━━\u001b[0m \u001b[1m0s\u001b[0m 76ms/step - loss: 2.3257\n",
      "Epoch 87: saving model to FluteWagner.keras\n",
      "\u001b[1m9/9\u001b[0m \u001b[32m━━━━━━━━━━━━━━━━━━━━\u001b[0m\u001b[37m\u001b[0m \u001b[1m1s\u001b[0m 71ms/step - loss: 2.3313\n",
      "Epoch 88/100\n",
      "\u001b[1m8/9\u001b[0m \u001b[32m━━━━━━━━━━━━━━━━━\u001b[0m\u001b[37m━━━\u001b[0m \u001b[1m0s\u001b[0m 75ms/step - loss: 2.2707\n",
      "Epoch 88: saving model to FluteWagner.keras\n",
      "\u001b[1m9/9\u001b[0m \u001b[32m━━━━━━━━━━━━━━━━━━━━\u001b[0m\u001b[37m\u001b[0m \u001b[1m1s\u001b[0m 71ms/step - loss: 2.2750\n",
      "Epoch 89/100\n",
      "\u001b[1m8/9\u001b[0m \u001b[32m━━━━━━━━━━━━━━━━━\u001b[0m\u001b[37m━━━\u001b[0m \u001b[1m0s\u001b[0m 79ms/step - loss: 2.2100\n",
      "Epoch 89: saving model to FluteWagner.keras\n",
      "\u001b[1m9/9\u001b[0m \u001b[32m━━━━━━━━━━━━━━━━━━━━\u001b[0m\u001b[37m\u001b[0m \u001b[1m1s\u001b[0m 73ms/step - loss: 2.2222\n",
      "Epoch 90/100\n",
      "\u001b[1m8/9\u001b[0m \u001b[32m━━━━━━━━━━━━━━━━━\u001b[0m\u001b[37m━━━\u001b[0m \u001b[1m0s\u001b[0m 79ms/step - loss: 2.3005\n",
      "Epoch 90: saving model to FluteWagner.keras\n",
      "\u001b[1m9/9\u001b[0m \u001b[32m━━━━━━━━━━━━━━━━━━━━\u001b[0m\u001b[37m\u001b[0m \u001b[1m1s\u001b[0m 74ms/step - loss: 2.2944\n",
      "Epoch 91/100\n",
      "\u001b[1m8/9\u001b[0m \u001b[32m━━━━━━━━━━━━━━━━━\u001b[0m\u001b[37m━━━\u001b[0m \u001b[1m0s\u001b[0m 78ms/step - loss: 2.3011\n",
      "Epoch 91: saving model to FluteWagner.keras\n",
      "\u001b[1m9/9\u001b[0m \u001b[32m━━━━━━━━━━━━━━━━━━━━\u001b[0m\u001b[37m\u001b[0m \u001b[1m1s\u001b[0m 72ms/step - loss: 2.2952\n",
      "Epoch 92/100\n",
      "\u001b[1m8/9\u001b[0m \u001b[32m━━━━━━━━━━━━━━━━━\u001b[0m\u001b[37m━━━\u001b[0m \u001b[1m0s\u001b[0m 78ms/step - loss: 2.2303\n",
      "Epoch 92: saving model to FluteWagner.keras\n",
      "\u001b[1m9/9\u001b[0m \u001b[32m━━━━━━━━━━━━━━━━━━━━\u001b[0m\u001b[37m\u001b[0m \u001b[1m1s\u001b[0m 72ms/step - loss: 2.2294\n",
      "Epoch 93/100\n",
      "\u001b[1m8/9\u001b[0m \u001b[32m━━━━━━━━━━━━━━━━━\u001b[0m\u001b[37m━━━\u001b[0m \u001b[1m0s\u001b[0m 76ms/step - loss: 2.1588\n",
      "Epoch 93: saving model to FluteWagner.keras\n",
      "\u001b[1m9/9\u001b[0m \u001b[32m━━━━━━━━━━━━━━━━━━━━\u001b[0m\u001b[37m\u001b[0m \u001b[1m1s\u001b[0m 71ms/step - loss: 2.1611\n",
      "Epoch 94/100\n",
      "\u001b[1m8/9\u001b[0m \u001b[32m━━━━━━━━━━━━━━━━━\u001b[0m\u001b[37m━━━\u001b[0m \u001b[1m0s\u001b[0m 79ms/step - loss: 2.1566\n",
      "Epoch 94: saving model to FluteWagner.keras\n",
      "\u001b[1m9/9\u001b[0m \u001b[32m━━━━━━━━━━━━━━━━━━━━\u001b[0m\u001b[37m\u001b[0m \u001b[1m1s\u001b[0m 73ms/step - loss: 2.1598\n",
      "Epoch 95/100\n",
      "\u001b[1m8/9\u001b[0m \u001b[32m━━━━━━━━━━━━━━━━━\u001b[0m\u001b[37m━━━\u001b[0m \u001b[1m0s\u001b[0m 78ms/step - loss: 2.2041\n",
      "Epoch 95: saving model to FluteWagner.keras\n",
      "\u001b[1m9/9\u001b[0m \u001b[32m━━━━━━━━━━━━━━━━━━━━\u001b[0m\u001b[37m\u001b[0m \u001b[1m1s\u001b[0m 73ms/step - loss: 2.1884\n",
      "Epoch 96/100\n",
      "\u001b[1m8/9\u001b[0m \u001b[32m━━━━━━━━━━━━━━━━━\u001b[0m\u001b[37m━━━\u001b[0m \u001b[1m0s\u001b[0m 79ms/step - loss: 2.0601\n",
      "Epoch 96: saving model to FluteWagner.keras\n",
      "\u001b[1m9/9\u001b[0m \u001b[32m━━━━━━━━━━━━━━━━━━━━\u001b[0m\u001b[37m\u001b[0m \u001b[1m1s\u001b[0m 73ms/step - loss: 2.0637\n",
      "Epoch 97/100\n",
      "\u001b[1m8/9\u001b[0m \u001b[32m━━━━━━━━━━━━━━━━━\u001b[0m\u001b[37m━━━\u001b[0m \u001b[1m0s\u001b[0m 76ms/step - loss: 2.0238\n",
      "Epoch 97: saving model to FluteWagner.keras\n",
      "\u001b[1m9/9\u001b[0m \u001b[32m━━━━━━━━━━━━━━━━━━━━\u001b[0m\u001b[37m\u001b[0m \u001b[1m1s\u001b[0m 72ms/step - loss: 2.0298\n",
      "Epoch 98/100\n",
      "\u001b[1m8/9\u001b[0m \u001b[32m━━━━━━━━━━━━━━━━━\u001b[0m\u001b[37m━━━\u001b[0m \u001b[1m0s\u001b[0m 79ms/step - loss: 2.0263\n",
      "Epoch 98: saving model to FluteWagner.keras\n",
      "\u001b[1m9/9\u001b[0m \u001b[32m━━━━━━━━━━━━━━━━━━━━\u001b[0m\u001b[37m\u001b[0m \u001b[1m1s\u001b[0m 73ms/step - loss: 2.0341\n",
      "Epoch 99/100\n",
      "\u001b[1m8/9\u001b[0m \u001b[32m━━━━━━━━━━━━━━━━━\u001b[0m\u001b[37m━━━\u001b[0m \u001b[1m0s\u001b[0m 79ms/step - loss: 1.9714\n",
      "Epoch 99: saving model to FluteWagner.keras\n",
      "\u001b[1m9/9\u001b[0m \u001b[32m━━━━━━━━━━━━━━━━━━━━\u001b[0m\u001b[37m\u001b[0m \u001b[1m1s\u001b[0m 73ms/step - loss: 1.9793\n",
      "Epoch 100/100\n",
      "\u001b[1m8/9\u001b[0m \u001b[32m━━━━━━━━━━━━━━━━━\u001b[0m\u001b[37m━━━\u001b[0m \u001b[1m0s\u001b[0m 77ms/step - loss: 1.9484\n",
      "Epoch 100: saving model to FluteWagner.keras\n",
      "\u001b[1m9/9\u001b[0m \u001b[32m━━━━━━━━━━━━━━━━━━━━\u001b[0m\u001b[37m\u001b[0m \u001b[1m1s\u001b[0m 74ms/step - loss: 1.9647\n"
     ]
    }
   ],
   "source": [
    "# training\n",
    "if validation:\n",
    "    mc = ModelCheckpoint(model_name, mode='min', verbose=1, save_best_only=True)\n",
    "    history = model.fit(np.array(x_tr),np.array(y_tr),batch_size=128,epochs=epochs, validation_data=(np.array(x_val),np.array(y_val)),verbose=1, callbacks=[mc])\n",
    "else:\n",
    "    mc = ModelCheckpoint(model_name, mode='min', verbose=1)\n",
    "    history = model.fit(np.array(x_seq),np.array(y_seq),batch_size=128,epochs=epochs, verbose=1, callbacks=[mc, tensorboard_callback])\n",
    "    \n",
    "# can stop kernel if loss does not consistently decrease (converges)"
   ]
  },
  {
   "cell_type": "code",
   "execution_count": 25,
   "id": "1bfea518",
   "metadata": {},
   "outputs": [
    {
     "data": {
      "text/html": [
       "\n",
       "      <iframe id=\"tensorboard-frame-f7fb468c71163c1c\" width=\"100%\" height=\"800\" frameborder=\"0\">\n",
       "      </iframe>\n",
       "      <script>\n",
       "        (function() {\n",
       "          const frame = document.getElementById(\"tensorboard-frame-f7fb468c71163c1c\");\n",
       "          const url = new URL(\"/\", window.location);\n",
       "          const port = 6006;\n",
       "          if (port) {\n",
       "            url.port = port;\n",
       "          }\n",
       "          frame.src = url;\n",
       "        })();\n",
       "      </script>\n",
       "    "
      ],
      "text/plain": [
       "<IPython.core.display.HTML object>"
      ]
     },
     "metadata": {},
     "output_type": "display_data"
    }
   ],
   "source": [
    "%tensorboard --logdir logs"
   ]
  }
 ],
 "metadata": {
  "kernelspec": {
   "display_name": "Python 3 (ipykernel)",
   "language": "python",
   "name": "python3"
  },
  "language_info": {
   "codemirror_mode": {
    "name": "ipython",
    "version": 3
   },
   "file_extension": ".py",
   "mimetype": "text/x-python",
   "name": "python",
   "nbconvert_exporter": "python",
   "pygments_lexer": "ipython3",
   "version": "3.11.4"
  },
  "vscode": {
   "interpreter": {
    "hash": "b0fa6594d8f4cbf19f97940f81e996739fb7646882a419484c72d19e05852a7e"
   }
  }
 },
 "nbformat": 4,
 "nbformat_minor": 5
}
